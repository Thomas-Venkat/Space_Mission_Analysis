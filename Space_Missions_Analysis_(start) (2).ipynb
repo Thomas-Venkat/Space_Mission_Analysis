{
  "cells": [
    {
      "cell_type": "markdown",
      "metadata": {
        "id": "ka_FkvXBiABo"
      },
      "source": [
        "# Introduction"
      ]
    },
    {
      "cell_type": "markdown",
      "metadata": {
        "id": "AWaMmfxXa-p0"
      },
      "source": [
        "<center><img src=\"https://i.imgur.com/9hLRsjZ.jpg\" height=400></center>\n",
        "\n",
        "This dataset was scraped from [nextspaceflight.com](https://nextspaceflight.com/launches/past/?page=1) and includes all the space missions since the beginning of Space Race between the USA and the Soviet Union in 1957!"
      ]
    },
    {
      "cell_type": "markdown",
      "metadata": {
        "id": "ufzKRKS3bV0r"
      },
      "source": [
        "### Install Package with Country Codes"
      ]
    },
    {
      "cell_type": "code",
      "execution_count": 1,
      "metadata": {
        "colab": {
          "base_uri": "https://localhost:8080/"
        },
        "id": "0HxV9o6dbRUE",
        "outputId": "31dde87c-747c-466a-c51c-61a03e9cc4e4"
      },
      "outputs": [
        {
          "output_type": "stream",
          "name": "stdout",
          "text": [
            "Collecting pycountry\n",
            "  Downloading pycountry-22.1.10.tar.gz (10.1 MB)\n",
            "\u001b[K     |████████████████████████████████| 10.1 MB 9.8 MB/s \n",
            "\u001b[?25hRequirement already satisfied: setuptools in /usr/local/lib/python3.7/dist-packages (from pycountry) (57.4.0)\n",
            "Building wheels for collected packages: pycountry\n",
            "  Building wheel for pycountry (setup.py) ... \u001b[?25l\u001b[?25hdone\n",
            "  Created wheel for pycountry: filename=pycountry-22.1.10-py2.py3-none-any.whl size=10595784 sha256=eb03dc6e58e78c6637dd15d4e959f1bdc60b7fe9bd2f671a8904174a43a50f8e\n",
            "  Stored in directory: /root/.cache/pip/wheels/f7/8f/9c/b070d7376caf2beb0685bf72578106b2fd57019ed57d84f126\n",
            "Successfully built pycountry\n",
            "Installing collected packages: pycountry\n",
            "Successfully installed pycountry-22.1.10\n"
          ]
        }
      ],
      "source": [
        "%pip install pycountry"
      ]
    },
    {
      "cell_type": "markdown",
      "metadata": {
        "id": "sghkhFoLbof8"
      },
      "source": [
        "### Upgrade Plotly\n",
        "\n",
        "Run the cell below if you are working with Google Colab."
      ]
    },
    {
      "cell_type": "code",
      "execution_count": 2,
      "metadata": {
        "colab": {
          "base_uri": "https://localhost:8080/"
        },
        "id": "gQ61wy9gbmxd",
        "outputId": "3f7654d8-644a-4f7f-8aae-ec7987332b0d"
      },
      "outputs": [
        {
          "output_type": "stream",
          "name": "stdout",
          "text": [
            "Requirement already satisfied: plotly in /usr/local/lib/python3.7/dist-packages (5.5.0)\n",
            "Requirement already satisfied: tenacity>=6.2.0 in /usr/local/lib/python3.7/dist-packages (from plotly) (8.0.1)\n",
            "Requirement already satisfied: six in /usr/local/lib/python3.7/dist-packages (from plotly) (1.15.0)\n"
          ]
        }
      ],
      "source": [
        "%pip install --upgrade plotly"
      ]
    },
    {
      "cell_type": "markdown",
      "metadata": {
        "id": "ErFDBihUi1jN"
      },
      "source": [
        "### Import Statements"
      ]
    },
    {
      "cell_type": "code",
      "execution_count": 3,
      "metadata": {
        "id": "xdolY0-Sa-p1"
      },
      "outputs": [],
      "source": [
        "import numpy as np\n",
        "import pandas as pd\n",
        "import plotly.express as px\n",
        "import matplotlib.pyplot as plt\n",
        "import seaborn as sns\n",
        "\n",
        "# These might be helpful:\n",
        "from pycountry import countries\n",
        "from datetime import datetime, timedelta"
      ]
    },
    {
      "cell_type": "markdown",
      "metadata": {
        "id": "lovGPRgKxIgo"
      },
      "source": [
        "### Notebook Presentation"
      ]
    },
    {
      "cell_type": "code",
      "execution_count": 4,
      "metadata": {
        "id": "DHEULCOjxIIm"
      },
      "outputs": [],
      "source": [
        "pd.options.display.float_format = '{:,.2f}'.format"
      ]
    },
    {
      "cell_type": "markdown",
      "metadata": {
        "id": "yaT3QbjEa-p4"
      },
      "source": [
        "### Load the Data"
      ]
    },
    {
      "cell_type": "code",
      "execution_count": 5,
      "metadata": {
        "id": "0lDOu8aka-p4"
      },
      "outputs": [],
      "source": [
        "df_data = pd.read_csv('/content/mission_launches.csv')"
      ]
    },
    {
      "cell_type": "markdown",
      "metadata": {
        "id": "jAnMiVcVjuKB"
      },
      "source": [
        "# Preliminary Data Exploration\n",
        "\n",
        "* What is the shape of `df_data`? \n",
        "* How many rows and columns does it have?\n",
        "* What are the column names?\n",
        "* Are there any NaN values or duplicates?"
      ]
    },
    {
      "cell_type": "code",
      "execution_count": 6,
      "metadata": {
        "colab": {
          "base_uri": "https://localhost:8080/"
        },
        "id": "0tIuYcYNlPFQ",
        "outputId": "84659f6b-13c6-431b-cc8b-3c71d59cbfd7"
      },
      "outputs": [
        {
          "output_type": "execute_result",
          "data": {
            "text/plain": [
              "(4324, 9)"
            ]
          },
          "metadata": {},
          "execution_count": 6
        }
      ],
      "source": [
        "df_data.shape"
      ]
    },
    {
      "cell_type": "code",
      "execution_count": 7,
      "metadata": {
        "colab": {
          "base_uri": "https://localhost:8080/"
        },
        "id": "0dw2hd9UlPmP",
        "outputId": "9ba1513b-bada-4c39-885a-7c0202e32bd1"
      },
      "outputs": [
        {
          "output_type": "execute_result",
          "data": {
            "text/plain": [
              "Index(['Unnamed: 0', 'Unnamed: 0.1', 'Organisation', 'Location', 'Date',\n",
              "       'Detail', 'Rocket_Status', 'Price', 'Mission_Status'],\n",
              "      dtype='object')"
            ]
          },
          "metadata": {},
          "execution_count": 7
        }
      ],
      "source": [
        "df_data.columns"
      ]
    },
    {
      "cell_type": "markdown",
      "metadata": {
        "id": "KUN30y6ja-p9"
      },
      "source": [
        "## Data Cleaning - Check for Missing Values and Duplicates\n",
        "\n",
        "Consider removing columns containing junk data. "
      ]
    },
    {
      "cell_type": "code",
      "execution_count": 8,
      "metadata": {
        "colab": {
          "base_uri": "https://localhost:8080/",
          "height": 424
        },
        "id": "wWQvnJb0k2Ig",
        "outputId": "ade8d0de-8d5b-46f6-de62-8c5a76ecf394"
      },
      "outputs": [
        {
          "output_type": "execute_result",
          "data": {
            "text/html": [
              "\n",
              "  <div id=\"df-69413db6-d62a-4f55-890c-ce0d9cc17bee\">\n",
              "    <div class=\"colab-df-container\">\n",
              "      <div>\n",
              "<style scoped>\n",
              "    .dataframe tbody tr th:only-of-type {\n",
              "        vertical-align: middle;\n",
              "    }\n",
              "\n",
              "    .dataframe tbody tr th {\n",
              "        vertical-align: top;\n",
              "    }\n",
              "\n",
              "    .dataframe thead th {\n",
              "        text-align: right;\n",
              "    }\n",
              "</style>\n",
              "<table border=\"1\" class=\"dataframe\">\n",
              "  <thead>\n",
              "    <tr style=\"text-align: right;\">\n",
              "      <th></th>\n",
              "      <th>Unnamed: 0</th>\n",
              "      <th>Unnamed: 0.1</th>\n",
              "      <th>Organisation</th>\n",
              "      <th>Location</th>\n",
              "      <th>Date</th>\n",
              "      <th>Detail</th>\n",
              "      <th>Rocket_Status</th>\n",
              "      <th>Price</th>\n",
              "      <th>Mission_Status</th>\n",
              "    </tr>\n",
              "  </thead>\n",
              "  <tbody>\n",
              "    <tr>\n",
              "      <th>0</th>\n",
              "      <td>False</td>\n",
              "      <td>False</td>\n",
              "      <td>False</td>\n",
              "      <td>False</td>\n",
              "      <td>False</td>\n",
              "      <td>False</td>\n",
              "      <td>False</td>\n",
              "      <td>False</td>\n",
              "      <td>False</td>\n",
              "    </tr>\n",
              "    <tr>\n",
              "      <th>1</th>\n",
              "      <td>False</td>\n",
              "      <td>False</td>\n",
              "      <td>False</td>\n",
              "      <td>False</td>\n",
              "      <td>False</td>\n",
              "      <td>False</td>\n",
              "      <td>False</td>\n",
              "      <td>False</td>\n",
              "      <td>False</td>\n",
              "    </tr>\n",
              "    <tr>\n",
              "      <th>2</th>\n",
              "      <td>False</td>\n",
              "      <td>False</td>\n",
              "      <td>False</td>\n",
              "      <td>False</td>\n",
              "      <td>False</td>\n",
              "      <td>False</td>\n",
              "      <td>False</td>\n",
              "      <td>True</td>\n",
              "      <td>False</td>\n",
              "    </tr>\n",
              "    <tr>\n",
              "      <th>3</th>\n",
              "      <td>False</td>\n",
              "      <td>False</td>\n",
              "      <td>False</td>\n",
              "      <td>False</td>\n",
              "      <td>False</td>\n",
              "      <td>False</td>\n",
              "      <td>False</td>\n",
              "      <td>False</td>\n",
              "      <td>False</td>\n",
              "    </tr>\n",
              "    <tr>\n",
              "      <th>4</th>\n",
              "      <td>False</td>\n",
              "      <td>False</td>\n",
              "      <td>False</td>\n",
              "      <td>False</td>\n",
              "      <td>False</td>\n",
              "      <td>False</td>\n",
              "      <td>False</td>\n",
              "      <td>False</td>\n",
              "      <td>False</td>\n",
              "    </tr>\n",
              "    <tr>\n",
              "      <th>...</th>\n",
              "      <td>...</td>\n",
              "      <td>...</td>\n",
              "      <td>...</td>\n",
              "      <td>...</td>\n",
              "      <td>...</td>\n",
              "      <td>...</td>\n",
              "      <td>...</td>\n",
              "      <td>...</td>\n",
              "      <td>...</td>\n",
              "    </tr>\n",
              "    <tr>\n",
              "      <th>4319</th>\n",
              "      <td>False</td>\n",
              "      <td>False</td>\n",
              "      <td>False</td>\n",
              "      <td>False</td>\n",
              "      <td>False</td>\n",
              "      <td>False</td>\n",
              "      <td>False</td>\n",
              "      <td>True</td>\n",
              "      <td>False</td>\n",
              "    </tr>\n",
              "    <tr>\n",
              "      <th>4320</th>\n",
              "      <td>False</td>\n",
              "      <td>False</td>\n",
              "      <td>False</td>\n",
              "      <td>False</td>\n",
              "      <td>False</td>\n",
              "      <td>False</td>\n",
              "      <td>False</td>\n",
              "      <td>True</td>\n",
              "      <td>False</td>\n",
              "    </tr>\n",
              "    <tr>\n",
              "      <th>4321</th>\n",
              "      <td>False</td>\n",
              "      <td>False</td>\n",
              "      <td>False</td>\n",
              "      <td>False</td>\n",
              "      <td>False</td>\n",
              "      <td>False</td>\n",
              "      <td>False</td>\n",
              "      <td>True</td>\n",
              "      <td>False</td>\n",
              "    </tr>\n",
              "    <tr>\n",
              "      <th>4322</th>\n",
              "      <td>False</td>\n",
              "      <td>False</td>\n",
              "      <td>False</td>\n",
              "      <td>False</td>\n",
              "      <td>False</td>\n",
              "      <td>False</td>\n",
              "      <td>False</td>\n",
              "      <td>True</td>\n",
              "      <td>False</td>\n",
              "    </tr>\n",
              "    <tr>\n",
              "      <th>4323</th>\n",
              "      <td>False</td>\n",
              "      <td>False</td>\n",
              "      <td>False</td>\n",
              "      <td>False</td>\n",
              "      <td>False</td>\n",
              "      <td>False</td>\n",
              "      <td>False</td>\n",
              "      <td>True</td>\n",
              "      <td>False</td>\n",
              "    </tr>\n",
              "  </tbody>\n",
              "</table>\n",
              "<p>4324 rows × 9 columns</p>\n",
              "</div>\n",
              "      <button class=\"colab-df-convert\" onclick=\"convertToInteractive('df-69413db6-d62a-4f55-890c-ce0d9cc17bee')\"\n",
              "              title=\"Convert this dataframe to an interactive table.\"\n",
              "              style=\"display:none;\">\n",
              "        \n",
              "  <svg xmlns=\"http://www.w3.org/2000/svg\" height=\"24px\"viewBox=\"0 0 24 24\"\n",
              "       width=\"24px\">\n",
              "    <path d=\"M0 0h24v24H0V0z\" fill=\"none\"/>\n",
              "    <path d=\"M18.56 5.44l.94 2.06.94-2.06 2.06-.94-2.06-.94-.94-2.06-.94 2.06-2.06.94zm-11 1L8.5 8.5l.94-2.06 2.06-.94-2.06-.94L8.5 2.5l-.94 2.06-2.06.94zm10 10l.94 2.06.94-2.06 2.06-.94-2.06-.94-.94-2.06-.94 2.06-2.06.94z\"/><path d=\"M17.41 7.96l-1.37-1.37c-.4-.4-.92-.59-1.43-.59-.52 0-1.04.2-1.43.59L10.3 9.45l-7.72 7.72c-.78.78-.78 2.05 0 2.83L4 21.41c.39.39.9.59 1.41.59.51 0 1.02-.2 1.41-.59l7.78-7.78 2.81-2.81c.8-.78.8-2.07 0-2.86zM5.41 20L4 18.59l7.72-7.72 1.47 1.35L5.41 20z\"/>\n",
              "  </svg>\n",
              "      </button>\n",
              "      \n",
              "  <style>\n",
              "    .colab-df-container {\n",
              "      display:flex;\n",
              "      flex-wrap:wrap;\n",
              "      gap: 12px;\n",
              "    }\n",
              "\n",
              "    .colab-df-convert {\n",
              "      background-color: #E8F0FE;\n",
              "      border: none;\n",
              "      border-radius: 50%;\n",
              "      cursor: pointer;\n",
              "      display: none;\n",
              "      fill: #1967D2;\n",
              "      height: 32px;\n",
              "      padding: 0 0 0 0;\n",
              "      width: 32px;\n",
              "    }\n",
              "\n",
              "    .colab-df-convert:hover {\n",
              "      background-color: #E2EBFA;\n",
              "      box-shadow: 0px 1px 2px rgba(60, 64, 67, 0.3), 0px 1px 3px 1px rgba(60, 64, 67, 0.15);\n",
              "      fill: #174EA6;\n",
              "    }\n",
              "\n",
              "    [theme=dark] .colab-df-convert {\n",
              "      background-color: #3B4455;\n",
              "      fill: #D2E3FC;\n",
              "    }\n",
              "\n",
              "    [theme=dark] .colab-df-convert:hover {\n",
              "      background-color: #434B5C;\n",
              "      box-shadow: 0px 1px 3px 1px rgba(0, 0, 0, 0.15);\n",
              "      filter: drop-shadow(0px 1px 2px rgba(0, 0, 0, 0.3));\n",
              "      fill: #FFFFFF;\n",
              "    }\n",
              "  </style>\n",
              "\n",
              "      <script>\n",
              "        const buttonEl =\n",
              "          document.querySelector('#df-69413db6-d62a-4f55-890c-ce0d9cc17bee button.colab-df-convert');\n",
              "        buttonEl.style.display =\n",
              "          google.colab.kernel.accessAllowed ? 'block' : 'none';\n",
              "\n",
              "        async function convertToInteractive(key) {\n",
              "          const element = document.querySelector('#df-69413db6-d62a-4f55-890c-ce0d9cc17bee');\n",
              "          const dataTable =\n",
              "            await google.colab.kernel.invokeFunction('convertToInteractive',\n",
              "                                                     [key], {});\n",
              "          if (!dataTable) return;\n",
              "\n",
              "          const docLinkHtml = 'Like what you see? Visit the ' +\n",
              "            '<a target=\"_blank\" href=https://colab.research.google.com/notebooks/data_table.ipynb>data table notebook</a>'\n",
              "            + ' to learn more about interactive tables.';\n",
              "          element.innerHTML = '';\n",
              "          dataTable['output_type'] = 'display_data';\n",
              "          await google.colab.output.renderOutput(dataTable, element);\n",
              "          const docLink = document.createElement('div');\n",
              "          docLink.innerHTML = docLinkHtml;\n",
              "          element.appendChild(docLink);\n",
              "        }\n",
              "      </script>\n",
              "    </div>\n",
              "  </div>\n",
              "  "
            ],
            "text/plain": [
              "      Unnamed: 0  Unnamed: 0.1  ...  Price  Mission_Status\n",
              "0          False         False  ...  False           False\n",
              "1          False         False  ...  False           False\n",
              "2          False         False  ...   True           False\n",
              "3          False         False  ...  False           False\n",
              "4          False         False  ...  False           False\n",
              "...          ...           ...  ...    ...             ...\n",
              "4319       False         False  ...   True           False\n",
              "4320       False         False  ...   True           False\n",
              "4321       False         False  ...   True           False\n",
              "4322       False         False  ...   True           False\n",
              "4323       False         False  ...   True           False\n",
              "\n",
              "[4324 rows x 9 columns]"
            ]
          },
          "metadata": {},
          "execution_count": 8
        }
      ],
      "source": [
        "df_data.isna()"
      ]
    },
    {
      "cell_type": "code",
      "execution_count": 9,
      "metadata": {
        "id": "SfxVooCYk2As"
      },
      "outputs": [],
      "source": [
        "df_data.dropna()\n",
        "df_data = df_data.drop(['Unnamed: 0', 'Unnamed: 0.1'], axis=1)"
      ]
    },
    {
      "cell_type": "markdown",
      "metadata": {
        "id": "QHon_T5sa-p_"
      },
      "source": [
        "## Descriptive Statistics"
      ]
    },
    {
      "cell_type": "code",
      "execution_count": 10,
      "metadata": {
        "id": "m65pxugwKz7i"
      },
      "outputs": [],
      "source": [
        "df_data['Date'] = pd.to_datetime(df_data['Date'], utc=True)"
      ]
    },
    {
      "cell_type": "code",
      "execution_count": 11,
      "metadata": {
        "colab": {
          "base_uri": "https://localhost:8080/"
        },
        "id": "9xarnC5CLCzp",
        "outputId": "2040675d-3100-4474-bfb5-0c10da21602d"
      },
      "outputs": [
        {
          "output_type": "stream",
          "name": "stdout",
          "text": [
            "<class 'pandas.core.frame.DataFrame'>\n",
            "RangeIndex: 4324 entries, 0 to 4323\n",
            "Data columns (total 7 columns):\n",
            " #   Column          Non-Null Count  Dtype              \n",
            "---  ------          --------------  -----              \n",
            " 0   Organisation    4324 non-null   object             \n",
            " 1   Location        4324 non-null   object             \n",
            " 2   Date            4324 non-null   datetime64[ns, UTC]\n",
            " 3   Detail          4324 non-null   object             \n",
            " 4   Rocket_Status   4324 non-null   object             \n",
            " 5   Price           964 non-null    object             \n",
            " 6   Mission_Status  4324 non-null   object             \n",
            "dtypes: datetime64[ns, UTC](1), object(6)\n",
            "memory usage: 236.6+ KB\n"
          ]
        }
      ],
      "source": [
        "df_data.info()"
      ]
    },
    {
      "cell_type": "markdown",
      "metadata": {
        "id": "cgCjcpeUkKPW"
      },
      "source": [
        "# Number of Launches per Company\n",
        "\n",
        "Create a chart that shows the number of space mission launches by organisation."
      ]
    },
    {
      "cell_type": "code",
      "execution_count": 12,
      "metadata": {
        "colab": {
          "base_uri": "https://localhost:8080/"
        },
        "id": "rxvcIrtskxYB",
        "outputId": "c7ef417f-c873-4061-ec13-58d6ed855f33"
      },
      "outputs": [
        {
          "output_type": "execute_result",
          "data": {
            "text/plain": [
              "56"
            ]
          },
          "metadata": {},
          "execution_count": 12
        }
      ],
      "source": [
        "df_data.Organisation.nunique()"
      ]
    },
    {
      "cell_type": "code",
      "execution_count": 13,
      "metadata": {
        "colab": {
          "base_uri": "https://localhost:8080/",
          "height": 542
        },
        "id": "qgneHUbWkw5v",
        "outputId": "ecec7314-b2d0-44b2-f40c-62c56889f3bb"
      },
      "outputs": [
        {
          "output_type": "display_data",
          "data": {
            "text/html": [
              "<html>\n",
              "<head><meta charset=\"utf-8\" /></head>\n",
              "<body>\n",
              "    <div>            <script src=\"https://cdnjs.cloudflare.com/ajax/libs/mathjax/2.7.5/MathJax.js?config=TeX-AMS-MML_SVG\"></script><script type=\"text/javascript\">if (window.MathJax) {MathJax.Hub.Config({SVG: {font: \"STIX-Web\"}});}</script>                <script type=\"text/javascript\">window.PlotlyConfig = {MathJaxConfig: 'local'};</script>\n",
              "        <script src=\"https://cdn.plot.ly/plotly-2.8.3.min.js\"></script>                <div id=\"a9729927-293c-40a6-8998-0cfed58378fb\" class=\"plotly-graph-div\" style=\"height:525px; width:100%;\"></div>            <script type=\"text/javascript\">                                    window.PLOTLYENV=window.PLOTLYENV || {};                                    if (document.getElementById(\"a9729927-293c-40a6-8998-0cfed58378fb\")) {                    Plotly.newPlot(                        \"a9729927-293c-40a6-8998-0cfed58378fb\",                        [{\"alignmentgroup\":\"True\",\"hovertemplate\":\"x=%{x}<br>y=%{y}<br>color=%{marker.color}<extra></extra>\",\"legendgroup\":\"\",\"marker\":{\"color\":[1777,279,251,251,203,201,161,140,136,114,100,84,83,79,76,55,46,36,30,22,17,13,13,13,13,12,11,10,9,8,8,7,7,7,5,5,5,4,4,4,3,3,3,2,2,2,1,1,1,1,1,1,1,1,1,1],\"coloraxis\":\"coloraxis\",\"pattern\":{\"shape\":\"\"}},\"name\":\"\",\"offsetgroup\":\"\",\"orientation\":\"v\",\"showlegend\":false,\"textposition\":\"auto\",\"x\":[\"RVSN USSR\",\"Arianespace\",\"General Dynamics\",\"CASC\",\"NASA\",\"VKS RF\",\"US Air Force\",\"ULA\",\"Boeing\",\"Martin Marietta\",\"SpaceX\",\"MHI\",\"Northrop\",\"Lockheed\",\"ISRO\",\"Roscosmos\",\"ILS\",\"Sea Launch\",\"ISAS\",\"Kosmotras\",\"US Navy\",\"Rocket Lab\",\"ESA\",\"Eurockot\",\"ISA\",\"Blue Origin\",\"IAI\",\"ExPace\",\"ASI\",\"CNES\",\"AMBA\",\"JAXA\",\"MITT\",\"Land Launch\",\"KCST\",\"CASIC\",\"UT\",\"Exos\",\"Arm??e de l'Air\",\"CECLES\",\"AEB\",\"SRC\",\"KARI\",\"Yuzhmash\",\"RAE\",\"OKB-586\",\"EER\",\"Khrunichev\",\"Douglas\",\"IRGC\",\"Virgin Orbit\",\"OneSpace\",\"Sandia\",\"Starsem\",\"i-Space\",\"Landspace\"],\"xaxis\":\"x\",\"y\":[1777,279,251,251,203,201,161,140,136,114,100,84,83,79,76,55,46,36,30,22,17,13,13,13,13,12,11,10,9,8,8,7,7,7,5,5,5,4,4,4,3,3,3,2,2,2,1,1,1,1,1,1,1,1,1,1],\"yaxis\":\"y\",\"type\":\"bar\"}],                        {\"template\":{\"data\":{\"bar\":[{\"error_x\":{\"color\":\"#2a3f5f\"},\"error_y\":{\"color\":\"#2a3f5f\"},\"marker\":{\"line\":{\"color\":\"#E5ECF6\",\"width\":0.5},\"pattern\":{\"fillmode\":\"overlay\",\"size\":10,\"solidity\":0.2}},\"type\":\"bar\"}],\"barpolar\":[{\"marker\":{\"line\":{\"color\":\"#E5ECF6\",\"width\":0.5},\"pattern\":{\"fillmode\":\"overlay\",\"size\":10,\"solidity\":0.2}},\"type\":\"barpolar\"}],\"carpet\":[{\"aaxis\":{\"endlinecolor\":\"#2a3f5f\",\"gridcolor\":\"white\",\"linecolor\":\"white\",\"minorgridcolor\":\"white\",\"startlinecolor\":\"#2a3f5f\"},\"baxis\":{\"endlinecolor\":\"#2a3f5f\",\"gridcolor\":\"white\",\"linecolor\":\"white\",\"minorgridcolor\":\"white\",\"startlinecolor\":\"#2a3f5f\"},\"type\":\"carpet\"}],\"choropleth\":[{\"colorbar\":{\"outlinewidth\":0,\"ticks\":\"\"},\"type\":\"choropleth\"}],\"contour\":[{\"colorbar\":{\"outlinewidth\":0,\"ticks\":\"\"},\"colorscale\":[[0.0,\"#0d0887\"],[0.1111111111111111,\"#46039f\"],[0.2222222222222222,\"#7201a8\"],[0.3333333333333333,\"#9c179e\"],[0.4444444444444444,\"#bd3786\"],[0.5555555555555556,\"#d8576b\"],[0.6666666666666666,\"#ed7953\"],[0.7777777777777778,\"#fb9f3a\"],[0.8888888888888888,\"#fdca26\"],[1.0,\"#f0f921\"]],\"type\":\"contour\"}],\"contourcarpet\":[{\"colorbar\":{\"outlinewidth\":0,\"ticks\":\"\"},\"type\":\"contourcarpet\"}],\"heatmap\":[{\"colorbar\":{\"outlinewidth\":0,\"ticks\":\"\"},\"colorscale\":[[0.0,\"#0d0887\"],[0.1111111111111111,\"#46039f\"],[0.2222222222222222,\"#7201a8\"],[0.3333333333333333,\"#9c179e\"],[0.4444444444444444,\"#bd3786\"],[0.5555555555555556,\"#d8576b\"],[0.6666666666666666,\"#ed7953\"],[0.7777777777777778,\"#fb9f3a\"],[0.8888888888888888,\"#fdca26\"],[1.0,\"#f0f921\"]],\"type\":\"heatmap\"}],\"heatmapgl\":[{\"colorbar\":{\"outlinewidth\":0,\"ticks\":\"\"},\"colorscale\":[[0.0,\"#0d0887\"],[0.1111111111111111,\"#46039f\"],[0.2222222222222222,\"#7201a8\"],[0.3333333333333333,\"#9c179e\"],[0.4444444444444444,\"#bd3786\"],[0.5555555555555556,\"#d8576b\"],[0.6666666666666666,\"#ed7953\"],[0.7777777777777778,\"#fb9f3a\"],[0.8888888888888888,\"#fdca26\"],[1.0,\"#f0f921\"]],\"type\":\"heatmapgl\"}],\"histogram\":[{\"marker\":{\"pattern\":{\"fillmode\":\"overlay\",\"size\":10,\"solidity\":0.2}},\"type\":\"histogram\"}],\"histogram2d\":[{\"colorbar\":{\"outlinewidth\":0,\"ticks\":\"\"},\"colorscale\":[[0.0,\"#0d0887\"],[0.1111111111111111,\"#46039f\"],[0.2222222222222222,\"#7201a8\"],[0.3333333333333333,\"#9c179e\"],[0.4444444444444444,\"#bd3786\"],[0.5555555555555556,\"#d8576b\"],[0.6666666666666666,\"#ed7953\"],[0.7777777777777778,\"#fb9f3a\"],[0.8888888888888888,\"#fdca26\"],[1.0,\"#f0f921\"]],\"type\":\"histogram2d\"}],\"histogram2dcontour\":[{\"colorbar\":{\"outlinewidth\":0,\"ticks\":\"\"},\"colorscale\":[[0.0,\"#0d0887\"],[0.1111111111111111,\"#46039f\"],[0.2222222222222222,\"#7201a8\"],[0.3333333333333333,\"#9c179e\"],[0.4444444444444444,\"#bd3786\"],[0.5555555555555556,\"#d8576b\"],[0.6666666666666666,\"#ed7953\"],[0.7777777777777778,\"#fb9f3a\"],[0.8888888888888888,\"#fdca26\"],[1.0,\"#f0f921\"]],\"type\":\"histogram2dcontour\"}],\"mesh3d\":[{\"colorbar\":{\"outlinewidth\":0,\"ticks\":\"\"},\"type\":\"mesh3d\"}],\"parcoords\":[{\"line\":{\"colorbar\":{\"outlinewidth\":0,\"ticks\":\"\"}},\"type\":\"parcoords\"}],\"pie\":[{\"automargin\":true,\"type\":\"pie\"}],\"scatter\":[{\"marker\":{\"colorbar\":{\"outlinewidth\":0,\"ticks\":\"\"}},\"type\":\"scatter\"}],\"scatter3d\":[{\"line\":{\"colorbar\":{\"outlinewidth\":0,\"ticks\":\"\"}},\"marker\":{\"colorbar\":{\"outlinewidth\":0,\"ticks\":\"\"}},\"type\":\"scatter3d\"}],\"scattercarpet\":[{\"marker\":{\"colorbar\":{\"outlinewidth\":0,\"ticks\":\"\"}},\"type\":\"scattercarpet\"}],\"scattergeo\":[{\"marker\":{\"colorbar\":{\"outlinewidth\":0,\"ticks\":\"\"}},\"type\":\"scattergeo\"}],\"scattergl\":[{\"marker\":{\"colorbar\":{\"outlinewidth\":0,\"ticks\":\"\"}},\"type\":\"scattergl\"}],\"scattermapbox\":[{\"marker\":{\"colorbar\":{\"outlinewidth\":0,\"ticks\":\"\"}},\"type\":\"scattermapbox\"}],\"scatterpolar\":[{\"marker\":{\"colorbar\":{\"outlinewidth\":0,\"ticks\":\"\"}},\"type\":\"scatterpolar\"}],\"scatterpolargl\":[{\"marker\":{\"colorbar\":{\"outlinewidth\":0,\"ticks\":\"\"}},\"type\":\"scatterpolargl\"}],\"scatterternary\":[{\"marker\":{\"colorbar\":{\"outlinewidth\":0,\"ticks\":\"\"}},\"type\":\"scatterternary\"}],\"surface\":[{\"colorbar\":{\"outlinewidth\":0,\"ticks\":\"\"},\"colorscale\":[[0.0,\"#0d0887\"],[0.1111111111111111,\"#46039f\"],[0.2222222222222222,\"#7201a8\"],[0.3333333333333333,\"#9c179e\"],[0.4444444444444444,\"#bd3786\"],[0.5555555555555556,\"#d8576b\"],[0.6666666666666666,\"#ed7953\"],[0.7777777777777778,\"#fb9f3a\"],[0.8888888888888888,\"#fdca26\"],[1.0,\"#f0f921\"]],\"type\":\"surface\"}],\"table\":[{\"cells\":{\"fill\":{\"color\":\"#EBF0F8\"},\"line\":{\"color\":\"white\"}},\"header\":{\"fill\":{\"color\":\"#C8D4E3\"},\"line\":{\"color\":\"white\"}},\"type\":\"table\"}]},\"layout\":{\"annotationdefaults\":{\"arrowcolor\":\"#2a3f5f\",\"arrowhead\":0,\"arrowwidth\":1},\"autotypenumbers\":\"strict\",\"coloraxis\":{\"colorbar\":{\"outlinewidth\":0,\"ticks\":\"\"}},\"colorscale\":{\"diverging\":[[0,\"#8e0152\"],[0.1,\"#c51b7d\"],[0.2,\"#de77ae\"],[0.3,\"#f1b6da\"],[0.4,\"#fde0ef\"],[0.5,\"#f7f7f7\"],[0.6,\"#e6f5d0\"],[0.7,\"#b8e186\"],[0.8,\"#7fbc41\"],[0.9,\"#4d9221\"],[1,\"#276419\"]],\"sequential\":[[0.0,\"#0d0887\"],[0.1111111111111111,\"#46039f\"],[0.2222222222222222,\"#7201a8\"],[0.3333333333333333,\"#9c179e\"],[0.4444444444444444,\"#bd3786\"],[0.5555555555555556,\"#d8576b\"],[0.6666666666666666,\"#ed7953\"],[0.7777777777777778,\"#fb9f3a\"],[0.8888888888888888,\"#fdca26\"],[1.0,\"#f0f921\"]],\"sequentialminus\":[[0.0,\"#0d0887\"],[0.1111111111111111,\"#46039f\"],[0.2222222222222222,\"#7201a8\"],[0.3333333333333333,\"#9c179e\"],[0.4444444444444444,\"#bd3786\"],[0.5555555555555556,\"#d8576b\"],[0.6666666666666666,\"#ed7953\"],[0.7777777777777778,\"#fb9f3a\"],[0.8888888888888888,\"#fdca26\"],[1.0,\"#f0f921\"]]},\"colorway\":[\"#636efa\",\"#EF553B\",\"#00cc96\",\"#ab63fa\",\"#FFA15A\",\"#19d3f3\",\"#FF6692\",\"#B6E880\",\"#FF97FF\",\"#FECB52\"],\"font\":{\"color\":\"#2a3f5f\"},\"geo\":{\"bgcolor\":\"white\",\"lakecolor\":\"white\",\"landcolor\":\"#E5ECF6\",\"showlakes\":true,\"showland\":true,\"subunitcolor\":\"white\"},\"hoverlabel\":{\"align\":\"left\"},\"hovermode\":\"closest\",\"mapbox\":{\"style\":\"light\"},\"paper_bgcolor\":\"white\",\"plot_bgcolor\":\"#E5ECF6\",\"polar\":{\"angularaxis\":{\"gridcolor\":\"white\",\"linecolor\":\"white\",\"ticks\":\"\"},\"bgcolor\":\"#E5ECF6\",\"radialaxis\":{\"gridcolor\":\"white\",\"linecolor\":\"white\",\"ticks\":\"\"}},\"scene\":{\"xaxis\":{\"backgroundcolor\":\"#E5ECF6\",\"gridcolor\":\"white\",\"gridwidth\":2,\"linecolor\":\"white\",\"showbackground\":true,\"ticks\":\"\",\"zerolinecolor\":\"white\"},\"yaxis\":{\"backgroundcolor\":\"#E5ECF6\",\"gridcolor\":\"white\",\"gridwidth\":2,\"linecolor\":\"white\",\"showbackground\":true,\"ticks\":\"\",\"zerolinecolor\":\"white\"},\"zaxis\":{\"backgroundcolor\":\"#E5ECF6\",\"gridcolor\":\"white\",\"gridwidth\":2,\"linecolor\":\"white\",\"showbackground\":true,\"ticks\":\"\",\"zerolinecolor\":\"white\"}},\"shapedefaults\":{\"line\":{\"color\":\"#2a3f5f\"}},\"ternary\":{\"aaxis\":{\"gridcolor\":\"white\",\"linecolor\":\"white\",\"ticks\":\"\"},\"baxis\":{\"gridcolor\":\"white\",\"linecolor\":\"white\",\"ticks\":\"\"},\"bgcolor\":\"#E5ECF6\",\"caxis\":{\"gridcolor\":\"white\",\"linecolor\":\"white\",\"ticks\":\"\"}},\"title\":{\"x\":0.05},\"xaxis\":{\"automargin\":true,\"gridcolor\":\"white\",\"linecolor\":\"white\",\"ticks\":\"\",\"title\":{\"standoff\":15},\"zerolinecolor\":\"white\",\"zerolinewidth\":2},\"yaxis\":{\"automargin\":true,\"gridcolor\":\"white\",\"linecolor\":\"white\",\"ticks\":\"\",\"title\":{\"standoff\":15},\"zerolinecolor\":\"white\",\"zerolinewidth\":2}}},\"xaxis\":{\"anchor\":\"y\",\"domain\":[0.0,1.0],\"title\":{\"text\":\"Organisations\"}},\"yaxis\":{\"anchor\":\"x\",\"domain\":[0.0,1.0],\"title\":{\"text\":\"Number of Launches\"}},\"coloraxis\":{\"colorbar\":{\"title\":{\"text\":\"color\"}},\"colorscale\":[[0.0,\"rgb(36, 86, 104)\"],[0.16666666666666666,\"rgb(15, 114, 121)\"],[0.3333333333333333,\"rgb(13, 143, 129)\"],[0.5,\"rgb(57, 171, 126)\"],[0.6666666666666666,\"rgb(110, 197, 116)\"],[0.8333333333333334,\"rgb(169, 220, 103)\"],[1.0,\"rgb(237, 239, 93)\"]],\"showscale\":false},\"legend\":{\"tracegroupgap\":0},\"title\":{\"text\":\"Number of Launches per Organisation\"},\"barmode\":\"relative\"},                        {\"responsive\": true}                    ).then(function(){\n",
              "                            \n",
              "var gd = document.getElementById('a9729927-293c-40a6-8998-0cfed58378fb');\n",
              "var x = new MutationObserver(function (mutations, observer) {{\n",
              "        var display = window.getComputedStyle(gd).display;\n",
              "        if (!display || display === 'none') {{\n",
              "            console.log([gd, 'removed!']);\n",
              "            Plotly.purge(gd);\n",
              "            observer.disconnect();\n",
              "        }}\n",
              "}});\n",
              "\n",
              "// Listen for the removal of the full notebook cells\n",
              "var notebookContainer = gd.closest('#notebook-container');\n",
              "if (notebookContainer) {{\n",
              "    x.observe(notebookContainer, {childList: true});\n",
              "}}\n",
              "\n",
              "// Listen for the clearing of the current output cell\n",
              "var outputEl = gd.closest('.output');\n",
              "if (outputEl) {{\n",
              "    x.observe(outputEl, {childList: true});\n",
              "}}\n",
              "\n",
              "                        })                };                            </script>        </div>\n",
              "</body>\n",
              "</html>"
            ]
          },
          "metadata": {}
        }
      ],
      "source": [
        "launches_per_organisation = df_data.Organisation.value_counts()\n",
        "v_bar = px.bar(\n",
        "        x = launches_per_organisation.index,\n",
        "        y = launches_per_organisation.values,\n",
        "        color = launches_per_organisation.values,\n",
        "        color_continuous_scale='Aggrnyl',\n",
        "        title='Number of Launches per Organisation')\n",
        " \n",
        "v_bar.update_layout(xaxis_title='Organisations', \n",
        "                    coloraxis_showscale=False,\n",
        "                    yaxis_title='Number of Launches')\n",
        "v_bar.show()"
      ]
    },
    {
      "cell_type": "markdown",
      "metadata": {
        "id": "7Gwteht2kR_h"
      },
      "source": [
        "# Number of Active versus Retired Rockets\n",
        "\n",
        "How many rockets are active compared to those that are decomissioned? "
      ]
    },
    {
      "cell_type": "code",
      "execution_count": 14,
      "metadata": {
        "id": "SxmOWS9cmTq6"
      },
      "outputs": [],
      "source": [
        "status_of_rockets = df_data.groupby(['Organisation', 'Rocket_Status'], \n",
        "                               as_index=False).agg({'Price': pd.Series.count})\n",
        "status_of_rockets.sort_values('Price', ascending=False, inplace=True)"
      ]
    },
    {
      "cell_type": "code",
      "execution_count": 15,
      "metadata": {
        "colab": {
          "base_uri": "https://localhost:8080/",
          "height": 542
        },
        "id": "ydj0-OZ6mToH",
        "outputId": "44aca409-57ff-4aab-8cbf-68c4ce1ca042"
      },
      "outputs": [
        {
          "output_type": "display_data",
          "data": {
            "text/html": [
              "<html>\n",
              "<head><meta charset=\"utf-8\" /></head>\n",
              "<body>\n",
              "    <div>            <script src=\"https://cdnjs.cloudflare.com/ajax/libs/mathjax/2.7.5/MathJax.js?config=TeX-AMS-MML_SVG\"></script><script type=\"text/javascript\">if (window.MathJax) {MathJax.Hub.Config({SVG: {font: \"STIX-Web\"}});}</script>                <script type=\"text/javascript\">window.PlotlyConfig = {MathJaxConfig: 'local'};</script>\n",
              "        <script src=\"https://cdn.plot.ly/plotly-2.8.3.min.js\"></script>                <div id=\"f92178f3-f9ad-4c6f-8925-1a5c878e5797\" class=\"plotly-graph-div\" style=\"height:525px; width:100%;\"></div>            <script type=\"text/javascript\">                                    window.PLOTLYENV=window.PLOTLYENV || {};                                    if (document.getElementById(\"f92178f3-f9ad-4c6f-8925-1a5c878e5797\")) {                    Plotly.newPlot(                        \"f92178f3-f9ad-4c6f-8925-1a5c878e5797\",                        [{\"alignmentgroup\":\"True\",\"hovertemplate\":\"color=StatusActive<br>x=%{x}<br>y=%{y}<extra></extra>\",\"legendgroup\":\"StatusActive\",\"marker\":{\"color\":\"#636efa\",\"pattern\":{\"shape\":\"\"}},\"name\":\"StatusActive\",\"offsetgroup\":\"StatusActive\",\"orientation\":\"v\",\"showlegend\":true,\"textposition\":\"auto\",\"x\":[\"CASC\",\"Arianespace\",\"ULA\",\"Northrop\",\"ISRO\",\"SpaceX\",\"MHI\",\"Roscosmos\",\"VKS RF\",\"Rocket Lab\",\"ILS\",\"JAXA\",\"Sandia\",\"ExPace\",\"ESA\",\"Virgin Orbit\",\"Boeing\",\"OneSpace\",\"Sea Launch\",\"AEB\",\"MITT\",\"Blue Origin\",\"CASIC\",\"Exos\",\"IAI\",\"IRGC\",\"ISA\",\"KCST\",\"Khrunichev\",\"Land Launch\",\"i-Space\"],\"xaxis\":\"x\",\"y\":[158,93,86,63,49,37,28,23,15,13,13,3,1,1,1,1,1,0,0,0,0,0,0,0,0,0,0,0,0,0,0],\"yaxis\":\"y\",\"type\":\"bar\"},{\"alignmentgroup\":\"True\",\"hovertemplate\":\"color=StatusRetired<br>x=%{x}<br>y=%{y}<extra></extra>\",\"legendgroup\":\"StatusRetired\",\"marker\":{\"color\":\"#EF553B\",\"pattern\":{\"shape\":\"\"}},\"name\":\"StatusRetired\",\"offsetgroup\":\"StatusRetired\",\"orientation\":\"v\",\"showlegend\":true,\"textposition\":\"auto\",\"x\":[\"NASA\",\"SpaceX\",\"US Air Force\",\"Kosmotras\",\"Northrop\",\"VKS RF\",\"ISRO\",\"Eurockot\",\"ULA\",\"Martin Marietta\",\"MHI\",\"Lockheed\",\"Boeing\",\"Arianespace\",\"RVSN USSR\",\"EER\",\"OKB-586\",\"Yuzhmash\",\"UT\",\"MITT\",\"RAE\",\"US Navy\",\"Starsem\",\"Roscosmos\",\"SRC\",\"KCST\",\"Landspace\",\"ASI\",\"Arm??e de l'Air\",\"CASC\",\"CASIC\",\"CECLES\",\"CNES\",\"Douglas\",\"ESA\",\"General Dynamics\",\"IAI\",\"ILS\",\"ISA\",\"ISAS\",\"JAXA\",\"KARI\",\"AMBA\"],\"xaxis\":\"x\",\"y\":[149,62,26,22,20,18,18,13,12,9,9,8,6,3,2,1,0,0,0,0,0,0,0,0,0,0,0,0,0,0,0,0,0,0,0,0,0,0,0,0,0,0,0],\"yaxis\":\"y\",\"type\":\"bar\"}],                        {\"template\":{\"data\":{\"bar\":[{\"error_x\":{\"color\":\"#2a3f5f\"},\"error_y\":{\"color\":\"#2a3f5f\"},\"marker\":{\"line\":{\"color\":\"#E5ECF6\",\"width\":0.5},\"pattern\":{\"fillmode\":\"overlay\",\"size\":10,\"solidity\":0.2}},\"type\":\"bar\"}],\"barpolar\":[{\"marker\":{\"line\":{\"color\":\"#E5ECF6\",\"width\":0.5},\"pattern\":{\"fillmode\":\"overlay\",\"size\":10,\"solidity\":0.2}},\"type\":\"barpolar\"}],\"carpet\":[{\"aaxis\":{\"endlinecolor\":\"#2a3f5f\",\"gridcolor\":\"white\",\"linecolor\":\"white\",\"minorgridcolor\":\"white\",\"startlinecolor\":\"#2a3f5f\"},\"baxis\":{\"endlinecolor\":\"#2a3f5f\",\"gridcolor\":\"white\",\"linecolor\":\"white\",\"minorgridcolor\":\"white\",\"startlinecolor\":\"#2a3f5f\"},\"type\":\"carpet\"}],\"choropleth\":[{\"colorbar\":{\"outlinewidth\":0,\"ticks\":\"\"},\"type\":\"choropleth\"}],\"contour\":[{\"colorbar\":{\"outlinewidth\":0,\"ticks\":\"\"},\"colorscale\":[[0.0,\"#0d0887\"],[0.1111111111111111,\"#46039f\"],[0.2222222222222222,\"#7201a8\"],[0.3333333333333333,\"#9c179e\"],[0.4444444444444444,\"#bd3786\"],[0.5555555555555556,\"#d8576b\"],[0.6666666666666666,\"#ed7953\"],[0.7777777777777778,\"#fb9f3a\"],[0.8888888888888888,\"#fdca26\"],[1.0,\"#f0f921\"]],\"type\":\"contour\"}],\"contourcarpet\":[{\"colorbar\":{\"outlinewidth\":0,\"ticks\":\"\"},\"type\":\"contourcarpet\"}],\"heatmap\":[{\"colorbar\":{\"outlinewidth\":0,\"ticks\":\"\"},\"colorscale\":[[0.0,\"#0d0887\"],[0.1111111111111111,\"#46039f\"],[0.2222222222222222,\"#7201a8\"],[0.3333333333333333,\"#9c179e\"],[0.4444444444444444,\"#bd3786\"],[0.5555555555555556,\"#d8576b\"],[0.6666666666666666,\"#ed7953\"],[0.7777777777777778,\"#fb9f3a\"],[0.8888888888888888,\"#fdca26\"],[1.0,\"#f0f921\"]],\"type\":\"heatmap\"}],\"heatmapgl\":[{\"colorbar\":{\"outlinewidth\":0,\"ticks\":\"\"},\"colorscale\":[[0.0,\"#0d0887\"],[0.1111111111111111,\"#46039f\"],[0.2222222222222222,\"#7201a8\"],[0.3333333333333333,\"#9c179e\"],[0.4444444444444444,\"#bd3786\"],[0.5555555555555556,\"#d8576b\"],[0.6666666666666666,\"#ed7953\"],[0.7777777777777778,\"#fb9f3a\"],[0.8888888888888888,\"#fdca26\"],[1.0,\"#f0f921\"]],\"type\":\"heatmapgl\"}],\"histogram\":[{\"marker\":{\"pattern\":{\"fillmode\":\"overlay\",\"size\":10,\"solidity\":0.2}},\"type\":\"histogram\"}],\"histogram2d\":[{\"colorbar\":{\"outlinewidth\":0,\"ticks\":\"\"},\"colorscale\":[[0.0,\"#0d0887\"],[0.1111111111111111,\"#46039f\"],[0.2222222222222222,\"#7201a8\"],[0.3333333333333333,\"#9c179e\"],[0.4444444444444444,\"#bd3786\"],[0.5555555555555556,\"#d8576b\"],[0.6666666666666666,\"#ed7953\"],[0.7777777777777778,\"#fb9f3a\"],[0.8888888888888888,\"#fdca26\"],[1.0,\"#f0f921\"]],\"type\":\"histogram2d\"}],\"histogram2dcontour\":[{\"colorbar\":{\"outlinewidth\":0,\"ticks\":\"\"},\"colorscale\":[[0.0,\"#0d0887\"],[0.1111111111111111,\"#46039f\"],[0.2222222222222222,\"#7201a8\"],[0.3333333333333333,\"#9c179e\"],[0.4444444444444444,\"#bd3786\"],[0.5555555555555556,\"#d8576b\"],[0.6666666666666666,\"#ed7953\"],[0.7777777777777778,\"#fb9f3a\"],[0.8888888888888888,\"#fdca26\"],[1.0,\"#f0f921\"]],\"type\":\"histogram2dcontour\"}],\"mesh3d\":[{\"colorbar\":{\"outlinewidth\":0,\"ticks\":\"\"},\"type\":\"mesh3d\"}],\"parcoords\":[{\"line\":{\"colorbar\":{\"outlinewidth\":0,\"ticks\":\"\"}},\"type\":\"parcoords\"}],\"pie\":[{\"automargin\":true,\"type\":\"pie\"}],\"scatter\":[{\"marker\":{\"colorbar\":{\"outlinewidth\":0,\"ticks\":\"\"}},\"type\":\"scatter\"}],\"scatter3d\":[{\"line\":{\"colorbar\":{\"outlinewidth\":0,\"ticks\":\"\"}},\"marker\":{\"colorbar\":{\"outlinewidth\":0,\"ticks\":\"\"}},\"type\":\"scatter3d\"}],\"scattercarpet\":[{\"marker\":{\"colorbar\":{\"outlinewidth\":0,\"ticks\":\"\"}},\"type\":\"scattercarpet\"}],\"scattergeo\":[{\"marker\":{\"colorbar\":{\"outlinewidth\":0,\"ticks\":\"\"}},\"type\":\"scattergeo\"}],\"scattergl\":[{\"marker\":{\"colorbar\":{\"outlinewidth\":0,\"ticks\":\"\"}},\"type\":\"scattergl\"}],\"scattermapbox\":[{\"marker\":{\"colorbar\":{\"outlinewidth\":0,\"ticks\":\"\"}},\"type\":\"scattermapbox\"}],\"scatterpolar\":[{\"marker\":{\"colorbar\":{\"outlinewidth\":0,\"ticks\":\"\"}},\"type\":\"scatterpolar\"}],\"scatterpolargl\":[{\"marker\":{\"colorbar\":{\"outlinewidth\":0,\"ticks\":\"\"}},\"type\":\"scatterpolargl\"}],\"scatterternary\":[{\"marker\":{\"colorbar\":{\"outlinewidth\":0,\"ticks\":\"\"}},\"type\":\"scatterternary\"}],\"surface\":[{\"colorbar\":{\"outlinewidth\":0,\"ticks\":\"\"},\"colorscale\":[[0.0,\"#0d0887\"],[0.1111111111111111,\"#46039f\"],[0.2222222222222222,\"#7201a8\"],[0.3333333333333333,\"#9c179e\"],[0.4444444444444444,\"#bd3786\"],[0.5555555555555556,\"#d8576b\"],[0.6666666666666666,\"#ed7953\"],[0.7777777777777778,\"#fb9f3a\"],[0.8888888888888888,\"#fdca26\"],[1.0,\"#f0f921\"]],\"type\":\"surface\"}],\"table\":[{\"cells\":{\"fill\":{\"color\":\"#EBF0F8\"},\"line\":{\"color\":\"white\"}},\"header\":{\"fill\":{\"color\":\"#C8D4E3\"},\"line\":{\"color\":\"white\"}},\"type\":\"table\"}]},\"layout\":{\"annotationdefaults\":{\"arrowcolor\":\"#2a3f5f\",\"arrowhead\":0,\"arrowwidth\":1},\"autotypenumbers\":\"strict\",\"coloraxis\":{\"colorbar\":{\"outlinewidth\":0,\"ticks\":\"\"}},\"colorscale\":{\"diverging\":[[0,\"#8e0152\"],[0.1,\"#c51b7d\"],[0.2,\"#de77ae\"],[0.3,\"#f1b6da\"],[0.4,\"#fde0ef\"],[0.5,\"#f7f7f7\"],[0.6,\"#e6f5d0\"],[0.7,\"#b8e186\"],[0.8,\"#7fbc41\"],[0.9,\"#4d9221\"],[1,\"#276419\"]],\"sequential\":[[0.0,\"#0d0887\"],[0.1111111111111111,\"#46039f\"],[0.2222222222222222,\"#7201a8\"],[0.3333333333333333,\"#9c179e\"],[0.4444444444444444,\"#bd3786\"],[0.5555555555555556,\"#d8576b\"],[0.6666666666666666,\"#ed7953\"],[0.7777777777777778,\"#fb9f3a\"],[0.8888888888888888,\"#fdca26\"],[1.0,\"#f0f921\"]],\"sequentialminus\":[[0.0,\"#0d0887\"],[0.1111111111111111,\"#46039f\"],[0.2222222222222222,\"#7201a8\"],[0.3333333333333333,\"#9c179e\"],[0.4444444444444444,\"#bd3786\"],[0.5555555555555556,\"#d8576b\"],[0.6666666666666666,\"#ed7953\"],[0.7777777777777778,\"#fb9f3a\"],[0.8888888888888888,\"#fdca26\"],[1.0,\"#f0f921\"]]},\"colorway\":[\"#636efa\",\"#EF553B\",\"#00cc96\",\"#ab63fa\",\"#FFA15A\",\"#19d3f3\",\"#FF6692\",\"#B6E880\",\"#FF97FF\",\"#FECB52\"],\"font\":{\"color\":\"#2a3f5f\"},\"geo\":{\"bgcolor\":\"white\",\"lakecolor\":\"white\",\"landcolor\":\"#E5ECF6\",\"showlakes\":true,\"showland\":true,\"subunitcolor\":\"white\"},\"hoverlabel\":{\"align\":\"left\"},\"hovermode\":\"closest\",\"mapbox\":{\"style\":\"light\"},\"paper_bgcolor\":\"white\",\"plot_bgcolor\":\"#E5ECF6\",\"polar\":{\"angularaxis\":{\"gridcolor\":\"white\",\"linecolor\":\"white\",\"ticks\":\"\"},\"bgcolor\":\"#E5ECF6\",\"radialaxis\":{\"gridcolor\":\"white\",\"linecolor\":\"white\",\"ticks\":\"\"}},\"scene\":{\"xaxis\":{\"backgroundcolor\":\"#E5ECF6\",\"gridcolor\":\"white\",\"gridwidth\":2,\"linecolor\":\"white\",\"showbackground\":true,\"ticks\":\"\",\"zerolinecolor\":\"white\"},\"yaxis\":{\"backgroundcolor\":\"#E5ECF6\",\"gridcolor\":\"white\",\"gridwidth\":2,\"linecolor\":\"white\",\"showbackground\":true,\"ticks\":\"\",\"zerolinecolor\":\"white\"},\"zaxis\":{\"backgroundcolor\":\"#E5ECF6\",\"gridcolor\":\"white\",\"gridwidth\":2,\"linecolor\":\"white\",\"showbackground\":true,\"ticks\":\"\",\"zerolinecolor\":\"white\"}},\"shapedefaults\":{\"line\":{\"color\":\"#2a3f5f\"}},\"ternary\":{\"aaxis\":{\"gridcolor\":\"white\",\"linecolor\":\"white\",\"ticks\":\"\"},\"baxis\":{\"gridcolor\":\"white\",\"linecolor\":\"white\",\"ticks\":\"\"},\"bgcolor\":\"#E5ECF6\",\"caxis\":{\"gridcolor\":\"white\",\"linecolor\":\"white\",\"ticks\":\"\"}},\"title\":{\"x\":0.05},\"xaxis\":{\"automargin\":true,\"gridcolor\":\"white\",\"linecolor\":\"white\",\"ticks\":\"\",\"title\":{\"standoff\":15},\"zerolinecolor\":\"white\",\"zerolinewidth\":2},\"yaxis\":{\"automargin\":true,\"gridcolor\":\"white\",\"linecolor\":\"white\",\"ticks\":\"\",\"title\":{\"standoff\":15},\"zerolinecolor\":\"white\",\"zerolinewidth\":2}}},\"xaxis\":{\"anchor\":\"y\",\"domain\":[0.0,1.0],\"title\":{\"text\":\"Name of the Organisations\"}},\"yaxis\":{\"anchor\":\"x\",\"domain\":[0.0,1.0],\"title\":{\"text\":\"Number of Launches\"}},\"legend\":{\"title\":{\"text\":\"color\"},\"tracegroupgap\":0},\"title\":{\"text\":\"Number of Launches per Organisation split by Active and Retired Rockets\"},\"barmode\":\"relative\"},                        {\"responsive\": true}                    ).then(function(){\n",
              "                            \n",
              "var gd = document.getElementById('f92178f3-f9ad-4c6f-8925-1a5c878e5797');\n",
              "var x = new MutationObserver(function (mutations, observer) {{\n",
              "        var display = window.getComputedStyle(gd).display;\n",
              "        if (!display || display === 'none') {{\n",
              "            console.log([gd, 'removed!']);\n",
              "            Plotly.purge(gd);\n",
              "            observer.disconnect();\n",
              "        }}\n",
              "}});\n",
              "\n",
              "// Listen for the removal of the full notebook cells\n",
              "var notebookContainer = gd.closest('#notebook-container');\n",
              "if (notebookContainer) {{\n",
              "    x.observe(notebookContainer, {childList: true});\n",
              "}}\n",
              "\n",
              "// Listen for the clearing of the current output cell\n",
              "var outputEl = gd.closest('.output');\n",
              "if (outputEl) {{\n",
              "    x.observe(outputEl, {childList: true});\n",
              "}}\n",
              "\n",
              "                        })                };                            </script>        </div>\n",
              "</body>\n",
              "</html>"
            ]
          },
          "metadata": {}
        }
      ],
      "source": [
        "v_bar_split = px.bar(x = status_of_rockets.Organisation,\n",
        "                     y = status_of_rockets.Price,\n",
        "                     color = status_of_rockets.Rocket_Status,\n",
        "                     title='Number of Launches per Organisation split by Active and Retired Rockets')\n",
        " \n",
        "v_bar_split.update_layout(xaxis_title='Name of the Organisations', \n",
        "                          yaxis_title='Number of Launches')\n",
        "v_bar_split.show()"
      ]
    },
    {
      "cell_type": "markdown",
      "metadata": {
        "id": "y9WtP5xWkYkp"
      },
      "source": [
        "# Distribution of Mission Status\n",
        "\n",
        "How many missions were successful?\n",
        "How many missions failed?"
      ]
    },
    {
      "cell_type": "code",
      "execution_count": 16,
      "metadata": {
        "id": "83kY1alqmUhb"
      },
      "outputs": [],
      "source": [
        "status_of_mission = df_data.groupby(['Organisation', 'Mission_Status'], \n",
        "                               as_index=False).agg({'Price': pd.Series.count})\n",
        "status_of_mission.sort_values('Price', ascending=False, inplace=True)"
      ]
    },
    {
      "cell_type": "code",
      "execution_count": 17,
      "metadata": {
        "colab": {
          "base_uri": "https://localhost:8080/",
          "height": 542
        },
        "id": "bdmXcaopmUeZ",
        "outputId": "e387c49f-b364-4d53-baf6-8ceac91a80f0"
      },
      "outputs": [
        {
          "output_type": "display_data",
          "data": {
            "text/html": [
              "<html>\n",
              "<head><meta charset=\"utf-8\" /></head>\n",
              "<body>\n",
              "    <div>            <script src=\"https://cdnjs.cloudflare.com/ajax/libs/mathjax/2.7.5/MathJax.js?config=TeX-AMS-MML_SVG\"></script><script type=\"text/javascript\">if (window.MathJax) {MathJax.Hub.Config({SVG: {font: \"STIX-Web\"}});}</script>                <script type=\"text/javascript\">window.PlotlyConfig = {MathJaxConfig: 'local'};</script>\n",
              "        <script src=\"https://cdn.plot.ly/plotly-2.8.3.min.js\"></script>                <div id=\"ad50fd25-30ec-4421-99d0-73eec9699412\" class=\"plotly-graph-div\" style=\"height:525px; width:100%;\"></div>            <script type=\"text/javascript\">                                    window.PLOTLYENV=window.PLOTLYENV || {};                                    if (document.getElementById(\"ad50fd25-30ec-4421-99d0-73eec9699412\")) {                    Plotly.newPlot(                        \"ad50fd25-30ec-4421-99d0-73eec9699412\",                        [{\"alignmentgroup\":\"True\",\"hovertemplate\":\"color=Success<br>x=%{x}<br>y=%{y}<extra></extra>\",\"legendgroup\":\"Success\",\"marker\":{\"color\":\"#636efa\",\"pattern\":{\"shape\":\"\"}},\"name\":\"Success\",\"offsetgroup\":\"Success\",\"orientation\":\"v\",\"showlegend\":true,\"textposition\":\"auto\",\"x\":[\"CASC\",\"NASA\",\"ULA\",\"Arianespace\",\"SpaceX\",\"Northrop\",\"ISRO\",\"MHI\",\"VKS RF\",\"US Air Force\",\"Roscosmos\",\"Kosmotras\",\"ILS\",\"Eurockot\",\"Rocket Lab\",\"Lockheed\",\"Martin Marietta\",\"Boeing\",\"JAXA\",\"RVSN USSR\",\"ESA\",\"OKB-586\",\"UT\",\"US Navy\",\"Yuzhmash\",\"RAE\",\"SRC\",\"Starsem\",\"MITT\",\"Sea Launch\",\"ExPace\",\"Douglas\",\"CNES\",\"CECLES\",\"CASIC\",\"Blue Origin\",\"Arm??e de l'Air\",\"ASI\",\"AMBA\",\"General Dynamics\",\"KARI\",\"Land Launch\",\"Khrunichev\",\"KCST\",\"IAI\",\"ISAS\",\"ISA\",\"IRGC\",\"i-Space\"],\"xaxis\":\"x\",\"y\":[152,146,97,93,93,74,59,37,30,23,22,21,13,12,11,8,7,6,3,2,1,0,0,0,0,0,0,0,0,0,0,0,0,0,0,0,0,0,0,0,0,0,0,0,0,0,0,0,0],\"yaxis\":\"y\",\"type\":\"bar\"},{\"alignmentgroup\":\"True\",\"hovertemplate\":\"color=Failure<br>x=%{x}<br>y=%{y}<extra></extra>\",\"legendgroup\":\"Failure\",\"marker\":{\"color\":\"#EF553B\",\"pattern\":{\"shape\":\"\"}},\"name\":\"Failure\",\"offsetgroup\":\"Failure\",\"orientation\":\"v\",\"showlegend\":true,\"textposition\":\"auto\",\"x\":[\"Northrop\",\"ISRO\",\"SpaceX\",\"CASC\",\"Rocket Lab\",\"Martin Marietta\",\"US Air Force\",\"NASA\",\"Arianespace\",\"Sandia\",\"Kosmotras\",\"Eurockot\",\"EER\",\"VKS RF\",\"ExPace\",\"Virgin Orbit\",\"UT\",\"US Navy\",\"Sea Launch\",\"OneSpace\",\"RAE\",\"RVSN USSR\",\"Roscosmos\",\"SRC\",\"AEB\",\"MITT\",\"General Dynamics\",\"Exos\",\"ESA\",\"CNES\",\"CECLES\",\"CASIC\",\"Boeing\",\"AMBA\",\"IAI\",\"MHI\",\"Lockheed\",\"Landspace\",\"KCST\",\"KARI\",\"JAXA\",\"ISAS\",\"ISA\"],\"xaxis\":\"x\",\"y\":[7,5,4,3,2,2,2,2,2,1,1,1,1,1,1,1,0,0,0,0,0,0,0,0,0,0,0,0,0,0,0,0,0,0,0,0,0,0,0,0,0,0,0],\"yaxis\":\"y\",\"type\":\"bar\"},{\"alignmentgroup\":\"True\",\"hovertemplate\":\"color=Partial Failure<br>x=%{x}<br>y=%{y}<extra></extra>\",\"legendgroup\":\"Partial Failure\",\"marker\":{\"color\":\"#00cc96\",\"pattern\":{\"shape\":\"\"}},\"name\":\"Partial Failure\",\"offsetgroup\":\"Partial Failure\",\"orientation\":\"v\",\"showlegend\":true,\"textposition\":\"auto\",\"x\":[\"CASC\",\"ISRO\",\"VKS RF\",\"Northrop\",\"NASA\",\"Roscosmos\",\"US Air Force\",\"Boeing\",\"ULA\",\"Arianespace\",\"SpaceX\",\"Martin Marietta\",\"US Navy\",\"RVSN USSR\",\"MHI\",\"Exos\",\"ESA\",\"Arm??e de l'Air\",\"AMBA\",\"General Dynamics\",\"Land Launch\",\"ISAS\",\"ILS\"],\"xaxis\":\"x\",\"y\":[3,3,2,2,1,1,1,1,1,1,1,0,0,0,0,0,0,0,0,0,0,0,0],\"yaxis\":\"y\",\"type\":\"bar\"},{\"alignmentgroup\":\"True\",\"hovertemplate\":\"color=Prelaunch Failure<br>x=%{x}<br>y=%{y}<extra></extra>\",\"legendgroup\":\"Prelaunch Failure\",\"marker\":{\"color\":\"#ab63fa\",\"pattern\":{\"shape\":\"\"}},\"name\":\"Prelaunch Failure\",\"offsetgroup\":\"Prelaunch Failure\",\"orientation\":\"v\",\"showlegend\":true,\"textposition\":\"auto\",\"x\":[\"SpaceX\",\"RVSN USSR\",\"AEB\",\"ISA\"],\"xaxis\":\"x\",\"y\":[1,0,0,0],\"yaxis\":\"y\",\"type\":\"bar\"}],                        {\"template\":{\"data\":{\"bar\":[{\"error_x\":{\"color\":\"#2a3f5f\"},\"error_y\":{\"color\":\"#2a3f5f\"},\"marker\":{\"line\":{\"color\":\"#E5ECF6\",\"width\":0.5},\"pattern\":{\"fillmode\":\"overlay\",\"size\":10,\"solidity\":0.2}},\"type\":\"bar\"}],\"barpolar\":[{\"marker\":{\"line\":{\"color\":\"#E5ECF6\",\"width\":0.5},\"pattern\":{\"fillmode\":\"overlay\",\"size\":10,\"solidity\":0.2}},\"type\":\"barpolar\"}],\"carpet\":[{\"aaxis\":{\"endlinecolor\":\"#2a3f5f\",\"gridcolor\":\"white\",\"linecolor\":\"white\",\"minorgridcolor\":\"white\",\"startlinecolor\":\"#2a3f5f\"},\"baxis\":{\"endlinecolor\":\"#2a3f5f\",\"gridcolor\":\"white\",\"linecolor\":\"white\",\"minorgridcolor\":\"white\",\"startlinecolor\":\"#2a3f5f\"},\"type\":\"carpet\"}],\"choropleth\":[{\"colorbar\":{\"outlinewidth\":0,\"ticks\":\"\"},\"type\":\"choropleth\"}],\"contour\":[{\"colorbar\":{\"outlinewidth\":0,\"ticks\":\"\"},\"colorscale\":[[0.0,\"#0d0887\"],[0.1111111111111111,\"#46039f\"],[0.2222222222222222,\"#7201a8\"],[0.3333333333333333,\"#9c179e\"],[0.4444444444444444,\"#bd3786\"],[0.5555555555555556,\"#d8576b\"],[0.6666666666666666,\"#ed7953\"],[0.7777777777777778,\"#fb9f3a\"],[0.8888888888888888,\"#fdca26\"],[1.0,\"#f0f921\"]],\"type\":\"contour\"}],\"contourcarpet\":[{\"colorbar\":{\"outlinewidth\":0,\"ticks\":\"\"},\"type\":\"contourcarpet\"}],\"heatmap\":[{\"colorbar\":{\"outlinewidth\":0,\"ticks\":\"\"},\"colorscale\":[[0.0,\"#0d0887\"],[0.1111111111111111,\"#46039f\"],[0.2222222222222222,\"#7201a8\"],[0.3333333333333333,\"#9c179e\"],[0.4444444444444444,\"#bd3786\"],[0.5555555555555556,\"#d8576b\"],[0.6666666666666666,\"#ed7953\"],[0.7777777777777778,\"#fb9f3a\"],[0.8888888888888888,\"#fdca26\"],[1.0,\"#f0f921\"]],\"type\":\"heatmap\"}],\"heatmapgl\":[{\"colorbar\":{\"outlinewidth\":0,\"ticks\":\"\"},\"colorscale\":[[0.0,\"#0d0887\"],[0.1111111111111111,\"#46039f\"],[0.2222222222222222,\"#7201a8\"],[0.3333333333333333,\"#9c179e\"],[0.4444444444444444,\"#bd3786\"],[0.5555555555555556,\"#d8576b\"],[0.6666666666666666,\"#ed7953\"],[0.7777777777777778,\"#fb9f3a\"],[0.8888888888888888,\"#fdca26\"],[1.0,\"#f0f921\"]],\"type\":\"heatmapgl\"}],\"histogram\":[{\"marker\":{\"pattern\":{\"fillmode\":\"overlay\",\"size\":10,\"solidity\":0.2}},\"type\":\"histogram\"}],\"histogram2d\":[{\"colorbar\":{\"outlinewidth\":0,\"ticks\":\"\"},\"colorscale\":[[0.0,\"#0d0887\"],[0.1111111111111111,\"#46039f\"],[0.2222222222222222,\"#7201a8\"],[0.3333333333333333,\"#9c179e\"],[0.4444444444444444,\"#bd3786\"],[0.5555555555555556,\"#d8576b\"],[0.6666666666666666,\"#ed7953\"],[0.7777777777777778,\"#fb9f3a\"],[0.8888888888888888,\"#fdca26\"],[1.0,\"#f0f921\"]],\"type\":\"histogram2d\"}],\"histogram2dcontour\":[{\"colorbar\":{\"outlinewidth\":0,\"ticks\":\"\"},\"colorscale\":[[0.0,\"#0d0887\"],[0.1111111111111111,\"#46039f\"],[0.2222222222222222,\"#7201a8\"],[0.3333333333333333,\"#9c179e\"],[0.4444444444444444,\"#bd3786\"],[0.5555555555555556,\"#d8576b\"],[0.6666666666666666,\"#ed7953\"],[0.7777777777777778,\"#fb9f3a\"],[0.8888888888888888,\"#fdca26\"],[1.0,\"#f0f921\"]],\"type\":\"histogram2dcontour\"}],\"mesh3d\":[{\"colorbar\":{\"outlinewidth\":0,\"ticks\":\"\"},\"type\":\"mesh3d\"}],\"parcoords\":[{\"line\":{\"colorbar\":{\"outlinewidth\":0,\"ticks\":\"\"}},\"type\":\"parcoords\"}],\"pie\":[{\"automargin\":true,\"type\":\"pie\"}],\"scatter\":[{\"marker\":{\"colorbar\":{\"outlinewidth\":0,\"ticks\":\"\"}},\"type\":\"scatter\"}],\"scatter3d\":[{\"line\":{\"colorbar\":{\"outlinewidth\":0,\"ticks\":\"\"}},\"marker\":{\"colorbar\":{\"outlinewidth\":0,\"ticks\":\"\"}},\"type\":\"scatter3d\"}],\"scattercarpet\":[{\"marker\":{\"colorbar\":{\"outlinewidth\":0,\"ticks\":\"\"}},\"type\":\"scattercarpet\"}],\"scattergeo\":[{\"marker\":{\"colorbar\":{\"outlinewidth\":0,\"ticks\":\"\"}},\"type\":\"scattergeo\"}],\"scattergl\":[{\"marker\":{\"colorbar\":{\"outlinewidth\":0,\"ticks\":\"\"}},\"type\":\"scattergl\"}],\"scattermapbox\":[{\"marker\":{\"colorbar\":{\"outlinewidth\":0,\"ticks\":\"\"}},\"type\":\"scattermapbox\"}],\"scatterpolar\":[{\"marker\":{\"colorbar\":{\"outlinewidth\":0,\"ticks\":\"\"}},\"type\":\"scatterpolar\"}],\"scatterpolargl\":[{\"marker\":{\"colorbar\":{\"outlinewidth\":0,\"ticks\":\"\"}},\"type\":\"scatterpolargl\"}],\"scatterternary\":[{\"marker\":{\"colorbar\":{\"outlinewidth\":0,\"ticks\":\"\"}},\"type\":\"scatterternary\"}],\"surface\":[{\"colorbar\":{\"outlinewidth\":0,\"ticks\":\"\"},\"colorscale\":[[0.0,\"#0d0887\"],[0.1111111111111111,\"#46039f\"],[0.2222222222222222,\"#7201a8\"],[0.3333333333333333,\"#9c179e\"],[0.4444444444444444,\"#bd3786\"],[0.5555555555555556,\"#d8576b\"],[0.6666666666666666,\"#ed7953\"],[0.7777777777777778,\"#fb9f3a\"],[0.8888888888888888,\"#fdca26\"],[1.0,\"#f0f921\"]],\"type\":\"surface\"}],\"table\":[{\"cells\":{\"fill\":{\"color\":\"#EBF0F8\"},\"line\":{\"color\":\"white\"}},\"header\":{\"fill\":{\"color\":\"#C8D4E3\"},\"line\":{\"color\":\"white\"}},\"type\":\"table\"}]},\"layout\":{\"annotationdefaults\":{\"arrowcolor\":\"#2a3f5f\",\"arrowhead\":0,\"arrowwidth\":1},\"autotypenumbers\":\"strict\",\"coloraxis\":{\"colorbar\":{\"outlinewidth\":0,\"ticks\":\"\"}},\"colorscale\":{\"diverging\":[[0,\"#8e0152\"],[0.1,\"#c51b7d\"],[0.2,\"#de77ae\"],[0.3,\"#f1b6da\"],[0.4,\"#fde0ef\"],[0.5,\"#f7f7f7\"],[0.6,\"#e6f5d0\"],[0.7,\"#b8e186\"],[0.8,\"#7fbc41\"],[0.9,\"#4d9221\"],[1,\"#276419\"]],\"sequential\":[[0.0,\"#0d0887\"],[0.1111111111111111,\"#46039f\"],[0.2222222222222222,\"#7201a8\"],[0.3333333333333333,\"#9c179e\"],[0.4444444444444444,\"#bd3786\"],[0.5555555555555556,\"#d8576b\"],[0.6666666666666666,\"#ed7953\"],[0.7777777777777778,\"#fb9f3a\"],[0.8888888888888888,\"#fdca26\"],[1.0,\"#f0f921\"]],\"sequentialminus\":[[0.0,\"#0d0887\"],[0.1111111111111111,\"#46039f\"],[0.2222222222222222,\"#7201a8\"],[0.3333333333333333,\"#9c179e\"],[0.4444444444444444,\"#bd3786\"],[0.5555555555555556,\"#d8576b\"],[0.6666666666666666,\"#ed7953\"],[0.7777777777777778,\"#fb9f3a\"],[0.8888888888888888,\"#fdca26\"],[1.0,\"#f0f921\"]]},\"colorway\":[\"#636efa\",\"#EF553B\",\"#00cc96\",\"#ab63fa\",\"#FFA15A\",\"#19d3f3\",\"#FF6692\",\"#B6E880\",\"#FF97FF\",\"#FECB52\"],\"font\":{\"color\":\"#2a3f5f\"},\"geo\":{\"bgcolor\":\"white\",\"lakecolor\":\"white\",\"landcolor\":\"#E5ECF6\",\"showlakes\":true,\"showland\":true,\"subunitcolor\":\"white\"},\"hoverlabel\":{\"align\":\"left\"},\"hovermode\":\"closest\",\"mapbox\":{\"style\":\"light\"},\"paper_bgcolor\":\"white\",\"plot_bgcolor\":\"#E5ECF6\",\"polar\":{\"angularaxis\":{\"gridcolor\":\"white\",\"linecolor\":\"white\",\"ticks\":\"\"},\"bgcolor\":\"#E5ECF6\",\"radialaxis\":{\"gridcolor\":\"white\",\"linecolor\":\"white\",\"ticks\":\"\"}},\"scene\":{\"xaxis\":{\"backgroundcolor\":\"#E5ECF6\",\"gridcolor\":\"white\",\"gridwidth\":2,\"linecolor\":\"white\",\"showbackground\":true,\"ticks\":\"\",\"zerolinecolor\":\"white\"},\"yaxis\":{\"backgroundcolor\":\"#E5ECF6\",\"gridcolor\":\"white\",\"gridwidth\":2,\"linecolor\":\"white\",\"showbackground\":true,\"ticks\":\"\",\"zerolinecolor\":\"white\"},\"zaxis\":{\"backgroundcolor\":\"#E5ECF6\",\"gridcolor\":\"white\",\"gridwidth\":2,\"linecolor\":\"white\",\"showbackground\":true,\"ticks\":\"\",\"zerolinecolor\":\"white\"}},\"shapedefaults\":{\"line\":{\"color\":\"#2a3f5f\"}},\"ternary\":{\"aaxis\":{\"gridcolor\":\"white\",\"linecolor\":\"white\",\"ticks\":\"\"},\"baxis\":{\"gridcolor\":\"white\",\"linecolor\":\"white\",\"ticks\":\"\"},\"bgcolor\":\"#E5ECF6\",\"caxis\":{\"gridcolor\":\"white\",\"linecolor\":\"white\",\"ticks\":\"\"}},\"title\":{\"x\":0.05},\"xaxis\":{\"automargin\":true,\"gridcolor\":\"white\",\"linecolor\":\"white\",\"ticks\":\"\",\"title\":{\"standoff\":15},\"zerolinecolor\":\"white\",\"zerolinewidth\":2},\"yaxis\":{\"automargin\":true,\"gridcolor\":\"white\",\"linecolor\":\"white\",\"ticks\":\"\",\"title\":{\"standoff\":15},\"zerolinecolor\":\"white\",\"zerolinewidth\":2}}},\"xaxis\":{\"anchor\":\"y\",\"domain\":[0.0,1.0],\"title\":{\"text\":\"Name of the Organisations\"}},\"yaxis\":{\"anchor\":\"x\",\"domain\":[0.0,1.0],\"title\":{\"text\":\"Number of Launches\"}},\"legend\":{\"title\":{\"text\":\"color\"},\"tracegroupgap\":0},\"title\":{\"text\":\"Number of Launches per Organisation split by Success and Failure Missions\"},\"barmode\":\"relative\"},                        {\"responsive\": true}                    ).then(function(){\n",
              "                            \n",
              "var gd = document.getElementById('ad50fd25-30ec-4421-99d0-73eec9699412');\n",
              "var x = new MutationObserver(function (mutations, observer) {{\n",
              "        var display = window.getComputedStyle(gd).display;\n",
              "        if (!display || display === 'none') {{\n",
              "            console.log([gd, 'removed!']);\n",
              "            Plotly.purge(gd);\n",
              "            observer.disconnect();\n",
              "        }}\n",
              "}});\n",
              "\n",
              "// Listen for the removal of the full notebook cells\n",
              "var notebookContainer = gd.closest('#notebook-container');\n",
              "if (notebookContainer) {{\n",
              "    x.observe(notebookContainer, {childList: true});\n",
              "}}\n",
              "\n",
              "// Listen for the clearing of the current output cell\n",
              "var outputEl = gd.closest('.output');\n",
              "if (outputEl) {{\n",
              "    x.observe(outputEl, {childList: true});\n",
              "}}\n",
              "\n",
              "                        })                };                            </script>        </div>\n",
              "</body>\n",
              "</html>"
            ]
          },
          "metadata": {}
        }
      ],
      "source": [
        "v_bar_split = px.bar(x = status_of_mission.Organisation,\n",
        "                     y = status_of_mission.Price,\n",
        "                     color = status_of_mission.Mission_Status,\n",
        "                     title='Number of Launches per Organisation split by Success and Failure Missions')\n",
        " \n",
        "v_bar_split.update_layout(xaxis_title='Name of the Organisations', \n",
        "                          yaxis_title='Number of Launches')\n",
        "v_bar_split.show()"
      ]
    },
    {
      "cell_type": "markdown",
      "metadata": {
        "id": "jgTCihuoa-qH"
      },
      "source": [
        "# How Expensive are the Launches? \n",
        "\n",
        "Create a histogram and visualise the distribution. The price column is given in USD millions (careful of missing values). "
      ]
    },
    {
      "cell_type": "code",
      "execution_count": 18,
      "metadata": {
        "colab": {
          "base_uri": "https://localhost:8080/"
        },
        "id": "PLOMhzZFnSCO",
        "outputId": "9f57f28a-bfc2-4bde-9ad9-d4d9cc9e2d9b"
      },
      "outputs": [
        {
          "output_type": "execute_result",
          "data": {
            "text/plain": [
              "3360"
            ]
          },
          "metadata": {},
          "execution_count": 18
        }
      ],
      "source": [
        "df_data['Price'].isnull().sum()"
      ]
    },
    {
      "cell_type": "code",
      "execution_count": 19,
      "metadata": {
        "colab": {
          "base_uri": "https://localhost:8080/"
        },
        "id": "ru0IcY4nnSFU",
        "outputId": "e53d66b9-ff2d-4b8f-ff22-a4a0bab28758"
      },
      "outputs": [
        {
          "output_type": "execute_result",
          "data": {
            "text/plain": [
              "0"
            ]
          },
          "metadata": {},
          "execution_count": 19
        }
      ],
      "source": [
        "df_data['Price'].dropna().isnull().sum()"
      ]
    },
    {
      "cell_type": "code",
      "execution_count": 20,
      "metadata": {
        "colab": {
          "base_uri": "https://localhost:8080/"
        },
        "id": "Ol-mVTOyD-c_",
        "outputId": "11895d73-9256-468d-a4fe-08169efd001f"
      },
      "outputs": [
        {
          "output_type": "execute_result",
          "data": {
            "text/plain": [
              "0        50.0\n",
              "1       29.75\n",
              "3        65.0\n",
              "4       145.0\n",
              "5       64.68\n",
              "        ...  \n",
              "3855     59.0\n",
              "3971    63.23\n",
              "3993    63.23\n",
              "4000    63.23\n",
              "4020    63.23\n",
              "Name: Price, Length: 964, dtype: object"
            ]
          },
          "metadata": {},
          "execution_count": 20
        }
      ],
      "source": [
        "df_data['Price'].dropna()"
      ]
    },
    {
      "cell_type": "code",
      "execution_count": 21,
      "metadata": {
        "colab": {
          "base_uri": "https://localhost:8080/"
        },
        "id": "d9nvF6LkuLWh",
        "outputId": "6be15ad6-824f-48d7-c6f9-79bff30c5bd4"
      },
      "outputs": [
        {
          "output_type": "stream",
          "name": "stdout",
          "text": [
            "Organisation                   object\n",
            "Location                       object\n",
            "Date              datetime64[ns, UTC]\n",
            "Detail                         object\n",
            "Rocket_Status                  object\n",
            "Price                         float64\n",
            "Mission_Status                 object\n",
            "dtype: object\n"
          ]
        }
      ],
      "source": [
        "df_data['Price'] = pd.to_numeric(df_data['Price'], errors='coerce')\n",
        "print(df_data.dtypes)"
      ]
    },
    {
      "cell_type": "code",
      "execution_count": 22,
      "metadata": {
        "colab": {
          "base_uri": "https://localhost:8080/",
          "height": 282
        },
        "id": "z3L_eSg2HXiP",
        "outputId": "27c531fb-4d3a-44e0-f3fa-e41fe83423ce"
      },
      "outputs": [
        {
          "output_type": "execute_result",
          "data": {
            "text/plain": [
              "<matplotlib.axes._subplots.AxesSubplot at 0x7efe3caf2890>"
            ]
          },
          "metadata": {},
          "execution_count": 22
        },
        {
          "output_type": "display_data",
          "data": {
            "image/png": "[encoded data removed]",
            "text/plain": [
              "<Figure size 432x288 with 1 Axes>"
            ]
          },
          "metadata": {
            "needs_background": "light"
          }
        }
      ],
      "source": [
        "df_data['Price'].plot(kind='hist')"
      ]
    },
    {
      "cell_type": "markdown",
      "metadata": {
        "id": "QiNtigQDne3E"
      },
      "source": [
        "# Use a Choropleth Map to Show the Number of Launches by Country\n",
        "\n",
        "* Create a choropleth map using [the plotly documentation](https://plotly.com/python/choropleth-maps/)\n",
        "* Experiment with [plotly's available colours](https://plotly.com/python/builtin-colorscales/). I quite like the sequential colour `matter` on this map. \n",
        "* You'll need to extract a `country` feature as well as change the country names that no longer exist.\n",
        "\n",
        "Wrangle the Country Names\n",
        "\n",
        "You'll need to use a 3 letter country code for each country. You might have to change some country names.\n",
        "\n",
        "* Russia is the Russian Federation\n",
        "* New Mexico should be USA\n",
        "* Yellow Sea refers to China\n",
        "* Shahrud Missile Test Site should be Iran\n",
        "* Pacific Missile Range Facility should be USA\n",
        "* Barents Sea should be Russian Federation\n",
        "* Gran Canaria should be USA\n",
        "\n",
        "\n",
        "You can use the iso3166 package to convert the country names to Alpha3 format."
      ]
    },
    {
      "cell_type": "code",
      "execution_count": 23,
      "metadata": {
        "colab": {
          "base_uri": "https://localhost:8080/",
          "height": 641
        },
        "id": "Y46-4GHrozhF",
        "outputId": "0d8ed321-8019-4a62-8618-9afaa9c5c811"
      },
      "outputs": [
        {
          "output_type": "execute_result",
          "data": {
            "text/html": [
              "\n",
              "  <div id=\"df-d0bd8d70-03c4-4bc8-adaa-ec43a79cbd2c\">\n",
              "    <div class=\"colab-df-container\">\n",
              "      <div>\n",
              "<style scoped>\n",
              "    .dataframe tbody tr th:only-of-type {\n",
              "        vertical-align: middle;\n",
              "    }\n",
              "\n",
              "    .dataframe tbody tr th {\n",
              "        vertical-align: top;\n",
              "    }\n",
              "\n",
              "    .dataframe thead th {\n",
              "        text-align: right;\n",
              "    }\n",
              "</style>\n",
              "<table border=\"1\" class=\"dataframe\">\n",
              "  <thead>\n",
              "    <tr style=\"text-align: right;\">\n",
              "      <th></th>\n",
              "      <th>Organisation</th>\n",
              "      <th>Location</th>\n",
              "      <th>Date</th>\n",
              "      <th>Detail</th>\n",
              "      <th>Rocket_Status</th>\n",
              "      <th>Price</th>\n",
              "      <th>Mission_Status</th>\n",
              "      <th>Country</th>\n",
              "    </tr>\n",
              "  </thead>\n",
              "  <tbody>\n",
              "    <tr>\n",
              "      <th>0</th>\n",
              "      <td>SpaceX</td>\n",
              "      <td>LC-39A, Kennedy Space Center, Florida, USA</td>\n",
              "      <td>2020-08-07 05:12:00+00:00</td>\n",
              "      <td>Falcon 9 Block 5 | Starlink V1 L9 &amp; BlackSky</td>\n",
              "      <td>StatusActive</td>\n",
              "      <td>50.00</td>\n",
              "      <td>Success</td>\n",
              "      <td>USA</td>\n",
              "    </tr>\n",
              "    <tr>\n",
              "      <th>1</th>\n",
              "      <td>CASC</td>\n",
              "      <td>Site 9401 (SLS-2), Jiuquan Satellite Launch Ce...</td>\n",
              "      <td>2020-08-06 04:01:00+00:00</td>\n",
              "      <td>Long March 2D | Gaofen-9 04 &amp; Q-SAT</td>\n",
              "      <td>StatusActive</td>\n",
              "      <td>29.75</td>\n",
              "      <td>Success</td>\n",
              "      <td>China</td>\n",
              "    </tr>\n",
              "    <tr>\n",
              "      <th>2</th>\n",
              "      <td>SpaceX</td>\n",
              "      <td>Pad A, Boca Chica, Texas, USA</td>\n",
              "      <td>2020-08-04 23:57:00+00:00</td>\n",
              "      <td>Starship Prototype | 150 Meter Hop</td>\n",
              "      <td>StatusActive</td>\n",
              "      <td>nan</td>\n",
              "      <td>Success</td>\n",
              "      <td>USA</td>\n",
              "    </tr>\n",
              "    <tr>\n",
              "      <th>3</th>\n",
              "      <td>Roscosmos</td>\n",
              "      <td>Site 200/39, Baikonur Cosmodrome, Kazakhstan</td>\n",
              "      <td>2020-07-30 21:25:00+00:00</td>\n",
              "      <td>Proton-M/Briz-M | Ekspress-80 &amp; Ekspress-103</td>\n",
              "      <td>StatusActive</td>\n",
              "      <td>65.00</td>\n",
              "      <td>Success</td>\n",
              "      <td>Kazakhstan</td>\n",
              "    </tr>\n",
              "    <tr>\n",
              "      <th>4</th>\n",
              "      <td>ULA</td>\n",
              "      <td>SLC-41, Cape Canaveral AFS, Florida, USA</td>\n",
              "      <td>2020-07-30 11:50:00+00:00</td>\n",
              "      <td>Atlas V 541 | Perseverance</td>\n",
              "      <td>StatusActive</td>\n",
              "      <td>145.00</td>\n",
              "      <td>Success</td>\n",
              "      <td>USA</td>\n",
              "    </tr>\n",
              "    <tr>\n",
              "      <th>...</th>\n",
              "      <td>...</td>\n",
              "      <td>...</td>\n",
              "      <td>...</td>\n",
              "      <td>...</td>\n",
              "      <td>...</td>\n",
              "      <td>...</td>\n",
              "      <td>...</td>\n",
              "      <td>...</td>\n",
              "    </tr>\n",
              "    <tr>\n",
              "      <th>4319</th>\n",
              "      <td>US Navy</td>\n",
              "      <td>LC-18A, Cape Canaveral AFS, Florida, USA</td>\n",
              "      <td>1958-02-05 07:33:00+00:00</td>\n",
              "      <td>Vanguard | Vanguard TV3BU</td>\n",
              "      <td>StatusRetired</td>\n",
              "      <td>nan</td>\n",
              "      <td>Failure</td>\n",
              "      <td>USA</td>\n",
              "    </tr>\n",
              "    <tr>\n",
              "      <th>4320</th>\n",
              "      <td>AMBA</td>\n",
              "      <td>LC-26A, Cape Canaveral AFS, Florida, USA</td>\n",
              "      <td>1958-02-01 03:48:00+00:00</td>\n",
              "      <td>Juno I | Explorer 1</td>\n",
              "      <td>StatusRetired</td>\n",
              "      <td>nan</td>\n",
              "      <td>Success</td>\n",
              "      <td>USA</td>\n",
              "    </tr>\n",
              "    <tr>\n",
              "      <th>4321</th>\n",
              "      <td>US Navy</td>\n",
              "      <td>LC-18A, Cape Canaveral AFS, Florida, USA</td>\n",
              "      <td>1957-12-06 16:44:00+00:00</td>\n",
              "      <td>Vanguard | Vanguard TV3</td>\n",
              "      <td>StatusRetired</td>\n",
              "      <td>nan</td>\n",
              "      <td>Failure</td>\n",
              "      <td>USA</td>\n",
              "    </tr>\n",
              "    <tr>\n",
              "      <th>4322</th>\n",
              "      <td>RVSN USSR</td>\n",
              "      <td>Site 1/5, Baikonur Cosmodrome, Kazakhstan</td>\n",
              "      <td>1957-11-03 02:30:00+00:00</td>\n",
              "      <td>Sputnik 8K71PS | Sputnik-2</td>\n",
              "      <td>StatusRetired</td>\n",
              "      <td>nan</td>\n",
              "      <td>Success</td>\n",
              "      <td>Kazakhstan</td>\n",
              "    </tr>\n",
              "    <tr>\n",
              "      <th>4323</th>\n",
              "      <td>RVSN USSR</td>\n",
              "      <td>Site 1/5, Baikonur Cosmodrome, Kazakhstan</td>\n",
              "      <td>1957-10-04 19:28:00+00:00</td>\n",
              "      <td>Sputnik 8K71PS | Sputnik-1</td>\n",
              "      <td>StatusRetired</td>\n",
              "      <td>nan</td>\n",
              "      <td>Success</td>\n",
              "      <td>Kazakhstan</td>\n",
              "    </tr>\n",
              "  </tbody>\n",
              "</table>\n",
              "<p>4324 rows × 8 columns</p>\n",
              "</div>\n",
              "      <button class=\"colab-df-convert\" onclick=\"convertToInteractive('df-d0bd8d70-03c4-4bc8-adaa-ec43a79cbd2c')\"\n",
              "              title=\"Convert this dataframe to an interactive table.\"\n",
              "              style=\"display:none;\">\n",
              "        \n",
              "  <svg xmlns=\"http://www.w3.org/2000/svg\" height=\"24px\"viewBox=\"0 0 24 24\"\n",
              "       width=\"24px\">\n",
              "    <path d=\"M0 0h24v24H0V0z\" fill=\"none\"/>\n",
              "    <path d=\"M18.56 5.44l.94 2.06.94-2.06 2.06-.94-2.06-.94-.94-2.06-.94 2.06-2.06.94zm-11 1L8.5 8.5l.94-2.06 2.06-.94-2.06-.94L8.5 2.5l-.94 2.06-2.06.94zm10 10l.94 2.06.94-2.06 2.06-.94-2.06-.94-.94-2.06-.94 2.06-2.06.94z\"/><path d=\"M17.41 7.96l-1.37-1.37c-.4-.4-.92-.59-1.43-.59-.52 0-1.04.2-1.43.59L10.3 9.45l-7.72 7.72c-.78.78-.78 2.05 0 2.83L4 21.41c.39.39.9.59 1.41.59.51 0 1.02-.2 1.41-.59l7.78-7.78 2.81-2.81c.8-.78.8-2.07 0-2.86zM5.41 20L4 18.59l7.72-7.72 1.47 1.35L5.41 20z\"/>\n",
              "  </svg>\n",
              "      </button>\n",
              "      \n",
              "  <style>\n",
              "    .colab-df-container {\n",
              "      display:flex;\n",
              "      flex-wrap:wrap;\n",
              "      gap: 12px;\n",
              "    }\n",
              "\n",
              "    .colab-df-convert {\n",
              "      background-color: #E8F0FE;\n",
              "      border: none;\n",
              "      border-radius: 50%;\n",
              "      cursor: pointer;\n",
              "      display: none;\n",
              "      fill: #1967D2;\n",
              "      height: 32px;\n",
              "      padding: 0 0 0 0;\n",
              "      width: 32px;\n",
              "    }\n",
              "\n",
              "    .colab-df-convert:hover {\n",
              "      background-color: #E2EBFA;\n",
              "      box-shadow: 0px 1px 2px rgba(60, 64, 67, 0.3), 0px 1px 3px 1px rgba(60, 64, 67, 0.15);\n",
              "      fill: #174EA6;\n",
              "    }\n",
              "\n",
              "    [theme=dark] .colab-df-convert {\n",
              "      background-color: #3B4455;\n",
              "      fill: #D2E3FC;\n",
              "    }\n",
              "\n",
              "    [theme=dark] .colab-df-convert:hover {\n",
              "      background-color: #434B5C;\n",
              "      box-shadow: 0px 1px 3px 1px rgba(0, 0, 0, 0.15);\n",
              "      filter: drop-shadow(0px 1px 2px rgba(0, 0, 0, 0.3));\n",
              "      fill: #FFFFFF;\n",
              "    }\n",
              "  </style>\n",
              "\n",
              "      <script>\n",
              "        const buttonEl =\n",
              "          document.querySelector('#df-d0bd8d70-03c4-4bc8-adaa-ec43a79cbd2c button.colab-df-convert');\n",
              "        buttonEl.style.display =\n",
              "          google.colab.kernel.accessAllowed ? 'block' : 'none';\n",
              "\n",
              "        async function convertToInteractive(key) {\n",
              "          const element = document.querySelector('#df-d0bd8d70-03c4-4bc8-adaa-ec43a79cbd2c');\n",
              "          const dataTable =\n",
              "            await google.colab.kernel.invokeFunction('convertToInteractive',\n",
              "                                                     [key], {});\n",
              "          if (!dataTable) return;\n",
              "\n",
              "          const docLinkHtml = 'Like what you see? Visit the ' +\n",
              "            '<a target=\"_blank\" href=https://colab.research.google.com/notebooks/data_table.ipynb>data table notebook</a>'\n",
              "            + ' to learn more about interactive tables.';\n",
              "          element.innerHTML = '';\n",
              "          dataTable['output_type'] = 'display_data';\n",
              "          await google.colab.output.renderOutput(dataTable, element);\n",
              "          const docLink = document.createElement('div');\n",
              "          docLink.innerHTML = docLinkHtml;\n",
              "          element.appendChild(docLink);\n",
              "        }\n",
              "      </script>\n",
              "    </div>\n",
              "  </div>\n",
              "  "
            ],
            "text/plain": [
              "     Organisation  ...     Country\n",
              "0          SpaceX  ...         USA\n",
              "1            CASC  ...       China\n",
              "2          SpaceX  ...         USA\n",
              "3       Roscosmos  ...  Kazakhstan\n",
              "4             ULA  ...         USA\n",
              "...           ...  ...         ...\n",
              "4319      US Navy  ...         USA\n",
              "4320         AMBA  ...         USA\n",
              "4321      US Navy  ...         USA\n",
              "4322    RVSN USSR  ...  Kazakhstan\n",
              "4323    RVSN USSR  ...  Kazakhstan\n",
              "\n",
              "[4324 rows x 8 columns]"
            ]
          },
          "metadata": {},
          "execution_count": 23
        }
      ],
      "source": [
        "df_data['Country'] = df_data.Location.str.extract(r'\\b(\\w+)$', expand = True)\n",
        "df_data"
      ]
    },
    {
      "cell_type": "code",
      "execution_count": 24,
      "metadata": {
        "colab": {
          "base_uri": "https://localhost:8080/"
        },
        "id": "RPV2A82P0pUX",
        "outputId": "c3128a52-2e6d-4b98-8994-bd87c85789eb"
      },
      "outputs": [
        {
          "output_type": "stream",
          "name": "stdout",
          "text": [
            "['USA', 'CHN', 'USA', 'KAZ', 'USA', 'CHN', 'KAZ', 'CHN', 'USA', 'JPN', 'USA', 'CHN', 'CHN', 'ISR', 'CHN', 'NZL', 'CHN', 'USA', 'CHN', 'CHN', 'USA', 'NZL', 'CHN', 'USA', 'CHN', 'USA', 'CHN', 'USA', 'RUS', 'JPN', 'USA', 'CHN', 'CHN', 'KAZ', 'USA', None, 'CHN', 'KAZ', 'USA', 'CHN', 'KAZ', 'USA', 'RUS', 'CHN', 'CHN', 'USA', 'RUS', 'CHN', 'FRA', 'USA', 'USA', 'USA', 'IRN', 'JPN', 'KAZ', 'NZL', 'USA', 'USA', 'FRA', 'CHN', 'CHN', 'CHN', 'USA', 'CHN', 'RUS', 'KAZ', 'USA', 'CHN', 'FRA', 'USA', 'CHN', 'USA', 'IND', 'RUS', 'CHN', 'CHN', 'KAZ', 'NZL', 'USA', 'CHN', 'IND', 'FRA', 'RUS', 'CHN', 'CHN', 'CHN', 'CHN', 'USA', 'CHN', 'CHN', 'USA', 'MEX', 'CHN', 'NZL', 'USA', 'KAZ', 'CHN', 'RUS', 'KAZ', 'CHN', 'JPN', 'CHN', 'CHN', 'CHN', 'CHN', 'RUS', 'IRN', 'USA', 'KAZ', 'NZL', 'CHN', 'CHN', 'USA', 'USA', 'FRA', 'KAZ', 'KAZ', 'RUS', 'CHN', 'USA', 'CHN', 'IND', 'KAZ', 'KAZ', 'FRA', 'RUS', 'RUS', 'MEX', 'NZL', 'USA', 'CHN', 'FRA', 'USA', None, 'KAZ', 'RUS', 'USA', 'CHN', 'IND', 'CHN', 'NZL', 'USA', 'USA', 'CHN', 'CHN', 'USA', 'USA', 'FRA', 'KAZ', 'IND', 'CHN', 'NZL', 'CHN', 'FRA', 'USA', 'KAZ', 'CHN', 'MEX', 'USA', 'FRA', 'USA', 'KAZ', 'FRA', 'IRN', 'IND', 'USA', 'CHN', 'USA', 'JPN', 'IRN', 'USA', 'CHN', 'CHN', 'RUS', 'CHN', 'USA', 'CHN', 'KAZ', 'FRA', 'IND', 'NZL', 'CHN', 'CHN', 'USA', 'FRA', 'USA', 'KAZ', 'RUS', 'IND', 'FRA', 'CHN', 'CHN', 'USA', 'KAZ', 'USA', 'IND', 'NZL', 'FRA', 'RUS', 'CHN', 'JPN', 'CHN', 'CHN', 'RUS', 'CHN', 'FRA', 'USA', 'CHN', 'KAZ', 'CHN', 'USA', 'CHN', 'FRA', 'JPN', 'CHN', 'IND', 'USA', 'USA', 'CHN', 'MEX', 'CHN', 'FRA', 'USA', 'USA', 'CHN', 'CHN', 'USA', 'FRA', 'USA', 'USA', 'KAZ', 'CHN', 'CHN', 'USA', 'CHN', 'RUS', 'JPN', 'KAZ', 'CHN', 'USA', 'CHN', 'USA', 'USA', 'CHN', 'USA', 'CHN', 'USA', 'CHN', 'USA', 'CHN', 'RUS', 'USA', 'KAZ', 'USA', 'IND', 'CHN', 'FRA', 'USA', 'CHN', 'USA', 'CHN', 'RUS', 'IND', 'KAZ', 'CHN', 'FRA', 'USA', 'USA', 'JPN', 'USA', 'KAZ', 'CHN', 'USA', 'JPN', 'CHN', 'RUS', 'USA', 'FRA', 'CHN', 'NZL', 'USA', 'CHN', 'JPN', 'CHN', 'USA', 'IND', 'CHN', 'CHN', 'USA', 'KAZ', 'CHN', 'CHN', 'USA', 'JPN', 'KAZ', 'USA', 'USA', 'FRA', 'CHN', 'CHN', 'RUS', 'RUS', 'CHN', 'CHN', 'USA', 'CHN', 'USA', 'FRA', 'CHN', 'USA', 'USA', 'USA', 'KAZ', 'RUS', 'USA', 'JPN', 'USA', 'CHN', 'FRA', 'CHN', 'KAZ', 'USA', 'KAZ', 'USA', 'IND', 'USA', 'USA', 'RUS', 'JPN', 'USA', 'KAZ', 'USA', 'KAZ', 'FRA', 'KAZ', 'IRN', 'KAZ', 'USA', 'CHN', 'FRA', 'USA', 'USA', 'RUS', 'IND', 'CHN', 'CHN', 'KAZ', 'KAZ', 'IND', 'USA', 'FRA', 'JPN', 'RUS', 'NZL', 'FRA', 'USA', 'IND', 'FRA', 'USA', 'CHN', 'KAZ', 'USA', 'CHN', 'USA', 'USA', 'JPN', 'USA', 'FRA', 'CHN', 'USA', 'KAZ', 'USA', 'IND', 'FRA', 'FRA', 'JPN', 'USA', 'JPN', 'USA', 'CHN', 'CHN', 'CHN', 'FRA', 'CHN', 'JPN', 'USA', 'USA', 'CHN', 'JPN', 'USA', 'IND', 'FRA', 'KAZ', 'CHN', 'USA', 'KAZ', 'FRA', 'CHN', 'USA', 'CHN', 'CHN', 'JPN', 'KAZ', 'USA', 'CHN', 'USA', 'FRA', 'IND', 'FRA', 'CHN', 'ISR', 'USA', 'IND', 'USA', 'CHN', 'FRA', 'USA', 'CHN', 'USA', 'CHN', 'CHN', 'USA', 'USA', 'KAZ', 'KAZ', 'CHN', 'CHN', 'USA', 'IND', 'USA', 'FRA', 'USA', 'CHN', 'USA', 'KAZ', 'RUS', 'CHN', 'RUS', 'USA', 'FRA', 'CHN', 'USA', 'IND', 'RUS', 'FRA', 'USA', 'CHN', 'USA', 'KAZ', 'CHN', 'RUS', 'USA', 'KAZ', 'KAZ', 'KAZ', 'IND', 'FRA', 'USA', 'JPN', 'RUS', 'USA', 'KOR', 'RUS', 'USA', 'CHN', 'KAZ', 'FRA', 'USA', 'IND', 'USA', 'CHN', 'USA', 'FRA', 'IND', 'KAZ', 'USA', 'RUS', 'FRA', 'JPN', 'USA', 'FRA', None, 'USA', 'USA', 'USA', 'FRA', 'IND', 'CHN', 'RUS', 'CHN', 'FRA', 'USA', 'IND', 'FRA', 'JPN', 'USA', 'FRA', 'USA', 'IND', 'USA', 'FRA', 'FRA', 'USA', 'USA', 'USA', 'FRA', 'USA', 'RUS', 'IND', 'FRA', 'JPN', 'RUS', 'USA', 'USA', 'USA', 'IRN', 'USA', 'FRA', 'IRN', 'JPN', 'USA', 'USA', 'USA', 'RUS', 'KAZ', 'FRA', 'IND', 'USA', 'FRA', 'USA', 'JPN', 'CHN', 'RUS', 'USA', 'USA', 'FRA', 'IND', 'JPN', 'USA', 'USA', 'FRA', 'USA', 'FRA', 'USA', 'USA', 'USA', 'FRA', 'USA', 'USA', 'USA', 'FRA', 'RUS', 'RUS', 'USA', 'IND', 'RUS', 'IOT', 'JPN', 'RUS', 'USA', 'USA', 'FRA', 'USA', 'USA', 'ISR', 'IND', 'FRA', 'USA', 'FRA', 'JPN', 'USA', 'FRA', 'USA', 'USA', 'USA', 'IND', 'RUS', 'RUS', 'FRA', 'USA', 'USA', 'RUS', 'RUS', 'USA', 'USA', 'IND', 'USA', 'CHN', 'USA', 'JPN', 'USA', 'RUS', 'USA', 'KAZ', 'FRA', 'USA', 'RUS', 'USA', 'JPN', 'FRA', 'USA', 'KAZ', 'IND', 'USA', 'KAZ', 'FRA', 'CHN', 'FRA', 'USA', 'USA', 'FRA', 'USA', 'USA', 'USA', 'IND', 'USA', 'FRA', 'IOT', 'USA', 'KOR', 'JPN', 'RUS', 'FRA', 'KOR', 'USA', 'IOT', 'FRA', 'FRA', 'FRA', 'USA', 'USA', 'FRA', 'IRN', 'USA', 'IND', 'USA', 'IOT', 'FRA', 'RUS', 'JPN', 'FRA', 'USA', 'USA', 'CHN', 'USA', 'IOT', 'IRN', 'USA', 'JPN', 'FRA', 'USA', 'IND', 'IND', 'KOR', 'USA', 'FRA', 'USA', 'FRA', 'IRN', 'USA', 'FRA', 'JPN', 'USA', 'KAZ', 'CHN', 'USA', 'FRA', 'IND', 'KAZ', 'CHN', 'USA', 'IOT', 'JPN', 'FRA', 'JPN', 'USA', 'RUS', 'FRA', 'USA', 'KAZ', 'USA', 'IND', 'USA', 'USA', 'IRN', 'USA', 'FRA', 'USA', 'USA', 'FRA', 'IND', 'USA', 'USA', 'USA', 'USA', 'USA', 'FRA', 'USA', 'RUS', 'JPN', 'USA', 'KAZ', 'FRA', 'IND', 'USA', 'FRA', 'USA', 'USA', 'USA', 'FRA', 'RUS', 'USA', 'USA', 'RUS', 'USA', 'FRA', 'IND', 'FRA', 'ISR', 'KAZ', 'RUS', 'KOR', 'USA', 'RUS', 'USA', 'FRA', 'USA', 'JPN', 'KAZ', 'RUS', 'USA', 'IND', 'KAZ', 'USA', 'KAZ', 'USA', 'USA', 'USA', 'KAZ', 'FRA', 'USA', 'USA', 'KAZ', 'JPN', 'USA', 'USA', 'RUS', 'FRA', 'USA', 'USA', 'USA', 'FRA', 'USA', 'IND', 'JPN', 'USA', 'USA', 'KOR', 'FRA', 'USA', 'KAZ', 'RUS', 'USA', 'USA', 'RUS', 'FRA', 'USA', 'KAZ', 'USA', 'USA', 'FRA', 'USA', 'USA', 'IOT', 'IND', 'KOR', 'USA', 'USA', 'RUS', 'USA', 'USA', 'KAZ', 'USA', 'FRA', 'USA', 'IRN', 'RUS', 'JPN', 'USA', 'FRA', 'RUS', 'USA', 'CHN', 'CHN', 'CHN', 'USA', 'CHN', 'IND', 'USA', 'RUS', 'USA', 'CHN', 'IOT', 'USA', 'CHN', 'KAZ', 'IRN', 'FRA', 'USA', 'RUS', 'IOT', 'FRA', 'USA', 'RUS', 'FRA', 'USA', 'CHN', 'USA', 'CHN', 'RUS', 'IOT', 'KAZ', 'IND', 'CHN', 'FRA', 'USA', 'USA', 'RUS', 'IOT', 'USA', 'USA', 'USA', 'FRA', 'JPN', 'USA', 'IND', 'IOT', 'FRA', 'USA', 'USA', 'USA', 'FRA', 'CHN', 'USA', 'RUS', 'CHN', 'RUS', 'USA', 'USA', 'USA', 'FRA', 'USA', 'CHN', 'USA', 'JPN', 'RUS', 'IND', 'FRA', 'USA', 'USA', 'CHN', 'RUS', 'KAZ', 'RUS', 'USA', 'KAZ', 'ISR', 'USA', 'USA', 'CHN', 'CHN', 'CHN', 'FRA', 'USA', 'USA', 'IND', 'KAZ', 'CHN', 'CHN', 'USA', 'FRA', 'USA', 'JPN', 'USA', 'CHN', 'IOT', 'IND', 'RUS', 'JPN', 'USA', 'USA', 'USA', 'FRA', 'CHN', 'USA', 'USA', 'IOT', 'CHN', 'USA', 'CHN', 'FRA', 'USA', 'JPN', 'CHN', 'JPN', 'USA', 'CHN', 'IOT', 'FRA', 'RUS', 'KAZ', 'RUS', 'RUS', 'IND', 'USA', 'USA', 'KAZ', 'USA', 'IOT', 'FRA', None, 'USA', 'USA', 'CHN', 'RUS', 'USA', 'USA', 'IOT', 'USA', 'USA', 'FRA', 'JPN', 'JPN', 'IOT', 'JPN', 'USA', 'FRA', 'RUS', 'FRA', 'IOT', 'RUS', 'USA', 'CHN', 'FRA', 'RUS', 'USA', 'USA', 'CHN', 'RUS', 'KAZ', 'USA', 'FRA', 'CHN', 'USA', 'JPN', 'CHN', 'IOT', None, 'RUS', 'USA', 'IND', 'USA', 'IOT', 'USA', 'CHN', 'USA', 'USA', 'IOT', 'JPN', 'FRA', 'USA', 'RUS', 'USA', 'RUS', 'USA', 'FRA', 'USA', 'USA', 'CHN', 'RUS', 'USA', 'CHN', 'CHN', 'CHN', 'RUS', 'IND', 'CHN', 'ISR', 'USA', 'CHN', 'USA', 'CHN', 'RUS', 'FRA', 'USA', 'KAZ', 'IOT', 'USA', 'KAZ', 'KAZ', 'USA', 'IOT', 'USA', 'USA', 'CHN', 'USA', 'USA', 'USA', 'FRA', 'RUS', 'USA', 'USA', 'IOT', 'CHN', 'USA', 'USA', 'KAZ', 'USA', 'JPN', 'CHN', 'CHN', 'RUS', 'CHN', 'USA', 'IND', 'CHN', 'IOT', 'FRA', 'RUS', 'CHN', 'USA', 'USA', 'BRA', 'USA', 'RUS', 'USA', 'IOT', 'USA', 'USA', 'RUS', 'USA', 'RUS', 'FRA', 'USA', 'IOT', 'RUS', 'KAZ', 'CHN', 'USA', 'JPN', 'IND', 'USA', 'USA', 'FRA', 'USA', 'RUS', 'USA', 'JPN', 'USA', 'FRA', 'USA', 'USA', 'USA', 'USA', 'USA', 'CHN', 'RUS', 'KAZ', 'FRA', 'JPN', 'FRA', 'USA', 'RUS', 'USA', 'USA', 'CHN', 'USA', 'RUS', 'USA', 'CHN', 'IND', 'JPN', 'FRA', 'FRA', 'USA', 'RUS', 'FRA', 'USA', 'FRA', 'USA', 'RUS', 'IOT', 'USA', 'FRA', 'ISR', 'RUS', 'CHN', 'USA', 'FRA', 'USA', 'RUS', 'FRA', 'CHN', 'RUS', 'USA', 'USA', 'FRA', 'FRA', 'USA', 'USA', 'USA', 'JPN', 'FRA', 'USA', 'RUS', 'KAZ', 'KAZ', 'USA', 'USA', 'FRA', 'RUS', 'IND', 'USA', 'USA', 'USA', 'USA', 'FRA', 'USA', 'USA', 'FRA', 'JPN', 'USA', 'USA', 'USA', 'USA', 'RUS', 'FRA', 'USA', 'USA', 'USA', 'FRA', 'RUS', 'USA', 'IOT', 'USA', 'IND', 'USA', 'IOT', 'FRA', 'USA', 'USA', 'RUS', 'USA', 'FRA', 'USA', 'FRA', 'CHN', 'RUS', 'CHN', 'FRA', 'USA', 'RUS', 'USA', 'FRA', 'USA', 'RUS', 'FRA', 'USA', 'CHN', 'FRA', 'IOT', 'USA', 'USA', 'USA', 'FRA', 'KAZ', 'KAZ', 'USA', 'FRA', 'USA', 'FRA', 'USA', 'USA', 'FRA', 'IOT', 'USA', 'USA', 'RUS', 'USA', 'USA', 'RUS', 'CHN', 'USA', 'USA', 'USA', 'RUS', 'USA', 'USA', 'USA', 'FRA', 'USA', 'FRA', 'IOT', 'USA', 'KAZ', 'FRA', 'USA', 'JPN', 'USA', 'USA', 'USA', 'CHN', 'FRA', 'USA', 'USA', 'RUS', 'KAZ', 'FRA', 'USA', 'USA', 'USA', 'BRA', 'FRA', 'USA', 'FRA', 'USA', 'CHN', 'JPN', 'FRA', 'FRA', 'CHN', 'IOT', 'FRA', 'USA', 'USA', 'FRA', 'RUS', 'USA', 'FRA', 'USA', 'USA', 'USA', 'KAZ', 'USA', 'RUS', 'USA', 'USA', 'CHN', 'USA', 'IND', 'USA', 'USA', 'USA', 'CHN', 'USA', 'USA', 'RUS', 'USA', 'KAZ', 'USA', 'USA', 'USA', 'FRA', 'IOT', 'USA', 'FRA', 'USA', 'USA', 'USA', 'USA', 'USA', 'RUS', 'FRA', 'CHN', 'USA', 'RUS', 'USA', 'FRA', 'USA', 'USA', 'USA', 'USA', 'FRA', 'USA', 'FRA', 'USA', 'USA', 'FRA', 'USA', 'RUS', 'USA', 'FRA', 'KAZ', 'USA', 'KOR', 'USA', 'FRA', 'USA', 'CHN', 'RUS', 'USA', 'USA', 'KAZ', 'KAZ', None, 'JPN', 'RUS', 'USA', 'CHN', 'RUS', 'USA', 'USA', 'CHN', 'USA', 'USA', 'USA', 'RUS', 'CHN', 'FRA', 'USA', 'USA', 'USA', 'USA', 'CHN', 'FRA', 'USA', 'USA', 'FRA', 'USA', 'JPN', 'USA', 'USA', 'USA', 'FRA', 'USA', 'ISR', 'USA', 'USA', 'USA', 'KAZ', 'RUS', 'USA', 'FRA', 'USA', 'FRA', 'KAZ', 'USA', 'CHN', 'FRA', 'JPN', 'USA', 'USA', 'USA', 'USA', 'BRA', 'FRA', 'USA', 'USA', 'USA', 'CHN', 'USA', 'USA', 'IND', 'USA', 'USA', 'RUS', 'FRA', 'RUS', 'USA', 'FRA', 'CHN', 'USA', 'USA', 'USA', 'USA', 'CHN', 'FRA', 'USA', None, 'USA', 'USA', 'USA', 'USA', 'FRA', 'CHN', 'FRA', 'USA', 'KAZ', 'USA', 'RUS', 'CHN', 'USA', 'USA', None, 'RUS', 'FRA', 'USA', 'USA', 'USA', 'RUS', 'FRA', 'USA', 'USA', 'RUS', 'JPN', 'USA', 'FRA', 'USA', 'USA', 'USA', 'RUS', 'USA', 'KAZ', 'USA', 'USA', 'USA', 'FRA', 'USA', 'USA', 'RUS', 'CHN', 'USA', 'USA', 'FRA', 'USA', 'RUS', 'KAZ', 'RUS', 'USA', 'CHN', 'JPN', 'RUS', 'FRA', 'USA', 'USA', 'FRA', 'CHN', 'USA', 'USA', 'USA', 'FRA', 'FRA', 'USA', 'USA', 'USA', 'FRA', 'USA', 'USA', 'USA', 'RUS', 'USA', 'FRA', 'USA', 'USA', 'USA', 'IND', 'FRA', 'USA', 'USA', 'USA', 'RUS', 'USA', 'CHN', 'FRA', 'USA', 'RUS', 'USA', 'FRA', 'USA', 'USA', 'CHN', 'KAZ', 'KAZ', 'USA', 'FRA', 'USA', 'USA', 'CHN', 'FRA', 'USA', 'USA', 'USA', 'KAZ', 'USA', 'USA', 'USA', 'FRA', 'RUS', 'FRA', 'USA', 'USA', 'RUS', 'FRA', 'USA', 'USA', 'RUS', 'FRA', 'RUS', 'USA', 'USA', 'USA', 'FRA', 'RUS', 'USA', 'USA', 'FRA', 'KAZ', 'USA', 'RUS', 'USA', 'FRA', 'USA', 'FRA', 'USA', 'ISR', 'USA', 'FRA', 'RUS', 'USA', 'USA', 'RUS', 'JPN', 'RUS', 'USA', 'USA', 'USA', 'CHN', 'RUS', 'JPN', 'USA', 'USA', 'KAZ', 'RUS', 'USA', 'RUS', 'RUS', 'FRA', 'CHN', 'USA', 'RUS', 'KAZ', 'KAZ', 'USA', 'KAZ', 'USA', 'FRA', 'IND', 'RUS', 'FRA', 'USA', 'USA', 'RUS', 'USA', 'FRA', 'USA', 'USA', 'JPN', 'CHN', 'USA', 'KAZ', 'RUS', 'FRA', 'RUS', 'USA', 'RUS', 'CHN', 'RUS', 'FRA', 'USA', 'CHN', 'USA', 'USA', 'FRA', 'RUS', 'USA', 'IND', 'USA', 'RUS', 'KAZ', 'USA', 'USA', 'USA', 'USA', 'USA', 'USA', 'RUS', 'RUS', 'CHN', 'USA', 'JPN', 'USA', 'USA', 'RUS', 'FRA', 'RUS', 'FRA', 'USA', 'USA', 'USA', 'USA', 'FRA', 'RUS', 'USA', 'RUS', 'FRA', 'USA', 'CHN', 'USA', 'FRA', 'IND', 'KAZ', 'KAZ', 'USA', 'USA', 'RUS', 'USA', 'RUS', 'USA', 'RUS', 'USA', 'FRA', 'USA', 'KAZ', 'USA', 'FRA', 'RUS', 'USA', 'RUS', 'RUS', 'USA', 'FRA', 'RUS', 'KAZ', 'USA', 'USA', 'RUS', 'RUS', 'RUS', 'USA', 'RUS', 'RUS', 'KAZ', 'USA', 'KAZ', 'USA', 'RUS', 'RUS', 'JPN', 'USA', 'RUS', 'USA', 'RUS', 'USA', 'RUS', 'RUS', 'RUS', 'KAZ', 'RUS', 'CHN', 'USA', 'USA', 'RUS', 'FRA', 'USA', 'RUS', 'RUS', 'USA', 'RUS', 'KAZ', 'RUS', 'FRA', 'USA', 'RUS', 'RUS', 'USA', 'CHN', 'USA', 'USA', 'FRA', 'USA', 'USA', 'CHN', 'RUS', 'FRA', 'CHN', 'RUS', 'USA', 'USA', 'USA', 'RUS', 'FRA', 'RUS', 'USA', 'USA', 'RUS', 'USA', 'USA', 'USA', 'RUS', 'USA', 'USA', 'USA', 'FRA', 'RUS', 'USA', 'USA', 'USA', 'USA', 'RUS', 'RUS', 'FRA', 'RUS', 'JPN', 'USA', 'KAZ', 'RUS', 'USA', 'CHN', 'KAZ', 'RUS', 'FRA', 'USA', 'USA', 'RUS', 'USA', 'RUS', 'USA', 'FRA', 'RUS', 'RUS', 'FRA', 'RUS', 'USA', 'KAZ', 'JPN', 'KAZ', 'JPN', 'JPN', 'RUS', 'RUS', 'FRA', 'USA', 'RUS', 'USA', 'FRA', 'USA', 'RUS', 'RUS', 'RUS', 'RUS', 'USA', 'RUS', 'USA', 'RUS', 'USA', 'USA', 'RUS', 'USA', 'RUS', 'USA', 'USA', 'FRA', 'RUS', 'RUS', 'RUS', 'USA', 'USA', 'FRA', 'RUS', 'RUS', 'RUS', 'RUS', 'RUS', 'KAZ', 'FRA', 'USA', 'RUS', 'RUS', 'KAZ', 'USA', 'USA', 'RUS', 'USA', 'RUS', 'KAZ', 'FRA', 'RUS', 'USA', 'KAZ', 'USA', 'USA', 'USA', 'FRA', 'USA', 'CHN', 'KAZ', 'USA', 'RUS', 'RUS', 'RUS', 'CHN', 'FRA', 'RUS', 'JPN', 'JPN', 'RUS', 'KAZ', 'RUS', 'RUS', 'RUS', 'USA', 'RUS', 'FRA', 'CHN', 'RUS', 'USA', 'RUS', 'RUS', 'USA', 'USA', 'USA', 'KAZ', 'RUS', 'RUS', 'RUS', 'USA', 'RUS', 'USA', 'USA', 'CHN', 'RUS', 'USA', 'ISR', 'RUS', 'USA', 'RUS', 'KAZ', 'USA', 'USA', 'RUS', 'RUS', 'FRA', 'USA', 'JPN', 'JPN', 'RUS', 'CHN', 'USA', 'RUS', 'USA', 'JPN', 'RUS', 'FRA', 'RUS', 'USA', 'USA', 'RUS', 'USA', 'RUS', 'KAZ', 'RUS', 'USA', 'FRA', 'RUS', 'USA', 'RUS', 'KAZ', 'RUS', 'USA', 'RUS', 'USA', 'JPN', 'USA', 'RUS', 'USA', 'USA', 'FRA', 'USA', 'RUS', 'KAZ', 'FRA', 'RUS', 'USA', 'RUS', 'USA', 'RUS', 'RUS', 'RUS', 'FRA', 'IND', 'USA', 'USA', 'RUS', 'FRA', 'USA', 'RUS', 'USA', 'FRA', 'RUS', 'RUS', 'RUS', 'JPN', 'KAZ', 'RUS', 'USA', 'RUS', 'RUS', 'FRA', 'RUS', 'RUS', 'RUS', 'CHN', 'FRA', 'USA', 'KAZ', 'KAZ', 'KAZ', 'USA', 'FRA', 'RUS', 'RUS', 'RUS', 'USA', 'RUS', 'USA', 'ISR', 'JPN', 'FRA', 'CHN', 'USA', 'USA', 'RUS', 'CHN', 'IND', 'RUS', 'RUS', 'FRA', 'RUS', 'RUS', 'RUS', 'RUS', 'RUS', 'FRA', 'RUS', 'RUS', 'RUS', 'KAZ', 'RUS', 'FRA', 'KAZ', 'KAZ', 'RUS', 'KEN', 'RUS', 'RUS', 'KAZ', 'RUS', 'KAZ', 'FRA', 'KAZ', 'RUS', 'CHN', 'RUS', 'JPN', 'USA', 'RUS', 'RUS', 'RUS', 'RUS', 'RUS', 'RUS', 'KAZ', 'RUS', 'USA', 'FRA', 'USA', 'RUS', 'RUS', 'KAZ', 'FRA', 'CHN', 'RUS', 'KAZ', 'RUS', 'JPN', 'RUS', 'CHN', 'KAZ', 'RUS', 'RUS', 'KAZ', 'RUS', 'RUS', 'RUS', 'USA', 'KAZ', 'RUS', 'RUS', 'RUS', 'RUS', 'KAZ', 'USA', 'KAZ', 'RUS', 'KAZ', 'USA', 'IND', 'KAZ', 'RUS', 'RUS', 'RUS', 'JPN', 'RUS', 'KAZ', 'USA', 'JPN', 'KAZ', 'RUS', 'RUS', 'RUS', 'RUS', 'RUS', 'RUS', 'RUS', 'RUS', 'RUS', 'RUS', 'RUS', 'RUS', 'USA', 'RUS', 'RUS', 'RUS', 'RUS', 'RUS', 'RUS', 'RUS', 'KAZ', 'RUS', 'RUS', 'RUS', 'CHN', 'RUS', 'RUS', 'USA', 'RUS', 'RUS', 'RUS', 'RUS', 'KAZ', 'JPN', 'KAZ', 'RUS', 'KAZ', 'RUS', 'RUS', 'RUS', 'RUS', 'RUS', 'RUS', 'RUS', 'FRA', 'RUS', 'RUS', 'RUS', 'RUS', 'USA', 'RUS', 'FRA', 'KAZ', 'KAZ', 'KAZ', 'FRA', 'RUS', 'JPN', 'RUS', 'USA', 'RUS', 'CHN', 'USA', 'RUS', 'RUS', 'RUS', 'USA', 'RUS', 'KAZ', 'RUS', 'RUS', 'RUS', 'RUS', 'RUS', 'USA', 'RUS', 'RUS', 'USA', 'RUS', 'RUS', 'RUS', 'KAZ', 'RUS', 'KAZ', 'CHN', 'RUS', 'USA', 'USA', 'RUS', 'KAZ', 'RUS', 'RUS', 'USA', 'RUS', 'KAZ', 'FRA', 'RUS', 'USA', 'USA', 'KAZ', 'RUS', 'JPN', 'RUS', 'KAZ', 'USA', 'RUS', 'RUS', 'FRA', 'USA', 'KAZ', 'RUS', 'RUS', 'USA', 'RUS', 'RUS', 'RUS', 'RUS', 'RUS', 'FRA', 'USA', 'KAZ', 'KAZ', 'RUS', 'KAZ', 'USA', 'USA', 'RUS', 'RUS', 'USA', 'RUS', 'RUS', 'FRA', 'USA', 'JPN', 'RUS', 'RUS', 'USA', 'RUS', 'KAZ', 'RUS', 'RUS', 'RUS', 'USA', 'RUS', 'RUS', 'RUS', 'USA', 'USA', 'RUS', 'RUS', 'FRA', 'USA', 'KAZ', 'RUS', 'RUS', 'USA', 'RUS', 'RUS', 'RUS', 'RUS', 'CHN', 'USA', 'RUS', 'USA', 'KAZ', 'USA', 'RUS', 'RUS', 'RUS', 'KAZ', 'FRA', 'JPN', 'RUS', 'RUS', 'RUS', 'RUS', 'RUS', 'USA', 'RUS', 'USA', 'USA', 'RUS', 'RUS', 'RUS', 'KAZ', 'RUS', 'FRA', 'RUS', 'RUS', 'RUS', 'USA', 'USA', 'CHN', 'USA', 'RUS', 'RUS', 'RUS', 'RUS', 'FRA', 'RUS', 'JPN', 'RUS', 'USA', 'USA', 'RUS', 'USA', 'CHN', 'RUS', 'JPN', 'RUS', 'RUS', 'RUS', 'RUS', 'RUS', 'RUS', 'RUS', 'USA', 'RUS', 'RUS', 'USA', 'RUS', 'KAZ', 'RUS', 'RUS', 'FRA', 'RUS', 'RUS', 'RUS', 'RUS', 'USA', 'RUS', 'RUS', 'CHN', 'JPN', 'RUS', 'USA', 'KAZ', 'KAZ', 'USA', 'RUS', 'RUS', 'KAZ', 'RUS', 'USA', 'USA', 'FRA', 'USA', 'RUS', 'RUS', 'USA', 'RUS', 'KAZ', 'RUS', 'RUS', 'RUS', 'RUS', 'RUS', 'USA', 'IND', 'RUS', 'RUS', 'USA', 'KAZ', 'RUS', 'USA', 'RUS', 'RUS', 'RUS', 'RUS', 'JPN', 'RUS', 'USA', 'JPN', 'RUS', 'RUS', 'RUS', 'RUS', 'RUS', 'USA', 'RUS', 'KAZ', 'RUS', 'USA', 'USA', 'RUS', 'USA', 'RUS', 'RUS', 'USA', 'RUS', 'RUS', 'RUS', 'CHN', 'FRA', 'KAZ', 'JPN', 'RUS', 'KAZ', 'RUS', 'RUS', 'KAZ', 'RUS', 'KAZ', 'RUS', 'RUS', 'RUS', 'USA', 'RUS', 'RUS', 'KAZ', 'RUS', 'RUS', 'RUS', 'KAZ', 'RUS', 'RUS', 'RUS', 'KAZ', 'USA', 'RUS', 'RUS', 'KAZ', 'RUS', 'RUS', 'RUS', 'RUS', 'RUS', 'RUS', 'RUS', 'RUS', 'RUS', 'USA', 'USA', 'USA', 'RUS', 'RUS', 'RUS', 'RUS', 'RUS', 'KAZ', 'RUS', 'USA', 'RUS', 'RUS', 'KAZ', 'FRA', 'USA', 'RUS', 'USA', 'RUS', 'RUS', 'RUS', 'RUS', 'RUS', 'USA', 'RUS', 'USA', 'RUS', 'RUS', 'RUS', 'RUS', 'RUS', 'RUS', 'CHN', 'RUS', 'KAZ', 'RUS', 'USA', 'RUS', 'RUS', 'KAZ', 'RUS', 'JPN', 'RUS', 'RUS', 'USA', 'KAZ', 'RUS', 'KAZ', 'RUS', 'USA', 'RUS', 'FRA', 'RUS', 'RUS', 'IND', 'USA', 'RUS', 'RUS', 'RUS', 'USA', 'USA', 'RUS', 'RUS', 'RUS', 'KAZ', 'KAZ', 'USA', 'KAZ', 'RUS', 'KAZ', 'USA', 'USA', 'JPN', 'RUS', 'RUS', 'JPN', 'RUS', 'KAZ', 'RUS', 'RUS', 'RUS', 'RUS', 'RUS', 'RUS', 'KAZ', 'RUS', 'USA', 'RUS', 'USA', 'USA', 'RUS', 'RUS', 'RUS', 'RUS', 'RUS', 'KAZ', 'USA', 'RUS', 'RUS', 'RUS', 'RUS', 'RUS', 'RUS', 'IND', 'RUS', 'RUS', 'RUS', 'RUS', 'USA', 'KAZ', 'RUS', 'RUS', 'RUS', 'USA', 'FRA', 'RUS', 'RUS', 'KAZ', 'USA', 'RUS', 'KAZ', 'RUS', 'RUS', 'RUS', 'RUS', 'KAZ', 'USA', 'JPN', 'JPN', 'RUS', 'RUS', 'USA', 'USA', 'RUS', 'RUS', 'RUS', 'USA', 'RUS', 'RUS', 'FRA', 'RUS', 'RUS', 'USA', 'RUS', 'RUS', 'RUS', 'RUS', 'RUS', 'RUS', 'USA', 'RUS', 'USA', 'RUS', 'RUS', 'IND', 'RUS', 'CHN', 'RUS', 'RUS', 'RUS', 'RUS', 'RUS', 'USA', 'USA', 'RUS', 'RUS', 'RUS', 'USA', 'USA', 'KAZ', 'KAZ', 'RUS', 'RUS', 'RUS', 'RUS', 'RUS', 'USA', 'RUS', 'RUS', 'RUS', 'USA', 'RUS', 'RUS', 'RUS', 'JPN', 'KAZ', 'RUS', 'RUS', 'RUS', 'RUS', 'RUS', 'RUS', 'RUS', 'RUS', 'RUS', 'RUS', 'RUS', 'USA', 'USA', 'KAZ', 'RUS', 'RUS', 'RUS', 'RUS', 'RUS', 'RUS', 'USA', 'RUS', 'KAZ', 'RUS', 'RUS', 'RUS', 'USA', 'RUS', 'RUS', 'USA', 'RUS', 'RUS', 'RUS', 'RUS', 'JPN', 'RUS', 'RUS', 'RUS', 'RUS', 'USA', 'RUS', 'USA', 'RUS', 'RUS', 'USA', 'RUS', 'RUS', 'USA', 'RUS', 'USA', 'RUS', 'USA', 'KAZ', 'RUS', 'RUS', 'RUS', 'RUS', 'USA', 'KAZ', 'RUS', 'RUS', 'USA', 'RUS', 'RUS', 'RUS', 'RUS', 'CHN', 'USA', 'KAZ', 'USA', 'RUS', 'KAZ', 'RUS', 'USA', 'RUS', 'USA', 'RUS', 'RUS', 'KAZ', 'RUS', 'RUS', 'USA', 'USA', 'RUS', 'JPN', 'KAZ', 'USA', 'RUS', 'JPN', 'RUS', 'CHN', 'KAZ', 'RUS', 'RUS', 'RUS', 'RUS', 'RUS', 'USA', 'RUS', 'KAZ', 'RUS', 'RUS', 'KAZ', 'RUS', 'RUS', 'RUS', 'RUS', 'KAZ', 'USA', 'KAZ', 'USA', 'RUS', 'RUS', 'RUS', 'RUS', 'RUS', 'RUS', 'KAZ', 'RUS', 'RUS', 'RUS', 'KAZ', 'KAZ', 'USA', 'RUS', 'RUS', 'USA', 'KAZ', 'RUS', 'KAZ', 'RUS', 'KAZ', 'CHN', 'RUS', 'RUS', 'RUS', 'USA', 'RUS', 'RUS', 'RUS', 'RUS', 'RUS', 'KAZ', 'USA', 'USA', 'KAZ', 'RUS', 'RUS', 'RUS', 'RUS', 'KAZ', 'RUS', 'RUS', 'RUS', 'RUS', 'RUS', 'RUS', 'RUS', 'RUS', 'RUS', 'KAZ', 'USA', 'RUS', 'KAZ', 'USA', 'KAZ', 'RUS', 'KAZ', 'RUS', 'RUS', 'RUS', 'RUS', 'KAZ', 'RUS', 'USA', 'RUS', 'RUS', 'USA', 'KAZ', 'RUS', 'KAZ', 'USA', 'RUS', 'RUS', 'RUS', 'RUS', 'KAZ', 'RUS', 'RUS', 'RUS', 'RUS', 'RUS', 'RUS', 'RUS', 'RUS', 'USA', 'RUS', 'RUS', 'RUS', 'JPN', 'KAZ', 'RUS', 'JPN', 'RUS', 'RUS', 'RUS', 'KAZ', 'USA', 'RUS', 'RUS', 'KAZ', 'RUS', 'KAZ', 'RUS', 'RUS', 'KAZ', 'USA', 'RUS', 'KAZ', 'RUS', 'RUS', 'RUS', 'RUS', 'CHN', 'RUS', 'RUS', 'KAZ', 'KAZ', 'KAZ', 'RUS', 'KAZ', 'CHN', 'RUS', 'RUS', 'RUS', 'RUS', 'KAZ', 'KAZ', 'RUS', 'KAZ', 'KAZ', 'RUS', 'RUS', 'RUS', 'KAZ', 'RUS', 'USA', 'KAZ', 'RUS', 'RUS', 'CHN', 'KAZ', 'RUS', 'RUS', 'RUS', 'RUS', 'USA', 'RUS', 'RUS', 'RUS', 'RUS', 'KAZ', 'USA', 'RUS', 'KAZ', 'RUS', 'RUS', 'RUS', 'RUS', 'USA', 'KAZ', 'KAZ', 'RUS', 'RUS', 'KAZ', 'USA', 'RUS', 'RUS', 'RUS', 'RUS', 'KAZ', 'RUS', 'USA', 'RUS', 'RUS', 'KAZ', 'RUS', 'RUS', 'USA', 'RUS', 'RUS', 'KAZ', 'USA', 'RUS', 'RUS', 'RUS', 'RUS', 'RUS', 'RUS', 'RUS', 'USA', 'KAZ', 'KAZ', 'RUS', 'USA', 'KAZ', 'RUS', 'RUS', 'KAZ', 'JPN', 'RUS', 'KAZ', 'RUS', 'KAZ', 'RUS', 'JPN', 'RUS', 'USA', 'KAZ', 'RUS', 'RUS', 'KAZ', 'RUS', 'USA', 'RUS', 'RUS', 'RUS', 'RUS', 'KAZ', 'RUS', 'RUS', 'KAZ', 'CHN', 'USA', 'KAZ', 'RUS', 'USA', 'RUS', 'RUS', 'RUS', 'RUS', 'KAZ', 'KAZ', 'CHN', 'RUS', 'RUS', 'RUS', 'KAZ', 'RUS', 'USA', 'KAZ', 'RUS', 'KAZ', 'FRA', 'USA', 'RUS', 'RUS', 'RUS', 'RUS', 'RUS', 'KAZ', 'RUS', 'USA', 'JPN', 'RUS', 'RUS', 'RUS', 'RUS', 'RUS', 'USA', 'RUS', 'KAZ', 'RUS', 'CHN', 'RUS', 'RUS', 'RUS', 'USA', 'KAZ', 'RUS', 'RUS', 'RUS', 'RUS', 'RUS', 'RUS', 'RUS', 'RUS', 'USA', 'RUS', 'USA', 'RUS', 'RUS', 'RUS', 'RUS', 'KAZ', 'RUS', 'RUS', 'KAZ', 'USA', 'KAZ', 'USA', 'FRA', 'KEN', 'RUS', 'RUS', 'RUS', 'RUS', 'USA', 'RUS', 'KAZ', 'RUS', 'USA', 'RUS', 'RUS', 'KAZ', 'KAZ', 'KAZ', 'RUS', 'RUS', 'KAZ', 'RUS', 'RUS', 'KAZ', 'USA', 'RUS', 'KAZ', 'JPN', 'USA', 'RUS', 'RUS', 'FRA', 'RUS', 'RUS', 'RUS', 'RUS', 'RUS', 'RUS', 'KAZ', 'KAZ', 'KAZ', 'RUS', 'KAZ', 'RUS', 'RUS', 'RUS', 'RUS', 'USA', 'KAZ', 'RUS', 'USA', 'RUS', 'RUS', 'RUS', 'CHN', 'RUS', 'RUS', 'RUS', 'USA', 'RUS', 'KAZ', 'RUS', 'RUS', 'RUS', 'RUS', 'KEN', 'RUS', 'RUS', 'KAZ', 'RUS', 'RUS', 'RUS', 'RUS', 'KAZ', 'KAZ', 'RUS', 'USA', 'KAZ', 'RUS', 'KAZ', 'RUS', 'RUS', 'KAZ', 'RUS', 'USA', 'CHN', 'RUS', 'RUS', 'RUS', 'RUS', 'KAZ', 'RUS', 'RUS', 'RUS', 'RUS', 'RUS', 'RUS', 'RUS', 'USA', 'KAZ', 'USA', 'RUS', 'KAZ', 'KAZ', 'RUS', 'RUS', 'RUS', 'KAZ', 'RUS', 'KAZ', 'KAZ', 'RUS', 'RUS', 'RUS', 'RUS', 'RUS', 'KAZ', 'RUS', 'USA', 'RUS', 'KAZ', 'KAZ', 'RUS', 'KAZ', 'RUS', 'RUS', 'RUS', 'RUS', 'KEN', 'USA', 'KAZ', 'USA', 'RUS', 'JPN', 'RUS', 'KAZ', 'RUS', 'RUS', 'RUS', 'KAZ', 'RUS', 'RUS', 'RUS', 'RUS', 'KAZ', 'RUS', 'USA', 'RUS', 'RUS', 'RUS', 'RUS', 'RUS', 'RUS', 'KAZ', 'RUS', 'USA', 'KAZ', 'USA', 'RUS', 'USA', 'RUS', 'RUS', 'RUS', 'RUS', 'RUS', 'RUS', 'RUS', 'RUS', 'RUS', 'KAZ', 'RUS', 'RUS', 'RUS', 'RUS', 'USA', 'KAZ', 'RUS', 'CHN', 'RUS', 'RUS', 'RUS', 'KAZ', 'RUS', 'RUS', 'KAZ', 'USA', 'RUS', 'USA', 'RUS', 'RUS', 'USA', 'RUS', 'USA', 'RUS', 'RUS', 'RUS', 'RUS', 'USA', 'RUS', 'RUS', 'KAZ', 'USA', 'KAZ', 'RUS', 'RUS', 'RUS', 'RUS', 'RUS', 'USA', 'RUS', 'RUS', 'RUS', 'FRA', 'RUS', 'RUS', 'USA', 'USA', 'RUS', 'RUS', 'KAZ', 'RUS', 'RUS', 'RUS', 'USA', 'RUS', 'KAZ', 'RUS', 'RUS', 'USA', 'USA', 'KAZ', 'RUS', 'RUS', 'KAZ', 'RUS', 'KAZ', 'KAZ', 'RUS', 'RUS', 'RUS', 'KAZ', 'RUS', 'RUS', 'RUS', 'USA', 'RUS', 'USA', 'USA', 'RUS', 'RUS', 'KAZ', 'RUS', 'KAZ', 'KAZ', 'KEN', 'RUS', 'RUS', 'RUS', 'RUS', 'RUS', 'RUS', 'RUS', 'RUS', 'RUS', 'USA', 'RUS', 'RUS', 'USA', 'RUS', 'RUS', 'RUS', 'KAZ', 'RUS', 'RUS', 'USA', 'KAZ', 'RUS', 'KAZ', 'USA', 'JPN', 'RUS', 'RUS', 'CHN', 'KAZ', 'KAZ', 'RUS', 'RUS', 'RUS', 'RUS', 'RUS', 'USA', 'KAZ', 'RUS', 'KAZ', 'RUS', 'RUS', 'KAZ', 'RUS', 'RUS', 'KAZ', 'USA', 'KAZ', 'KAZ', 'USA', 'RUS', 'RUS', 'RUS', 'RUS', 'RUS', 'RUS', 'USA', 'RUS', 'KAZ', 'RUS', 'KAZ', 'RUS', 'RUS', 'RUS', 'KAZ', 'RUS', 'KAZ', 'RUS', 'RUS', 'RUS', 'USA', 'RUS', 'RUS', 'USA', 'RUS', 'USA', 'RUS', 'USA', 'KAZ', 'KAZ', 'RUS', 'KAZ', 'RUS', 'USA', 'USA', 'KAZ', 'RUS', 'RUS', 'RUS', 'KAZ', 'USA', 'RUS', 'RUS', 'RUS', 'KAZ', 'RUS', 'RUS', 'KAZ', 'FRA', 'USA', 'KAZ', 'RUS', 'RUS', 'RUS', 'RUS', 'RUS', 'RUS', 'RUS', 'RUS', 'RUS', 'RUS', 'KEN', 'FRA', 'USA', 'RUS', 'AUS', 'USA', 'RUS', 'KAZ', 'RUS', 'RUS', 'RUS', 'KAZ', 'KAZ', 'JPN', 'RUS', 'RUS', 'RUS', 'RUS', 'RUS', 'KAZ', 'RUS', 'KAZ', 'USA', 'KAZ', 'USA', 'KAZ', 'RUS', 'KAZ', 'RUS', 'RUS', 'USA', 'RUS', 'RUS', 'KAZ', 'RUS', 'KAZ', 'RUS', 'KAZ', 'USA', 'KAZ', 'RUS', 'KAZ', 'RUS', 'USA', 'RUS', 'KAZ', 'RUS', 'RUS', 'RUS', 'KAZ', 'RUS', 'KAZ', 'KAZ', 'USA', 'RUS', 'KAZ', 'USA', 'RUS', 'RUS', 'KEN', 'KAZ', 'USA', 'RUS', 'KAZ', 'RUS', 'FRA', 'RUS', 'RUS', 'RUS', 'KAZ', 'RUS', 'RUS', 'USA', 'RUS', 'RUS', 'RUS', 'KAZ', 'CHN', 'KAZ', 'KAZ', 'KAZ', 'JPN', 'RUS', 'RUS', 'JPN', 'RUS', 'USA', 'RUS', 'USA', 'USA', 'KAZ', 'RUS', 'RUS', 'KAZ', 'KAZ', 'RUS', 'RUS', 'RUS', 'RUS', 'KAZ', 'RUS', 'FRA', 'KEN', 'RUS', 'RUS', 'KAZ', 'RUS', 'USA', 'RUS', 'RUS', 'KAZ', 'RUS', 'KAZ', 'KAZ', 'USA', 'AUS', 'RUS', 'KAZ', 'USA', 'KAZ', 'KAZ', 'KAZ', 'RUS', 'RUS', 'RUS', 'RUS', 'KAZ', 'RUS', 'KAZ', 'KAZ', 'KAZ', 'RUS', 'KAZ', 'RUS', 'JPN', 'KAZ', 'RUS', 'KAZ', 'RUS', 'USA', 'KAZ', 'KAZ', 'RUS', 'RUS', 'USA', 'KAZ', 'RUS', 'RUS', 'RUS', 'RUS', 'KAZ', 'RUS', 'RUS', 'KAZ', 'RUS', 'RUS', 'KAZ', 'RUS', 'USA', 'RUS', 'USA', 'RUS', 'RUS', 'RUS', 'AUS', 'KAZ', 'KAZ', 'RUS', 'KAZ', 'RUS', 'RUS', 'RUS', 'RUS', 'CHN', 'RUS', 'USA', 'RUS', 'USA', 'RUS', 'USA', 'KAZ', 'RUS', 'RUS', 'RUS', 'RUS', 'RUS', 'RUS', 'FRA', 'RUS', 'RUS', 'RUS', 'JPN', 'RUS', 'KAZ', 'RUS', 'RUS', 'RUS', 'RUS', 'RUS', 'USA', 'KAZ', 'RUS', 'RUS', 'RUS', 'KAZ', 'RUS', 'RUS', 'RUS', 'KAZ', 'RUS', 'RUS', 'CHN', 'KAZ', 'USA', 'RUS', 'RUS', 'KAZ', 'USA', 'RUS', 'KAZ', 'KAZ', 'RUS', 'RUS', 'RUS', 'RUS', 'KAZ', 'KAZ', 'KAZ', 'RUS', 'RUS', 'KAZ', 'JPN', 'KAZ', 'KAZ', 'RUS', 'KAZ', 'USA', 'RUS', 'RUS', 'KAZ', 'RUS', 'USA', 'KAZ', 'KAZ', 'RUS', 'KAZ', 'RUS', 'USA', 'RUS', 'KAZ', 'AUS', 'KAZ', 'KAZ', 'RUS', 'KAZ', 'RUS', 'USA', 'RUS', 'KAZ', 'RUS', 'USA', 'RUS', 'USA', 'RUS', 'KAZ', 'USA', 'KAZ', 'USA', 'KAZ', 'RUS', 'RUS', 'RUS', 'KAZ', 'RUS', 'USA', 'KAZ', 'RUS', 'KAZ', 'RUS', 'USA', 'RUS', 'RUS', 'RUS', 'RUS', 'RUS', 'USA', 'USA', 'KAZ', 'RUS', 'USA', 'KAZ', 'KAZ', 'USA', 'RUS', 'RUS', 'KAZ', 'KAZ', 'USA', 'KAZ', 'KAZ', 'KAZ', 'RUS', 'KAZ', 'KAZ', 'RUS', 'USA', 'RUS', 'KAZ', 'RUS', 'KAZ', 'USA', 'USA', 'RUS', 'RUS', 'RUS', 'AUS', 'RUS', 'KAZ', 'RUS', 'KAZ', 'USA', 'KAZ', 'KAZ', 'RUS', 'KAZ', 'KAZ', 'KAZ', 'KAZ', 'USA', 'RUS', 'RUS', 'KAZ', 'RUS', 'KAZ', 'USA', 'KAZ', 'RUS', 'RUS', 'KAZ', 'KAZ', 'KAZ', 'KAZ', 'RUS', 'KAZ', 'USA', 'USA', 'KAZ', 'USA', 'USA', 'USA', 'KAZ', 'RUS', 'RUS', 'USA', 'KAZ', 'KAZ', 'RUS', 'RUS', 'KAZ', 'KAZ', 'KAZ', 'USA', 'RUS', 'RUS', 'USA', 'RUS', 'KAZ', 'RUS', 'RUS', 'RUS', 'RUS', 'RUS', 'KAZ', 'KAZ', 'KAZ', 'KAZ', 'KAZ', 'RUS', 'RUS', 'USA', 'KAZ', 'KAZ', 'RUS', 'KAZ', 'USA', 'USA', 'RUS', 'KAZ', 'KAZ', 'KAZ', 'RUS', 'RUS', 'USA', 'RUS', 'RUS', 'RUS', 'USA', 'KAZ', 'RUS', 'RUS', 'KAZ', 'KAZ', 'USA', 'RUS', 'USA', 'RUS', 'USA', 'KAZ', 'RUS', 'RUS', 'RUS', 'USA', 'RUS', 'AUS', 'RUS', 'RUS', 'KAZ', 'RUS', 'USA', 'USA', 'USA', 'RUS', 'RUS', 'KAZ', 'KAZ', 'KAZ', 'KAZ', 'USA', 'RUS', 'KAZ', 'KAZ', 'KAZ', 'KAZ', 'RUS', 'KAZ', 'KAZ', 'RUS', 'RUS', 'KAZ', 'USA', 'KAZ', 'KAZ', 'RUS', 'RUS', 'USA', 'RUS', 'KAZ', 'RUS', 'USA', 'KAZ', 'KAZ', 'USA', 'KAZ', 'USA', 'KAZ', 'KAZ', 'USA', 'KAZ', 'USA', 'RUS', 'USA', 'RUS', 'KAZ', 'RUS', 'USA', 'RUS', 'KAZ', 'RUS', 'RUS', 'USA', 'KAZ', 'KAZ', 'USA', 'RUS', 'KAZ', 'KAZ', 'RUS', 'KAZ', 'USA', 'USA', 'RUS', 'USA', 'KEN', 'KAZ', 'USA', 'KAZ', 'KAZ', 'USA', 'RUS', 'JPN', 'RUS', 'KAZ', 'KAZ', 'RUS', 'RUS', 'RUS', 'RUS', 'KAZ', 'RUS', 'RUS', 'KAZ', 'USA', 'FRA', 'RUS', 'RUS', 'FRA', 'KAZ', 'USA', 'USA', 'USA', 'KAZ', 'RUS', 'USA', 'RUS', 'KAZ', 'JPN', 'RUS', 'USA', 'KAZ', 'RUS', 'USA', 'USA', 'USA', 'KAZ', 'KAZ', 'KAZ', 'KAZ', 'RUS', 'USA', 'USA', 'USA', 'USA', 'USA', 'KAZ', 'USA', 'KAZ', 'KAZ', 'KAZ', 'RUS', 'USA', 'USA', 'USA', 'JPN', 'USA', 'KAZ', 'USA', 'KAZ', 'USA', 'USA', 'KAZ', 'USA', 'USA', 'KAZ', 'USA', 'USA', 'USA', 'KAZ', 'USA', 'KAZ', 'KAZ', 'USA', 'USA', 'KAZ', 'USA', 'USA', 'RUS', 'KAZ', 'USA', 'KAZ', 'RUS', 'USA', 'USA', 'KAZ', 'USA', 'USA', 'USA', 'USA', 'USA', 'RUS', 'USA', 'RUS', 'USA', 'USA', 'KAZ', 'KAZ', 'RUS', 'KAZ', 'KAZ', 'USA', 'USA', 'USA', 'RUS', 'KAZ', 'USA', 'KAZ', 'KAZ', 'KAZ', 'USA', 'RUS', 'USA', 'KAZ', 'USA', 'KAZ', 'RUS', 'KAZ', 'FRA', 'USA', 'RUS', 'KAZ', 'KAZ', 'RUS', 'KAZ', 'USA', 'KAZ', 'RUS', 'KAZ', 'KAZ', 'USA', 'RUS', 'KAZ', 'USA', 'KAZ', 'USA', 'KAZ', 'KAZ', 'FRA', 'RUS', 'KAZ', 'KAZ', 'KAZ', 'USA', 'RUS', 'KAZ', 'KAZ', 'USA', 'RUS', 'KAZ', 'USA', 'KAZ', 'USA', 'KAZ', 'USA', 'KAZ', 'KAZ', 'KAZ', 'KAZ', 'KAZ', 'USA', 'KAZ', 'USA', 'USA', 'KAZ', 'USA', 'RUS', 'USA', 'KAZ', 'KAZ', 'KAZ', 'KAZ', 'USA', 'RUS', 'USA', 'KAZ', 'USA', 'KAZ', 'KAZ', 'USA', 'USA', 'USA', 'KAZ', 'USA', 'KAZ', 'KAZ', 'USA', 'USA', 'KAZ', 'KAZ', 'KAZ', 'USA', 'KAZ', 'USA', 'USA', 'KAZ', 'KAZ', 'USA', 'KAZ', 'KAZ', 'USA', 'KAZ', 'KAZ', 'KAZ', 'RUS', 'USA', 'USA', 'RUS', 'USA', 'RUS', 'USA', 'USA', 'USA', 'KAZ', 'USA', 'USA', 'RUS', 'USA', 'RUS', 'KAZ', 'USA', 'USA', 'KAZ', 'RUS', 'KAZ', 'USA', 'KAZ', 'KAZ', 'USA', 'KAZ', 'KAZ', 'USA', 'USA', 'KAZ', 'USA', 'USA', 'KAZ', 'RUS', 'KAZ', 'KAZ', 'USA', 'KAZ', 'RUS', 'USA', 'USA', 'KAZ', 'KAZ', 'USA', 'KAZ', 'USA', 'KAZ', 'KAZ', 'RUS', 'KAZ', 'USA', 'USA', 'KAZ', 'KAZ', 'USA', 'KAZ', 'KAZ', 'USA', 'KAZ', 'KAZ', 'KAZ', 'KAZ', 'RUS', 'USA', 'RUS', 'USA', 'KAZ', 'USA', 'KAZ', 'USA', 'USA', 'KAZ', 'USA', 'RUS', 'KAZ', 'USA', 'KAZ', 'KAZ', 'KAZ', 'USA', 'RUS', 'KAZ', 'USA', 'USA', 'USA', 'RUS', 'RUS', 'USA', 'USA', 'KAZ', 'USA', 'KAZ', 'USA', 'KAZ', 'USA', 'RUS', 'KAZ', 'RUS', 'USA', 'USA', 'KAZ', 'USA', 'KAZ', 'RUS', 'RUS', 'USA', 'KAZ', 'KAZ', 'USA', 'KAZ', 'KAZ', 'KAZ', 'USA', 'USA', 'USA', 'USA', 'USA', 'USA', 'USA', 'USA', 'USA', 'USA', 'KAZ', 'KAZ', 'USA', 'USA', 'USA', 'RUS', 'KAZ', 'RUS', 'USA', 'KAZ', 'USA', 'USA', 'USA', 'USA', 'USA', 'KAZ', 'USA', 'USA', 'KAZ', 'USA', 'KAZ', 'USA', 'USA', 'KAZ', 'USA', 'RUS', 'KAZ', 'KAZ', 'USA', 'USA', 'KAZ', 'USA', 'USA', 'USA', 'USA', 'USA', 'RUS', 'USA', 'USA', 'USA', 'USA', 'USA', 'USA', 'KAZ', 'USA', 'RUS', 'USA', 'USA', 'USA', 'USA', 'USA', 'USA', 'USA', 'USA', 'USA', 'KAZ', 'RUS', 'USA', 'USA', 'USA', 'RUS', 'RUS', 'USA', 'USA', 'USA', 'USA', 'USA', 'USA', 'USA', 'USA', 'USA', 'USA', 'RUS', 'USA', 'KAZ', 'USA', 'USA', 'USA', 'USA', 'USA', 'USA', 'USA', 'RUS', 'USA', 'USA', 'USA', 'USA', 'USA', 'USA', 'USA', 'USA', 'USA', 'USA', 'USA', 'KAZ', 'USA', 'USA', 'USA', 'USA', 'USA', 'USA', 'USA', 'USA', 'USA', 'USA', 'USA', 'USA', 'KAZ', 'USA', 'USA', 'USA', 'KAZ', 'USA', 'KAZ', 'USA', 'USA', 'USA', 'USA', 'USA', 'KAZ', 'KAZ', 'USA', 'USA', 'KAZ', 'USA', 'USA', 'USA', 'USA', 'USA', 'KAZ', 'USA', 'USA', 'USA', 'USA', 'USA', 'KAZ', 'USA', 'KAZ', 'USA', 'USA', 'USA', 'KAZ', 'USA', 'USA', 'USA', 'USA', 'USA', 'KAZ', 'USA', 'USA', 'USA', 'KAZ', 'USA', 'KAZ', 'USA', 'KAZ', 'USA', 'USA', 'USA', 'USA', 'USA', 'USA', 'USA', 'USA', 'USA', 'KAZ', 'USA', 'USA', 'KAZ', 'USA', 'USA', 'USA', 'USA', 'USA', 'USA', 'KAZ', 'USA', 'USA', 'USA', 'USA', 'USA', 'KAZ', 'USA', 'USA', 'KAZ', 'USA', 'USA', 'KAZ', 'USA', 'USA', 'KAZ', 'USA', 'USA', 'USA', 'USA', 'USA', 'USA', 'USA', 'USA', 'USA', 'USA', 'USA', 'KAZ', 'USA', 'KAZ', 'USA', 'USA', 'USA', 'USA', 'USA', 'USA', 'KAZ', 'KAZ']\n"
          ]
        }
      ],
      "source": [
        "def get_country_code(name):\n",
        "    for co in list(countries):\n",
        "        if name in co.name:\n",
        "            return co.alpha_3\n",
        "    if name == \"USA\":\n",
        "      return \"USA\"\n",
        "\n",
        "Country_Codes = []\n",
        "Country_Codes = [get_country_code(alpha_3) for alpha_3 in df_data['Country']] \n",
        "print(Country_Codes)\n",
        "    "
      ]
    },
    {
      "cell_type": "code",
      "execution_count": 25,
      "metadata": {
        "colab": {
          "base_uri": "https://localhost:8080/",
          "height": 641
        },
        "id": "9uMtjRvSbxlK",
        "outputId": "ff3f3500-f4db-4cd0-c3f9-503a41dd9291"
      },
      "outputs": [
        {
          "output_type": "execute_result",
          "data": {
            "text/html": [
              "\n",
              "  <div id=\"df-7fa2cdb2-de85-4ff7-9603-b0dc1d4af276\">\n",
              "    <div class=\"colab-df-container\">\n",
              "      <div>\n",
              "<style scoped>\n",
              "    .dataframe tbody tr th:only-of-type {\n",
              "        vertical-align: middle;\n",
              "    }\n",
              "\n",
              "    .dataframe tbody tr th {\n",
              "        vertical-align: top;\n",
              "    }\n",
              "\n",
              "    .dataframe thead th {\n",
              "        text-align: right;\n",
              "    }\n",
              "</style>\n",
              "<table border=\"1\" class=\"dataframe\">\n",
              "  <thead>\n",
              "    <tr style=\"text-align: right;\">\n",
              "      <th></th>\n",
              "      <th>Organisation</th>\n",
              "      <th>Location</th>\n",
              "      <th>Date</th>\n",
              "      <th>Detail</th>\n",
              "      <th>Rocket_Status</th>\n",
              "      <th>Price</th>\n",
              "      <th>Mission_Status</th>\n",
              "      <th>Country</th>\n",
              "      <th>Country_Codes</th>\n",
              "    </tr>\n",
              "  </thead>\n",
              "  <tbody>\n",
              "    <tr>\n",
              "      <th>0</th>\n",
              "      <td>SpaceX</td>\n",
              "      <td>LC-39A, Kennedy Space Center, Florida, USA</td>\n",
              "      <td>2020-08-07 05:12:00+00:00</td>\n",
              "      <td>Falcon 9 Block 5 | Starlink V1 L9 &amp; BlackSky</td>\n",
              "      <td>StatusActive</td>\n",
              "      <td>50.00</td>\n",
              "      <td>Success</td>\n",
              "      <td>USA</td>\n",
              "      <td>USA</td>\n",
              "    </tr>\n",
              "    <tr>\n",
              "      <th>1</th>\n",
              "      <td>CASC</td>\n",
              "      <td>Site 9401 (SLS-2), Jiuquan Satellite Launch Ce...</td>\n",
              "      <td>2020-08-06 04:01:00+00:00</td>\n",
              "      <td>Long March 2D | Gaofen-9 04 &amp; Q-SAT</td>\n",
              "      <td>StatusActive</td>\n",
              "      <td>29.75</td>\n",
              "      <td>Success</td>\n",
              "      <td>China</td>\n",
              "      <td>CHN</td>\n",
              "    </tr>\n",
              "    <tr>\n",
              "      <th>2</th>\n",
              "      <td>SpaceX</td>\n",
              "      <td>Pad A, Boca Chica, Texas, USA</td>\n",
              "      <td>2020-08-04 23:57:00+00:00</td>\n",
              "      <td>Starship Prototype | 150 Meter Hop</td>\n",
              "      <td>StatusActive</td>\n",
              "      <td>nan</td>\n",
              "      <td>Success</td>\n",
              "      <td>USA</td>\n",
              "      <td>USA</td>\n",
              "    </tr>\n",
              "    <tr>\n",
              "      <th>3</th>\n",
              "      <td>Roscosmos</td>\n",
              "      <td>Site 200/39, Baikonur Cosmodrome, Kazakhstan</td>\n",
              "      <td>2020-07-30 21:25:00+00:00</td>\n",
              "      <td>Proton-M/Briz-M | Ekspress-80 &amp; Ekspress-103</td>\n",
              "      <td>StatusActive</td>\n",
              "      <td>65.00</td>\n",
              "      <td>Success</td>\n",
              "      <td>Kazakhstan</td>\n",
              "      <td>KAZ</td>\n",
              "    </tr>\n",
              "    <tr>\n",
              "      <th>4</th>\n",
              "      <td>ULA</td>\n",
              "      <td>SLC-41, Cape Canaveral AFS, Florida, USA</td>\n",
              "      <td>2020-07-30 11:50:00+00:00</td>\n",
              "      <td>Atlas V 541 | Perseverance</td>\n",
              "      <td>StatusActive</td>\n",
              "      <td>145.00</td>\n",
              "      <td>Success</td>\n",
              "      <td>USA</td>\n",
              "      <td>USA</td>\n",
              "    </tr>\n",
              "    <tr>\n",
              "      <th>...</th>\n",
              "      <td>...</td>\n",
              "      <td>...</td>\n",
              "      <td>...</td>\n",
              "      <td>...</td>\n",
              "      <td>...</td>\n",
              "      <td>...</td>\n",
              "      <td>...</td>\n",
              "      <td>...</td>\n",
              "      <td>...</td>\n",
              "    </tr>\n",
              "    <tr>\n",
              "      <th>4319</th>\n",
              "      <td>US Navy</td>\n",
              "      <td>LC-18A, Cape Canaveral AFS, Florida, USA</td>\n",
              "      <td>1958-02-05 07:33:00+00:00</td>\n",
              "      <td>Vanguard | Vanguard TV3BU</td>\n",
              "      <td>StatusRetired</td>\n",
              "      <td>nan</td>\n",
              "      <td>Failure</td>\n",
              "      <td>USA</td>\n",
              "      <td>USA</td>\n",
              "    </tr>\n",
              "    <tr>\n",
              "      <th>4320</th>\n",
              "      <td>AMBA</td>\n",
              "      <td>LC-26A, Cape Canaveral AFS, Florida, USA</td>\n",
              "      <td>1958-02-01 03:48:00+00:00</td>\n",
              "      <td>Juno I | Explorer 1</td>\n",
              "      <td>StatusRetired</td>\n",
              "      <td>nan</td>\n",
              "      <td>Success</td>\n",
              "      <td>USA</td>\n",
              "      <td>USA</td>\n",
              "    </tr>\n",
              "    <tr>\n",
              "      <th>4321</th>\n",
              "      <td>US Navy</td>\n",
              "      <td>LC-18A, Cape Canaveral AFS, Florida, USA</td>\n",
              "      <td>1957-12-06 16:44:00+00:00</td>\n",
              "      <td>Vanguard | Vanguard TV3</td>\n",
              "      <td>StatusRetired</td>\n",
              "      <td>nan</td>\n",
              "      <td>Failure</td>\n",
              "      <td>USA</td>\n",
              "      <td>USA</td>\n",
              "    </tr>\n",
              "    <tr>\n",
              "      <th>4322</th>\n",
              "      <td>RVSN USSR</td>\n",
              "      <td>Site 1/5, Baikonur Cosmodrome, Kazakhstan</td>\n",
              "      <td>1957-11-03 02:30:00+00:00</td>\n",
              "      <td>Sputnik 8K71PS | Sputnik-2</td>\n",
              "      <td>StatusRetired</td>\n",
              "      <td>nan</td>\n",
              "      <td>Success</td>\n",
              "      <td>Kazakhstan</td>\n",
              "      <td>KAZ</td>\n",
              "    </tr>\n",
              "    <tr>\n",
              "      <th>4323</th>\n",
              "      <td>RVSN USSR</td>\n",
              "      <td>Site 1/5, Baikonur Cosmodrome, Kazakhstan</td>\n",
              "      <td>1957-10-04 19:28:00+00:00</td>\n",
              "      <td>Sputnik 8K71PS | Sputnik-1</td>\n",
              "      <td>StatusRetired</td>\n",
              "      <td>nan</td>\n",
              "      <td>Success</td>\n",
              "      <td>Kazakhstan</td>\n",
              "      <td>KAZ</td>\n",
              "    </tr>\n",
              "  </tbody>\n",
              "</table>\n",
              "<p>4324 rows × 9 columns</p>\n",
              "</div>\n",
              "      <button class=\"colab-df-convert\" onclick=\"convertToInteractive('df-7fa2cdb2-de85-4ff7-9603-b0dc1d4af276')\"\n",
              "              title=\"Convert this dataframe to an interactive table.\"\n",
              "              style=\"display:none;\">\n",
              "        \n",
              "  <svg xmlns=\"http://www.w3.org/2000/svg\" height=\"24px\"viewBox=\"0 0 24 24\"\n",
              "       width=\"24px\">\n",
              "    <path d=\"M0 0h24v24H0V0z\" fill=\"none\"/>\n",
              "    <path d=\"M18.56 5.44l.94 2.06.94-2.06 2.06-.94-2.06-.94-.94-2.06-.94 2.06-2.06.94zm-11 1L8.5 8.5l.94-2.06 2.06-.94-2.06-.94L8.5 2.5l-.94 2.06-2.06.94zm10 10l.94 2.06.94-2.06 2.06-.94-2.06-.94-.94-2.06-.94 2.06-2.06.94z\"/><path d=\"M17.41 7.96l-1.37-1.37c-.4-.4-.92-.59-1.43-.59-.52 0-1.04.2-1.43.59L10.3 9.45l-7.72 7.72c-.78.78-.78 2.05 0 2.83L4 21.41c.39.39.9.59 1.41.59.51 0 1.02-.2 1.41-.59l7.78-7.78 2.81-2.81c.8-.78.8-2.07 0-2.86zM5.41 20L4 18.59l7.72-7.72 1.47 1.35L5.41 20z\"/>\n",
              "  </svg>\n",
              "      </button>\n",
              "      \n",
              "  <style>\n",
              "    .colab-df-container {\n",
              "      display:flex;\n",
              "      flex-wrap:wrap;\n",
              "      gap: 12px;\n",
              "    }\n",
              "\n",
              "    .colab-df-convert {\n",
              "      background-color: #E8F0FE;\n",
              "      border: none;\n",
              "      border-radius: 50%;\n",
              "      cursor: pointer;\n",
              "      display: none;\n",
              "      fill: #1967D2;\n",
              "      height: 32px;\n",
              "      padding: 0 0 0 0;\n",
              "      width: 32px;\n",
              "    }\n",
              "\n",
              "    .colab-df-convert:hover {\n",
              "      background-color: #E2EBFA;\n",
              "      box-shadow: 0px 1px 2px rgba(60, 64, 67, 0.3), 0px 1px 3px 1px rgba(60, 64, 67, 0.15);\n",
              "      fill: #174EA6;\n",
              "    }\n",
              "\n",
              "    [theme=dark] .colab-df-convert {\n",
              "      background-color: #3B4455;\n",
              "      fill: #D2E3FC;\n",
              "    }\n",
              "\n",
              "    [theme=dark] .colab-df-convert:hover {\n",
              "      background-color: #434B5C;\n",
              "      box-shadow: 0px 1px 3px 1px rgba(0, 0, 0, 0.15);\n",
              "      filter: drop-shadow(0px 1px 2px rgba(0, 0, 0, 0.3));\n",
              "      fill: #FFFFFF;\n",
              "    }\n",
              "  </style>\n",
              "\n",
              "      <script>\n",
              "        const buttonEl =\n",
              "          document.querySelector('#df-7fa2cdb2-de85-4ff7-9603-b0dc1d4af276 button.colab-df-convert');\n",
              "        buttonEl.style.display =\n",
              "          google.colab.kernel.accessAllowed ? 'block' : 'none';\n",
              "\n",
              "        async function convertToInteractive(key) {\n",
              "          const element = document.querySelector('#df-7fa2cdb2-de85-4ff7-9603-b0dc1d4af276');\n",
              "          const dataTable =\n",
              "            await google.colab.kernel.invokeFunction('convertToInteractive',\n",
              "                                                     [key], {});\n",
              "          if (!dataTable) return;\n",
              "\n",
              "          const docLinkHtml = 'Like what you see? Visit the ' +\n",
              "            '<a target=\"_blank\" href=https://colab.research.google.com/notebooks/data_table.ipynb>data table notebook</a>'\n",
              "            + ' to learn more about interactive tables.';\n",
              "          element.innerHTML = '';\n",
              "          dataTable['output_type'] = 'display_data';\n",
              "          await google.colab.output.renderOutput(dataTable, element);\n",
              "          const docLink = document.createElement('div');\n",
              "          docLink.innerHTML = docLinkHtml;\n",
              "          element.appendChild(docLink);\n",
              "        }\n",
              "      </script>\n",
              "    </div>\n",
              "  </div>\n",
              "  "
            ],
            "text/plain": [
              "     Organisation  ... Country_Codes\n",
              "0          SpaceX  ...           USA\n",
              "1            CASC  ...           CHN\n",
              "2          SpaceX  ...           USA\n",
              "3       Roscosmos  ...           KAZ\n",
              "4             ULA  ...           USA\n",
              "...           ...  ...           ...\n",
              "4319      US Navy  ...           USA\n",
              "4320         AMBA  ...           USA\n",
              "4321      US Navy  ...           USA\n",
              "4322    RVSN USSR  ...           KAZ\n",
              "4323    RVSN USSR  ...           KAZ\n",
              "\n",
              "[4324 rows x 9 columns]"
            ]
          },
          "metadata": {},
          "execution_count": 25
        }
      ],
      "source": [
        "df_data['Country_Codes'] = Country_Codes\n",
        "df_data"
      ]
    },
    {
      "cell_type": "markdown",
      "metadata": {
        "id": "F3pwYSUlo_AK"
      },
      "source": [
        "# Use a Choropleth Map to Show the Number of Failures by Country\n"
      ]
    },
    {
      "cell_type": "code",
      "execution_count": 26,
      "metadata": {
        "id": "_hwSv1y_vM2u"
      },
      "outputs": [],
      "source": [
        "Failure_Status = df_data[df_data.Mission_Status == 'Failure']"
      ]
    },
    {
      "cell_type": "code",
      "execution_count": 27,
      "metadata": {
        "colab": {
          "base_uri": "https://localhost:8080/",
          "height": 542
        },
        "id": "8BH4ICtro9I0",
        "outputId": "38a15f91-abde-4bac-e174-34e04063ac98"
      },
      "outputs": [
        {
          "output_type": "display_data",
          "data": {
            "text/html": [
              "<html>\n",
              "<head><meta charset=\"utf-8\" /></head>\n",
              "<body>\n",
              "    <div>            <script src=\"https://cdnjs.cloudflare.com/ajax/libs/mathjax/2.7.5/MathJax.js?config=TeX-AMS-MML_SVG\"></script><script type=\"text/javascript\">if (window.MathJax) {MathJax.Hub.Config({SVG: {font: \"STIX-Web\"}});}</script>                <script type=\"text/javascript\">window.PlotlyConfig = {MathJaxConfig: 'local'};</script>\n",
              "        <script src=\"https://cdn.plot.ly/plotly-2.8.3.min.js\"></script>                <div id=\"20098426-f9fb-4753-b47f-0297c1f5c0dc\" class=\"plotly-graph-div\" style=\"height:525px; width:100%;\"></div>            <script type=\"text/javascript\">                                    window.PLOTLYENV=window.PLOTLYENV || {};                                    if (document.getElementById(\"20098426-f9fb-4753-b47f-0297c1f5c0dc\")) {                    Plotly.newPlot(                        \"20098426-f9fb-4753-b47f-0297c1f5c0dc\",                        [{\"colorscale\":[[0.0,\"#636efa\"],[1.0,\"#636efa\"]],\"geo\":\"geo\",\"hovertemplate\":\"<b>%{hovertext}</b><br><br>Mission_Status=Failure<br>Country_Codes=%{location}<extra></extra>\",\"hovertext\":[\"ExPace\",\"Rocket Lab\",\"Virgin Orbit\",\"CASC\",\"CASC\",\"ISA\",\"Exos\",\"Arianespace\",\"CASC\",\"OneSpace\",\"ISA\",\"ISA\",\"Landspace\",\"Roscosmos\",\"Roscosmos\",\"ISRO\",\"ISA\",\"CASC\",\"Rocket Lab\",\"JAXA\",\"Roscosmos\",\"CASC\",\"Sandia\",\"SpaceX\",\"ISA\",\"Northrop\",\"VKS RF\",\"Sea Launch\",\"ISA\",\"ISA\",\"KCST\",\"Northrop\",\"ISRO\",\"KARI\",\"ISRO\",\"KARI\",\"KCST\",\"Northrop\",\"ISA\",\"SpaceX\",\"SpaceX\",\"Sea Launch\",\"Kosmotras\",\"ISRO\",\"SpaceX\",\"Eurockot\",\"SRC\",\"VKS RF\",\"IAI\",\"MHI\",\"CASIC\",\"NASA\",\"Arianespace\",\"CASIC\",\"Northrop\",\"VKS RF\",\"VKS RF\",\"Sea Launch\",\"ISAS\",\"AEB\",\"MHI\",\"Boeing\",\"Lockheed\",\"Lockheed\",\"Lockheed\",\"VKS RF\",\"KCST\",\"Boeing\",\"Lockheed\",\"IAI\",\"AEB\",\"VKS RF\",\"Boeing\",\"Northrop\",\"ESA\",\"CASC\",\"EER\",\"Lockheed\",\"Northrop\",\"MITT\",\"CASC\",\"Arianespace\",\"Northrop\",\"VKS RF\",\"Arianespace\",\"Martin Marietta\",\"ISRO\",\"Martin Marietta\",\"General Dynamics\",\"CASC\",\"General Dynamics\",\"RVSN USSR\",\"RVSN USSR\",\"RVSN USSR\",\"General Dynamics\",\"RVSN USSR\",\"Martin Marietta\",\"Arianespace\",\"RVSN USSR\",\"ISRO\",\"General Dynamics\",\"ISRO\",\"RVSN USSR\",\"Arianespace\",\"Martin Marietta\",\"NASA\",\"RVSN USSR\",\"Arianespace\",\"Martin Marietta\",\"RVSN USSR\",\"RVSN USSR\",\"General Dynamics\",\"RVSN USSR\",\"RVSN USSR\",\"ESA\",\"RVSN USSR\",\"General Dynamics\",\"RVSN USSR\",\"General Dynamics\",\"General Dynamics\",\"ESA\",\"ISRO\",\"CASC\",\"Martin Marietta\",\"RVSN USSR\",\"General Dynamics\",\"RVSN USSR\",\"RVSN USSR\",\"CASC\",\"RVSN USSR\",\"ISAS\",\"RVSN USSR\",\"RVSN USSR\",\"Martin Marietta\",\"General Dynamics\",\"RVSN USSR\",\"General Dynamics\",\"CASC\",\"RVSN USSR\",\"CASC\",\"RVSN USSR\",\"RVSN USSR\",\"RVSN USSR\",\"Martin Marietta\",\"CASC\",\"RVSN USSR\",\"RVSN USSR\",\"US Air Force\",\"RVSN USSR\",\"CNES\",\"RVSN USSR\",\"RVSN USSR\",\"RVSN USSR\",\"RVSN USSR\",\"RVSN USSR\",\"US Air Force\",\"RVSN USSR\",\"Martin Marietta\",\"CNES\",\"General Dynamics\",\"RVSN USSR\",\"CECLES\",\"RVSN USSR\",\"RVSN USSR\",\"RVSN USSR\",\"RVSN USSR\",\"RVSN USSR\",\"General Dynamics\",\"RVSN USSR\",\"RVSN USSR\",\"RVSN USSR\",\"General Dynamics\",\"RAE\",\"ISAS\",\"RVSN USSR\",\"RVSN USSR\",\"CECLES\",\"RVSN USSR\",\"RVSN USSR\",\"RVSN USSR\",\"RVSN USSR\",\"RVSN USSR\",\"CASC\",\"RVSN USSR\",\"UT\",\"RVSN USSR\",\"RVSN USSR\",\"CECLES\",\"RVSN USSR\",\"RVSN USSR\",\"RVSN USSR\",\"RVSN USSR\",\"RVSN USSR\",\"RVSN USSR\",\"RVSN USSR\",\"RVSN USSR\",\"RVSN USSR\",\"General Dynamics\",\"RVSN USSR\",\"RVSN USSR\",\"RVSN USSR\",\"RVSN USSR\",\"RVSN USSR\",\"RVSN USSR\",\"RVSN USSR\",\"RVSN USSR\",\"RVSN USSR\",\"RVSN USSR\",\"RVSN USSR\",\"RVSN USSR\",\"US Air Force\",\"UT\",\"RVSN USSR\",\"NASA\",\"UT\",\"RVSN USSR\",\"UT\",\"RVSN USSR\",\"Martin Marietta\",\"General Dynamics\",\"RVSN USSR\",\"RVSN USSR\",\"RVSN USSR\",\"RVSN USSR\",\"RVSN USSR\",\"General Dynamics\",\"Martin Marietta\",\"RVSN USSR\",\"General Dynamics\",\"General Dynamics\",\"RVSN USSR\",\"General Dynamics\",\"RVSN USSR\",\"RVSN USSR\",\"General Dynamics\",\"RVSN USSR\",\"General Dynamics\",\"RVSN USSR\",\"General Dynamics\",\"US Air Force\",\"General Dynamics\",\"RVSN USSR\",\"RVSN USSR\",\"RVSN USSR\",\"RVSN USSR\",\"RVSN USSR\",\"RVSN USSR\",\"US Air Force\",\"RVSN USSR\",\"RVSN USSR\",\"General Dynamics\",\"RVSN USSR\",\"US Air Force\",\"RVSN USSR\",\"US Air Force\",\"RVSN USSR\",\"RVSN USSR\",\"General Dynamics\",\"RVSN USSR\",\"RVSN USSR\",\"RVSN USSR\",\"RVSN USSR\",\"RVSN USSR\",\"RVSN USSR\",\"General Dynamics\",\"RVSN USSR\",\"US Air Force\",\"US Air Force\",\"General Dynamics\",\"NASA\",\"US Air Force\",\"US Air Force\",\"RVSN USSR\",\"RVSN USSR\",\"General Dynamics\",\"General Dynamics\",\"US Air Force\",\"NASA\",\"RVSN USSR\",\"US Air Force\",\"General Dynamics\",\"General Dynamics\",\"US Air Force\",\"US Air Force\",\"NASA\",\"US Air Force\",\"NASA\",\"US Air Force\",\"RVSN USSR\",\"RVSN USSR\",\"General Dynamics\",\"NASA\",\"US Air Force\",\"NASA\",\"US Air Force\",\"RVSN USSR\",\"General Dynamics\",\"RVSN USSR\",\"General Dynamics\",\"US Air Force\",\"NASA\",\"RVSN USSR\",\"US Air Force\",\"US Air Force\",\"RVSN USSR\",\"RVSN USSR\",\"General Dynamics\",\"US Air Force\",\"US Air Force\",\"General Dynamics\",\"US Air Force\",\"US Air Force\",\"US Air Force\",\"US Navy\",\"RVSN USSR\",\"US Air Force\",\"US Navy\",\"US Air Force\",\"RVSN USSR\",\"NASA\",\"AMBA\",\"RVSN USSR\",\"US Navy\",\"RVSN USSR\",\"US Navy\",\"US Navy\",\"US Navy\",\"AMBA\",\"US Navy\",\"US Air Force\",\"US Navy\",\"US Navy\",\"US Navy\",\"US Navy\",\"US Navy\",\"RVSN USSR\",\"AMBA\",\"US Navy\",\"US Navy\"],\"locations\":[\"CHN\",\"NZL\",\"USA\",\"CHN\",\"CHN\",\"IRN\",\"MEX\",\"FRA\",\"CHN\",\"CHN\",\"IRN\",\"IRN\",\"CHN\",\"KAZ\",\"RUS\",\"IND\",\"IRN\",\"CHN\",\"NZL\",\"JPN\",\"KAZ\",\"CHN\",null,\"USA\",\"IRN\",\"USA\",\"KAZ\",\"IOT\",\"IRN\",\"IRN\",\"KOR\",\"USA\",\"IND\",\"KOR\",\"IND\",\"KOR\",\"KOR\",\"USA\",\"IRN\",\"USA\",\"USA\",\"IOT\",\"KAZ\",\"IND\",\"USA\",\"RUS\",null,\"RUS\",\"ISR\",\"JPN\",\"CHN\",\"USA\",\"FRA\",\"CHN\",\"USA\",\"RUS\",\"RUS\",\"IOT\",\"JPN\",\"BRA\",\"JPN\",\"USA\",\"USA\",\"USA\",\"USA\",\"KAZ\",\"KOR\",\"USA\",\"USA\",\"ISR\",\"BRA\",\"KAZ\",\"USA\",\"USA\",\"FRA\",\"CHN\",\"USA\",\"USA\",\"USA\",\"RUS\",\"CHN\",\"FRA\",\"USA\",\"RUS\",\"FRA\",\"USA\",\"IND\",\"USA\",\"USA\",\"CHN\",\"USA\",\"KAZ\",\"KAZ\",\"RUS\",\"USA\",\"KAZ\",\"USA\",\"FRA\",\"RUS\",\"IND\",\"USA\",\"IND\",\"RUS\",\"FRA\",\"USA\",\"USA\",\"RUS\",\"FRA\",\"USA\",\"KAZ\",\"KAZ\",\"USA\",\"RUS\",\"RUS\",\"FRA\",\"RUS\",\"USA\",\"RUS\",\"USA\",\"USA\",\"FRA\",\"IND\",\"CHN\",\"USA\",\"RUS\",\"USA\",\"KAZ\",\"KAZ\",\"CHN\",\"RUS\",\"JPN\",\"RUS\",\"RUS\",\"USA\",\"USA\",\"KAZ\",\"USA\",\"CHN\",\"RUS\",\"CHN\",\"RUS\",\"RUS\",\"KAZ\",\"USA\",\"CHN\",\"RUS\",\"RUS\",\"USA\",\"RUS\",\"FRA\",\"KAZ\",\"KAZ\",\"RUS\",\"RUS\",\"KAZ\",\"USA\",\"RUS\",\"USA\",\"FRA\",\"USA\",\"RUS\",\"FRA\",\"KAZ\",\"RUS\",\"RUS\",\"KAZ\",\"RUS\",\"USA\",\"RUS\",\"RUS\",\"RUS\",\"USA\",\"AUS\",\"JPN\",\"RUS\",\"RUS\",\"AUS\",\"RUS\",\"KAZ\",\"RUS\",\"RUS\",\"KAZ\",\"CHN\",\"KAZ\",\"JPN\",\"RUS\",\"KAZ\",\"AUS\",\"KAZ\",\"KAZ\",\"KAZ\",\"RUS\",\"KAZ\",\"KAZ\",\"RUS\",\"KAZ\",\"KAZ\",\"USA\",\"KAZ\",\"RUS\",\"KAZ\",\"RUS\",\"KAZ\",\"KAZ\",\"KAZ\",\"RUS\",\"RUS\",\"KAZ\",\"RUS\",\"RUS\",\"USA\",\"JPN\",\"KAZ\",\"USA\",\"JPN\",\"KAZ\",\"JPN\",\"KAZ\",\"USA\",\"USA\",\"RUS\",\"KAZ\",\"KAZ\",\"RUS\",\"RUS\",\"USA\",\"USA\",\"KAZ\",\"USA\",\"USA\",\"KAZ\",\"USA\",\"RUS\",\"RUS\",\"USA\",\"RUS\",\"USA\",\"KAZ\",\"USA\",\"USA\",\"USA\",\"KAZ\",\"KAZ\",\"KAZ\",\"KAZ\",\"KAZ\",\"RUS\",\"USA\",\"RUS\",\"KAZ\",\"USA\",\"RUS\",\"USA\",\"RUS\",\"USA\",\"KAZ\",\"KAZ\",\"USA\",\"KAZ\",\"RUS\",\"KAZ\",\"KAZ\",\"KAZ\",\"KAZ\",\"USA\",\"KAZ\",\"USA\",\"USA\",\"USA\",\"USA\",\"USA\",\"USA\",\"RUS\",\"KAZ\",\"USA\",\"USA\",\"USA\",\"USA\",\"RUS\",\"USA\",\"USA\",\"USA\",\"USA\",\"USA\",\"USA\",\"USA\",\"USA\",\"USA\",\"KAZ\",\"KAZ\",\"USA\",\"USA\",\"USA\",\"USA\",\"USA\",\"KAZ\",\"USA\",\"KAZ\",\"USA\",\"USA\",\"USA\",\"KAZ\",\"USA\",\"USA\",\"KAZ\",\"KAZ\",\"USA\",\"USA\",\"USA\",\"USA\",\"USA\",\"USA\",\"USA\",\"USA\",\"KAZ\",\"USA\",\"USA\",\"USA\",\"KAZ\",\"USA\",\"USA\",\"KAZ\",\"USA\",\"KAZ\",\"USA\",\"USA\",\"USA\",\"USA\",\"USA\",\"USA\",\"USA\",\"USA\",\"USA\",\"USA\",\"USA\",\"KAZ\",\"USA\",\"USA\",\"USA\"],\"name\":\"Failure\",\"showlegend\":true,\"showscale\":false,\"z\":[1,1,1,1,1,1,1,1,1,1,1,1,1,1,1,1,1,1,1,1,1,1,1,1,1,1,1,1,1,1,1,1,1,1,1,1,1,1,1,1,1,1,1,1,1,1,1,1,1,1,1,1,1,1,1,1,1,1,1,1,1,1,1,1,1,1,1,1,1,1,1,1,1,1,1,1,1,1,1,1,1,1,1,1,1,1,1,1,1,1,1,1,1,1,1,1,1,1,1,1,1,1,1,1,1,1,1,1,1,1,1,1,1,1,1,1,1,1,1,1,1,1,1,1,1,1,1,1,1,1,1,1,1,1,1,1,1,1,1,1,1,1,1,1,1,1,1,1,1,1,1,1,1,1,1,1,1,1,1,1,1,1,1,1,1,1,1,1,1,1,1,1,1,1,1,1,1,1,1,1,1,1,1,1,1,1,1,1,1,1,1,1,1,1,1,1,1,1,1,1,1,1,1,1,1,1,1,1,1,1,1,1,1,1,1,1,1,1,1,1,1,1,1,1,1,1,1,1,1,1,1,1,1,1,1,1,1,1,1,1,1,1,1,1,1,1,1,1,1,1,1,1,1,1,1,1,1,1,1,1,1,1,1,1,1,1,1,1,1,1,1,1,1,1,1,1,1,1,1,1,1,1,1,1,1,1,1,1,1,1,1,1,1,1,1,1,1,1,1,1,1,1,1,1,1,1,1,1,1,1,1,1,1,1,1,1,1,1,1,1,1,1,1,1,1,1,1,1,1,1,1,1,1,1,1,1,1,1,1],\"type\":\"choropleth\"}],                        {\"template\":{\"data\":{\"bar\":[{\"error_x\":{\"color\":\"#2a3f5f\"},\"error_y\":{\"color\":\"#2a3f5f\"},\"marker\":{\"line\":{\"color\":\"#E5ECF6\",\"width\":0.5},\"pattern\":{\"fillmode\":\"overlay\",\"size\":10,\"solidity\":0.2}},\"type\":\"bar\"}],\"barpolar\":[{\"marker\":{\"line\":{\"color\":\"#E5ECF6\",\"width\":0.5},\"pattern\":{\"fillmode\":\"overlay\",\"size\":10,\"solidity\":0.2}},\"type\":\"barpolar\"}],\"carpet\":[{\"aaxis\":{\"endlinecolor\":\"#2a3f5f\",\"gridcolor\":\"white\",\"linecolor\":\"white\",\"minorgridcolor\":\"white\",\"startlinecolor\":\"#2a3f5f\"},\"baxis\":{\"endlinecolor\":\"#2a3f5f\",\"gridcolor\":\"white\",\"linecolor\":\"white\",\"minorgridcolor\":\"white\",\"startlinecolor\":\"#2a3f5f\"},\"type\":\"carpet\"}],\"choropleth\":[{\"colorbar\":{\"outlinewidth\":0,\"ticks\":\"\"},\"type\":\"choropleth\"}],\"contour\":[{\"colorbar\":{\"outlinewidth\":0,\"ticks\":\"\"},\"colorscale\":[[0.0,\"#0d0887\"],[0.1111111111111111,\"#46039f\"],[0.2222222222222222,\"#7201a8\"],[0.3333333333333333,\"#9c179e\"],[0.4444444444444444,\"#bd3786\"],[0.5555555555555556,\"#d8576b\"],[0.6666666666666666,\"#ed7953\"],[0.7777777777777778,\"#fb9f3a\"],[0.8888888888888888,\"#fdca26\"],[1.0,\"#f0f921\"]],\"type\":\"contour\"}],\"contourcarpet\":[{\"colorbar\":{\"outlinewidth\":0,\"ticks\":\"\"},\"type\":\"contourcarpet\"}],\"heatmap\":[{\"colorbar\":{\"outlinewidth\":0,\"ticks\":\"\"},\"colorscale\":[[0.0,\"#0d0887\"],[0.1111111111111111,\"#46039f\"],[0.2222222222222222,\"#7201a8\"],[0.3333333333333333,\"#9c179e\"],[0.4444444444444444,\"#bd3786\"],[0.5555555555555556,\"#d8576b\"],[0.6666666666666666,\"#ed7953\"],[0.7777777777777778,\"#fb9f3a\"],[0.8888888888888888,\"#fdca26\"],[1.0,\"#f0f921\"]],\"type\":\"heatmap\"}],\"heatmapgl\":[{\"colorbar\":{\"outlinewidth\":0,\"ticks\":\"\"},\"colorscale\":[[0.0,\"#0d0887\"],[0.1111111111111111,\"#46039f\"],[0.2222222222222222,\"#7201a8\"],[0.3333333333333333,\"#9c179e\"],[0.4444444444444444,\"#bd3786\"],[0.5555555555555556,\"#d8576b\"],[0.6666666666666666,\"#ed7953\"],[0.7777777777777778,\"#fb9f3a\"],[0.8888888888888888,\"#fdca26\"],[1.0,\"#f0f921\"]],\"type\":\"heatmapgl\"}],\"histogram\":[{\"marker\":{\"pattern\":{\"fillmode\":\"overlay\",\"size\":10,\"solidity\":0.2}},\"type\":\"histogram\"}],\"histogram2d\":[{\"colorbar\":{\"outlinewidth\":0,\"ticks\":\"\"},\"colorscale\":[[0.0,\"#0d0887\"],[0.1111111111111111,\"#46039f\"],[0.2222222222222222,\"#7201a8\"],[0.3333333333333333,\"#9c179e\"],[0.4444444444444444,\"#bd3786\"],[0.5555555555555556,\"#d8576b\"],[0.6666666666666666,\"#ed7953\"],[0.7777777777777778,\"#fb9f3a\"],[0.8888888888888888,\"#fdca26\"],[1.0,\"#f0f921\"]],\"type\":\"histogram2d\"}],\"histogram2dcontour\":[{\"colorbar\":{\"outlinewidth\":0,\"ticks\":\"\"},\"colorscale\":[[0.0,\"#0d0887\"],[0.1111111111111111,\"#46039f\"],[0.2222222222222222,\"#7201a8\"],[0.3333333333333333,\"#9c179e\"],[0.4444444444444444,\"#bd3786\"],[0.5555555555555556,\"#d8576b\"],[0.6666666666666666,\"#ed7953\"],[0.7777777777777778,\"#fb9f3a\"],[0.8888888888888888,\"#fdca26\"],[1.0,\"#f0f921\"]],\"type\":\"histogram2dcontour\"}],\"mesh3d\":[{\"colorbar\":{\"outlinewidth\":0,\"ticks\":\"\"},\"type\":\"mesh3d\"}],\"parcoords\":[{\"line\":{\"colorbar\":{\"outlinewidth\":0,\"ticks\":\"\"}},\"type\":\"parcoords\"}],\"pie\":[{\"automargin\":true,\"type\":\"pie\"}],\"scatter\":[{\"marker\":{\"colorbar\":{\"outlinewidth\":0,\"ticks\":\"\"}},\"type\":\"scatter\"}],\"scatter3d\":[{\"line\":{\"colorbar\":{\"outlinewidth\":0,\"ticks\":\"\"}},\"marker\":{\"colorbar\":{\"outlinewidth\":0,\"ticks\":\"\"}},\"type\":\"scatter3d\"}],\"scattercarpet\":[{\"marker\":{\"colorbar\":{\"outlinewidth\":0,\"ticks\":\"\"}},\"type\":\"scattercarpet\"}],\"scattergeo\":[{\"marker\":{\"colorbar\":{\"outlinewidth\":0,\"ticks\":\"\"}},\"type\":\"scattergeo\"}],\"scattergl\":[{\"marker\":{\"colorbar\":{\"outlinewidth\":0,\"ticks\":\"\"}},\"type\":\"scattergl\"}],\"scattermapbox\":[{\"marker\":{\"colorbar\":{\"outlinewidth\":0,\"ticks\":\"\"}},\"type\":\"scattermapbox\"}],\"scatterpolar\":[{\"marker\":{\"colorbar\":{\"outlinewidth\":0,\"ticks\":\"\"}},\"type\":\"scatterpolar\"}],\"scatterpolargl\":[{\"marker\":{\"colorbar\":{\"outlinewidth\":0,\"ticks\":\"\"}},\"type\":\"scatterpolargl\"}],\"scatterternary\":[{\"marker\":{\"colorbar\":{\"outlinewidth\":0,\"ticks\":\"\"}},\"type\":\"scatterternary\"}],\"surface\":[{\"colorbar\":{\"outlinewidth\":0,\"ticks\":\"\"},\"colorscale\":[[0.0,\"#0d0887\"],[0.1111111111111111,\"#46039f\"],[0.2222222222222222,\"#7201a8\"],[0.3333333333333333,\"#9c179e\"],[0.4444444444444444,\"#bd3786\"],[0.5555555555555556,\"#d8576b\"],[0.6666666666666666,\"#ed7953\"],[0.7777777777777778,\"#fb9f3a\"],[0.8888888888888888,\"#fdca26\"],[1.0,\"#f0f921\"]],\"type\":\"surface\"}],\"table\":[{\"cells\":{\"fill\":{\"color\":\"#EBF0F8\"},\"line\":{\"color\":\"white\"}},\"header\":{\"fill\":{\"color\":\"#C8D4E3\"},\"line\":{\"color\":\"white\"}},\"type\":\"table\"}]},\"layout\":{\"annotationdefaults\":{\"arrowcolor\":\"#2a3f5f\",\"arrowhead\":0,\"arrowwidth\":1},\"autotypenumbers\":\"strict\",\"coloraxis\":{\"colorbar\":{\"outlinewidth\":0,\"ticks\":\"\"}},\"colorscale\":{\"diverging\":[[0,\"#8e0152\"],[0.1,\"#c51b7d\"],[0.2,\"#de77ae\"],[0.3,\"#f1b6da\"],[0.4,\"#fde0ef\"],[0.5,\"#f7f7f7\"],[0.6,\"#e6f5d0\"],[0.7,\"#b8e186\"],[0.8,\"#7fbc41\"],[0.9,\"#4d9221\"],[1,\"#276419\"]],\"sequential\":[[0.0,\"#0d0887\"],[0.1111111111111111,\"#46039f\"],[0.2222222222222222,\"#7201a8\"],[0.3333333333333333,\"#9c179e\"],[0.4444444444444444,\"#bd3786\"],[0.5555555555555556,\"#d8576b\"],[0.6666666666666666,\"#ed7953\"],[0.7777777777777778,\"#fb9f3a\"],[0.8888888888888888,\"#fdca26\"],[1.0,\"#f0f921\"]],\"sequentialminus\":[[0.0,\"#0d0887\"],[0.1111111111111111,\"#46039f\"],[0.2222222222222222,\"#7201a8\"],[0.3333333333333333,\"#9c179e\"],[0.4444444444444444,\"#bd3786\"],[0.5555555555555556,\"#d8576b\"],[0.6666666666666666,\"#ed7953\"],[0.7777777777777778,\"#fb9f3a\"],[0.8888888888888888,\"#fdca26\"],[1.0,\"#f0f921\"]]},\"colorway\":[\"#636efa\",\"#EF553B\",\"#00cc96\",\"#ab63fa\",\"#FFA15A\",\"#19d3f3\",\"#FF6692\",\"#B6E880\",\"#FF97FF\",\"#FECB52\"],\"font\":{\"color\":\"#2a3f5f\"},\"geo\":{\"bgcolor\":\"white\",\"lakecolor\":\"white\",\"landcolor\":\"#E5ECF6\",\"showlakes\":true,\"showland\":true,\"subunitcolor\":\"white\"},\"hoverlabel\":{\"align\":\"left\"},\"hovermode\":\"closest\",\"mapbox\":{\"style\":\"light\"},\"paper_bgcolor\":\"white\",\"plot_bgcolor\":\"#E5ECF6\",\"polar\":{\"angularaxis\":{\"gridcolor\":\"white\",\"linecolor\":\"white\",\"ticks\":\"\"},\"bgcolor\":\"#E5ECF6\",\"radialaxis\":{\"gridcolor\":\"white\",\"linecolor\":\"white\",\"ticks\":\"\"}},\"scene\":{\"xaxis\":{\"backgroundcolor\":\"#E5ECF6\",\"gridcolor\":\"white\",\"gridwidth\":2,\"linecolor\":\"white\",\"showbackground\":true,\"ticks\":\"\",\"zerolinecolor\":\"white\"},\"yaxis\":{\"backgroundcolor\":\"#E5ECF6\",\"gridcolor\":\"white\",\"gridwidth\":2,\"linecolor\":\"white\",\"showbackground\":true,\"ticks\":\"\",\"zerolinecolor\":\"white\"},\"zaxis\":{\"backgroundcolor\":\"#E5ECF6\",\"gridcolor\":\"white\",\"gridwidth\":2,\"linecolor\":\"white\",\"showbackground\":true,\"ticks\":\"\",\"zerolinecolor\":\"white\"}},\"shapedefaults\":{\"line\":{\"color\":\"#2a3f5f\"}},\"ternary\":{\"aaxis\":{\"gridcolor\":\"white\",\"linecolor\":\"white\",\"ticks\":\"\"},\"baxis\":{\"gridcolor\":\"white\",\"linecolor\":\"white\",\"ticks\":\"\"},\"bgcolor\":\"#E5ECF6\",\"caxis\":{\"gridcolor\":\"white\",\"linecolor\":\"white\",\"ticks\":\"\"}},\"title\":{\"x\":0.05},\"xaxis\":{\"automargin\":true,\"gridcolor\":\"white\",\"linecolor\":\"white\",\"ticks\":\"\",\"title\":{\"standoff\":15},\"zerolinecolor\":\"white\",\"zerolinewidth\":2},\"yaxis\":{\"automargin\":true,\"gridcolor\":\"white\",\"linecolor\":\"white\",\"ticks\":\"\",\"title\":{\"standoff\":15},\"zerolinecolor\":\"white\",\"zerolinewidth\":2}}},\"geo\":{\"domain\":{\"x\":[0.0,1.0],\"y\":[0.0,1.0]},\"center\":{}},\"legend\":{\"title\":{\"text\":\"Mission_Status\"},\"tracegroupgap\":0},\"margin\":{\"t\":60},\"coloraxis\":{\"showscale\":true}},                        {\"responsive\": true}                    ).then(function(){\n",
              "                            \n",
              "var gd = document.getElementById('20098426-f9fb-4753-b47f-0297c1f5c0dc');\n",
              "var x = new MutationObserver(function (mutations, observer) {{\n",
              "        var display = window.getComputedStyle(gd).display;\n",
              "        if (!display || display === 'none') {{\n",
              "            console.log([gd, 'removed!']);\n",
              "            Plotly.purge(gd);\n",
              "            observer.disconnect();\n",
              "        }}\n",
              "}});\n",
              "\n",
              "// Listen for the removal of the full notebook cells\n",
              "var notebookContainer = gd.closest('#notebook-container');\n",
              "if (notebookContainer) {{\n",
              "    x.observe(notebookContainer, {childList: true});\n",
              "}}\n",
              "\n",
              "// Listen for the clearing of the current output cell\n",
              "var outputEl = gd.closest('.output');\n",
              "if (outputEl) {{\n",
              "    x.observe(outputEl, {childList: true});\n",
              "}}\n",
              "\n",
              "                        })                };                            </script>        </div>\n",
              "</body>\n",
              "</html>"
            ]
          },
          "metadata": {}
        }
      ],
      "source": [
        "world_map = px.choropleth(Failure_Status,\n",
        "                          locations='Country_Codes',\n",
        "                          color='Mission_Status', \n",
        "                          hover_name='Organisation', \n",
        "                          color_continuous_scale=px.colors.sequential.matter)\n",
        " \n",
        "world_map.update_layout(coloraxis_showscale=True,)\n",
        " \n",
        "world_map.show()"
      ]
    },
    {
      "cell_type": "markdown",
      "metadata": {
        "id": "9LqcqSrKa-qN"
      },
      "source": [
        "# Create a Plotly Sunburst Chart of the countries, organisations, and mission status. "
      ]
    },
    {
      "cell_type": "code",
      "execution_count": 28,
      "metadata": {
        "colab": {
          "base_uri": "https://localhost:8080/",
          "height": 542
        },
        "id": "MwUfpoByo3_J",
        "outputId": "3c14bacd-9c58-4aba-e530-f36adc0d0d0d"
      },
      "outputs": [
        {
          "output_type": "display_data",
          "data": {
            "text/html": [
              "<html>\n",
              "<head><meta charset=\"utf-8\" /></head>\n",
              "<body>\n",
              "    <div>            <script src=\"https://cdnjs.cloudflare.com/ajax/libs/mathjax/2.7.5/MathJax.js?config=TeX-AMS-MML_SVG\"></script><script type=\"text/javascript\">if (window.MathJax) {MathJax.Hub.Config({SVG: {font: \"STIX-Web\"}});}</script>                <script type=\"text/javascript\">window.PlotlyConfig = {MathJaxConfig: 'local'};</script>\n",
              "        <script src=\"https://cdn.plot.ly/plotly-2.8.3.min.js\"></script>                <div id=\"1fa1cc67-4ada-488c-b2fe-a7f331bbf9df\" class=\"plotly-graph-div\" style=\"height:525px; width:100%;\"></div>            <script type=\"text/javascript\">                                    window.PLOTLYENV=window.PLOTLYENV || {};                                    if (document.getElementById(\"1fa1cc67-4ada-488c-b2fe-a7f331bbf9df\")) {                    Plotly.newPlot(                        \"1fa1cc67-4ada-488c-b2fe-a7f331bbf9df\",                        [{\"branchvalues\":\"total\",\"domain\":{\"x\":[0.0,1.0],\"y\":[0.0,1.0]},\"hovertemplate\":\"labels=%{label}<br>count=%{value}<br>parent=%{parent}<br>id=%{id}<extra></extra>\",\"ids\":[\"CECLES/Australia/Failure\",\"RAE/Australia/Failure\",\"AEB/Brazil/Failure\",\"CASC/China/Failure\",\"CASIC/China/Failure\",\"ExPace/China/Failure\",\"Landspace/China/Failure\",\"OneSpace/China/Failure\",\"Sandia/Facility/Failure\",\"Arianespace/France/Failure\",\"CECLES/France/Failure\",\"CNES/France/Failure\",\"ESA/France/Failure\",\"ISRO/India/Failure\",\"ISA/Iran/Failure\",\"IAI/Israel/Failure\",\"ISAS/Japan/Failure\",\"JAXA/Japan/Failure\",\"MHI/Japan/Failure\",\"UT/Japan/Failure\",\"Kosmotras/Kazakhstan/Failure\",\"RVSN USSR/Kazakhstan/Failure\",\"Roscosmos/Kazakhstan/Failure\",\"VKS RF/Kazakhstan/Failure\",\"KARI/Korea/Failure\",\"KCST/Korea/Failure\",\"Exos/Mexico/Failure\",\"Sea Launch/Ocean/Failure\",\"Eurockot/Russia/Failure\",\"MITT/Russia/Failure\",\"RVSN USSR/Russia/Failure\",\"Roscosmos/Russia/Failure\",\"VKS RF/Russia/Failure\",\"SRC/Sea/Failure\",\"AMBA/USA/Failure\",\"Boeing/USA/Failure\",\"EER/USA/Failure\",\"General Dynamics/USA/Failure\",\"Lockheed/USA/Failure\",\"Martin Marietta/USA/Failure\",\"NASA/USA/Failure\",\"Northrop/USA/Failure\",\"SpaceX/USA/Failure\",\"US Air Force/USA/Failure\",\"US Navy/USA/Failure\",\"Virgin Orbit/USA/Failure\",\"Rocket Lab/Zealand/Failure\",\"CASC/China/Partial Failure\",\"Arianespace/France/Partial Failure\",\"Arm??e de l'Air/France/Partial Failure\",\"ESA/France/Partial Failure\",\"ISRO/India/Partial Failure\",\"ISAS/Japan/Partial Failure\",\"MHI/Japan/Partial Failure\",\"ILS/Kazakhstan/Partial Failure\",\"Land Launch/Kazakhstan/Partial Failure\",\"RVSN USSR/Kazakhstan/Partial Failure\",\"Roscosmos/Kazakhstan/Partial Failure\",\"Exos/Mexico/Partial Failure\",\"RVSN USSR/Russia/Partial Failure\",\"VKS RF/Russia/Partial Failure\",\"AMBA/USA/Partial Failure\",\"Boeing/USA/Partial Failure\",\"General Dynamics/USA/Partial Failure\",\"Martin Marietta/USA/Partial Failure\",\"NASA/USA/Partial Failure\",\"Northrop/USA/Partial Failure\",\"SpaceX/USA/Partial Failure\",\"ULA/USA/Partial Failure\",\"US Air Force/USA/Partial Failure\",\"US Navy/USA/Partial Failure\",\"AEB/Brazil/Prelaunch Failure\",\"ISA/Iran/Prelaunch Failure\",\"RVSN USSR/Kazakhstan/Prelaunch Failure\",\"SpaceX/USA/Prelaunch Failure\",\"AMBA/Australia/Success\",\"CECLES/Australia/Success\",\"RAE/Australia/Success\",\"Northrop/Canaria/Success\",\"CASC/China/Success\",\"CASIC/China/Success\",\"ExPace/China/Success\",\"i-Space/China/Success\",\"Arianespace/France/Success\",\"Arm??e de l'Air/France/Success\",\"CNES/France/Success\",\"ESA/France/Success\",\"ISRO/India/Success\",\"ISA/Iran/Success\",\"IAI/Israel/Success\",\"ISAS/Japan/Success\",\"JAXA/Japan/Success\",\"MHI/Japan/Success\",\"UT/Japan/Success\",\"Arianespace/Kazakhstan/Success\",\"ILS/Kazakhstan/Success\",\"Kosmotras/Kazakhstan/Success\",\"Land Launch/Kazakhstan/Success\",\"OKB-586/Kazakhstan/Success\",\"RVSN USSR/Kazakhstan/Success\",\"Roscosmos/Kazakhstan/Success\",\"Starsem/Kazakhstan/Success\",\"VKS RF/Kazakhstan/Success\",\"Yuzhmash/Kazakhstan/Success\",\"ASI/Kenya/Success\",\"KARI/Korea/Success\",\"KCST/Korea/Success\",\"Sea Launch/Ocean/Success\",\"Eurockot/Russia/Success\",\"Khrunichev/Russia/Success\",\"Kosmotras/Russia/Success\",\"MITT/Russia/Success\",\"RVSN USSR/Russia/Success\",\"Roscosmos/Russia/Success\",\"VKS RF/Russia/Success\",\"Yuzhmash/Russia/Success\",\"CASC/Sea/Success\",\"SRC/Sea/Success\",\"IRGC/Site/Success\",\"AMBA/USA/Success\",\"Blue Origin/USA/Success\",\"Boeing/USA/Success\",\"Douglas/USA/Success\",\"General Dynamics/USA/Success\",\"ILS/USA/Success\",\"Lockheed/USA/Success\",\"Martin Marietta/USA/Success\",\"NASA/USA/Success\",\"Northrop/USA/Success\",\"SpaceX/USA/Success\",\"ULA/USA/Success\",\"US Air Force/USA/Success\",\"US Navy/USA/Success\",\"Rocket Lab/Zealand/Success\",\"AMBA/Australia\",\"CECLES/Australia\",\"RAE/Australia\",\"AEB/Brazil\",\"Northrop/Canaria\",\"CASC/China\",\"CASIC/China\",\"ExPace/China\",\"Landspace/China\",\"OneSpace/China\",\"i-Space/China\",\"Sandia/Facility\",\"Arianespace/France\",\"Arm??e de l'Air/France\",\"CECLES/France\",\"CNES/France\",\"ESA/France\",\"ISRO/India\",\"ISA/Iran\",\"IAI/Israel\",\"ISAS/Japan\",\"JAXA/Japan\",\"MHI/Japan\",\"UT/Japan\",\"Arianespace/Kazakhstan\",\"ILS/Kazakhstan\",\"Kosmotras/Kazakhstan\",\"Land Launch/Kazakhstan\",\"OKB-586/Kazakhstan\",\"RVSN USSR/Kazakhstan\",\"Roscosmos/Kazakhstan\",\"Starsem/Kazakhstan\",\"VKS RF/Kazakhstan\",\"Yuzhmash/Kazakhstan\",\"ASI/Kenya\",\"KARI/Korea\",\"KCST/Korea\",\"Exos/Mexico\",\"Sea Launch/Ocean\",\"Eurockot/Russia\",\"Khrunichev/Russia\",\"Kosmotras/Russia\",\"MITT/Russia\",\"RVSN USSR/Russia\",\"Roscosmos/Russia\",\"VKS RF/Russia\",\"Yuzhmash/Russia\",\"CASC/Sea\",\"SRC/Sea\",\"IRGC/Site\",\"AMBA/USA\",\"Blue Origin/USA\",\"Boeing/USA\",\"Douglas/USA\",\"EER/USA\",\"General Dynamics/USA\",\"ILS/USA\",\"Lockheed/USA\",\"Martin Marietta/USA\",\"NASA/USA\",\"Northrop/USA\",\"SpaceX/USA\",\"ULA/USA\",\"US Air Force/USA\",\"US Navy/USA\",\"Virgin Orbit/USA\",\"Rocket Lab/Zealand\",\"AEB\",\"AMBA\",\"ASI\",\"Arianespace\",\"Arm??e de l'Air\",\"Blue Origin\",\"Boeing\",\"CASC\",\"CASIC\",\"CECLES\",\"CNES\",\"Douglas\",\"EER\",\"ESA\",\"Eurockot\",\"ExPace\",\"Exos\",\"General Dynamics\",\"IAI\",\"ILS\",\"IRGC\",\"ISA\",\"ISAS\",\"ISRO\",\"JAXA\",\"KARI\",\"KCST\",\"Khrunichev\",\"Kosmotras\",\"Land Launch\",\"Landspace\",\"Lockheed\",\"MHI\",\"MITT\",\"Martin Marietta\",\"NASA\",\"Northrop\",\"OKB-586\",\"OneSpace\",\"RAE\",\"RVSN USSR\",\"Rocket Lab\",\"Roscosmos\",\"SRC\",\"Sandia\",\"Sea Launch\",\"SpaceX\",\"Starsem\",\"ULA\",\"US Air Force\",\"US Navy\",\"UT\",\"VKS RF\",\"Virgin Orbit\",\"Yuzhmash\",\"i-Space\"],\"labels\":[\"Failure\",\"Failure\",\"Failure\",\"Failure\",\"Failure\",\"Failure\",\"Failure\",\"Failure\",\"Failure\",\"Failure\",\"Failure\",\"Failure\",\"Failure\",\"Failure\",\"Failure\",\"Failure\",\"Failure\",\"Failure\",\"Failure\",\"Failure\",\"Failure\",\"Failure\",\"Failure\",\"Failure\",\"Failure\",\"Failure\",\"Failure\",\"Failure\",\"Failure\",\"Failure\",\"Failure\",\"Failure\",\"Failure\",\"Failure\",\"Failure\",\"Failure\",\"Failure\",\"Failure\",\"Failure\",\"Failure\",\"Failure\",\"Failure\",\"Failure\",\"Failure\",\"Failure\",\"Failure\",\"Failure\",\"Partial Failure\",\"Partial Failure\",\"Partial Failure\",\"Partial Failure\",\"Partial Failure\",\"Partial Failure\",\"Partial Failure\",\"Partial Failure\",\"Partial Failure\",\"Partial Failure\",\"Partial Failure\",\"Partial Failure\",\"Partial Failure\",\"Partial Failure\",\"Partial Failure\",\"Partial Failure\",\"Partial Failure\",\"Partial Failure\",\"Partial Failure\",\"Partial Failure\",\"Partial Failure\",\"Partial Failure\",\"Partial Failure\",\"Partial Failure\",\"Prelaunch Failure\",\"Prelaunch Failure\",\"Prelaunch Failure\",\"Prelaunch Failure\",\"Success\",\"Success\",\"Success\",\"Success\",\"Success\",\"Success\",\"Success\",\"Success\",\"Success\",\"Success\",\"Success\",\"Success\",\"Success\",\"Success\",\"Success\",\"Success\",\"Success\",\"Success\",\"Success\",\"Success\",\"Success\",\"Success\",\"Success\",\"Success\",\"Success\",\"Success\",\"Success\",\"Success\",\"Success\",\"Success\",\"Success\",\"Success\",\"Success\",\"Success\",\"Success\",\"Success\",\"Success\",\"Success\",\"Success\",\"Success\",\"Success\",\"Success\",\"Success\",\"Success\",\"Success\",\"Success\",\"Success\",\"Success\",\"Success\",\"Success\",\"Success\",\"Success\",\"Success\",\"Success\",\"Success\",\"Success\",\"Success\",\"Success\",\"Success\",\"Australia\",\"Australia\",\"Australia\",\"Brazil\",\"Canaria\",\"China\",\"China\",\"China\",\"China\",\"China\",\"China\",\"Facility\",\"France\",\"France\",\"France\",\"France\",\"France\",\"India\",\"Iran\",\"Israel\",\"Japan\",\"Japan\",\"Japan\",\"Japan\",\"Kazakhstan\",\"Kazakhstan\",\"Kazakhstan\",\"Kazakhstan\",\"Kazakhstan\",\"Kazakhstan\",\"Kazakhstan\",\"Kazakhstan\",\"Kazakhstan\",\"Kazakhstan\",\"Kenya\",\"Korea\",\"Korea\",\"Mexico\",\"Ocean\",\"Russia\",\"Russia\",\"Russia\",\"Russia\",\"Russia\",\"Russia\",\"Russia\",\"Russia\",\"Sea\",\"Sea\",\"Site\",\"USA\",\"USA\",\"USA\",\"USA\",\"USA\",\"USA\",\"USA\",\"USA\",\"USA\",\"USA\",\"USA\",\"USA\",\"USA\",\"USA\",\"USA\",\"USA\",\"Zealand\",\"AEB\",\"AMBA\",\"ASI\",\"Arianespace\",\"Arm??e de l'Air\",\"Blue Origin\",\"Boeing\",\"CASC\",\"CASIC\",\"CECLES\",\"CNES\",\"Douglas\",\"EER\",\"ESA\",\"Eurockot\",\"ExPace\",\"Exos\",\"General Dynamics\",\"IAI\",\"ILS\",\"IRGC\",\"ISA\",\"ISAS\",\"ISRO\",\"JAXA\",\"KARI\",\"KCST\",\"Khrunichev\",\"Kosmotras\",\"Land Launch\",\"Landspace\",\"Lockheed\",\"MHI\",\"MITT\",\"Martin Marietta\",\"NASA\",\"Northrop\",\"OKB-586\",\"OneSpace\",\"RAE\",\"RVSN USSR\",\"Rocket Lab\",\"Roscosmos\",\"SRC\",\"Sandia\",\"Sea Launch\",\"SpaceX\",\"Starsem\",\"ULA\",\"US Air Force\",\"US Navy\",\"UT\",\"VKS RF\",\"Virgin Orbit\",\"Yuzhmash\",\"i-Space\"],\"name\":\"\",\"parents\":[\"CECLES/Australia\",\"RAE/Australia\",\"AEB/Brazil\",\"CASC/China\",\"CASIC/China\",\"ExPace/China\",\"Landspace/China\",\"OneSpace/China\",\"Sandia/Facility\",\"Arianespace/France\",\"CECLES/France\",\"CNES/France\",\"ESA/France\",\"ISRO/India\",\"ISA/Iran\",\"IAI/Israel\",\"ISAS/Japan\",\"JAXA/Japan\",\"MHI/Japan\",\"UT/Japan\",\"Kosmotras/Kazakhstan\",\"RVSN USSR/Kazakhstan\",\"Roscosmos/Kazakhstan\",\"VKS RF/Kazakhstan\",\"KARI/Korea\",\"KCST/Korea\",\"Exos/Mexico\",\"Sea Launch/Ocean\",\"Eurockot/Russia\",\"MITT/Russia\",\"RVSN USSR/Russia\",\"Roscosmos/Russia\",\"VKS RF/Russia\",\"SRC/Sea\",\"AMBA/USA\",\"Boeing/USA\",\"EER/USA\",\"General Dynamics/USA\",\"Lockheed/USA\",\"Martin Marietta/USA\",\"NASA/USA\",\"Northrop/USA\",\"SpaceX/USA\",\"US Air Force/USA\",\"US Navy/USA\",\"Virgin Orbit/USA\",\"Rocket Lab/Zealand\",\"CASC/China\",\"Arianespace/France\",\"Arm??e de l'Air/France\",\"ESA/France\",\"ISRO/India\",\"ISAS/Japan\",\"MHI/Japan\",\"ILS/Kazakhstan\",\"Land Launch/Kazakhstan\",\"RVSN USSR/Kazakhstan\",\"Roscosmos/Kazakhstan\",\"Exos/Mexico\",\"RVSN USSR/Russia\",\"VKS RF/Russia\",\"AMBA/USA\",\"Boeing/USA\",\"General Dynamics/USA\",\"Martin Marietta/USA\",\"NASA/USA\",\"Northrop/USA\",\"SpaceX/USA\",\"ULA/USA\",\"US Air Force/USA\",\"US Navy/USA\",\"AEB/Brazil\",\"ISA/Iran\",\"RVSN USSR/Kazakhstan\",\"SpaceX/USA\",\"AMBA/Australia\",\"CECLES/Australia\",\"RAE/Australia\",\"Northrop/Canaria\",\"CASC/China\",\"CASIC/China\",\"ExPace/China\",\"i-Space/China\",\"Arianespace/France\",\"Arm??e de l'Air/France\",\"CNES/France\",\"ESA/France\",\"ISRO/India\",\"ISA/Iran\",\"IAI/Israel\",\"ISAS/Japan\",\"JAXA/Japan\",\"MHI/Japan\",\"UT/Japan\",\"Arianespace/Kazakhstan\",\"ILS/Kazakhstan\",\"Kosmotras/Kazakhstan\",\"Land Launch/Kazakhstan\",\"OKB-586/Kazakhstan\",\"RVSN USSR/Kazakhstan\",\"Roscosmos/Kazakhstan\",\"Starsem/Kazakhstan\",\"VKS RF/Kazakhstan\",\"Yuzhmash/Kazakhstan\",\"ASI/Kenya\",\"KARI/Korea\",\"KCST/Korea\",\"Sea Launch/Ocean\",\"Eurockot/Russia\",\"Khrunichev/Russia\",\"Kosmotras/Russia\",\"MITT/Russia\",\"RVSN USSR/Russia\",\"Roscosmos/Russia\",\"VKS RF/Russia\",\"Yuzhmash/Russia\",\"CASC/Sea\",\"SRC/Sea\",\"IRGC/Site\",\"AMBA/USA\",\"Blue Origin/USA\",\"Boeing/USA\",\"Douglas/USA\",\"General Dynamics/USA\",\"ILS/USA\",\"Lockheed/USA\",\"Martin Marietta/USA\",\"NASA/USA\",\"Northrop/USA\",\"SpaceX/USA\",\"ULA/USA\",\"US Air Force/USA\",\"US Navy/USA\",\"Rocket Lab/Zealand\",\"AMBA\",\"CECLES\",\"RAE\",\"AEB\",\"Northrop\",\"CASC\",\"CASIC\",\"ExPace\",\"Landspace\",\"OneSpace\",\"i-Space\",\"Sandia\",\"Arianespace\",\"Arm??e de l'Air\",\"CECLES\",\"CNES\",\"ESA\",\"ISRO\",\"ISA\",\"IAI\",\"ISAS\",\"JAXA\",\"MHI\",\"UT\",\"Arianespace\",\"ILS\",\"Kosmotras\",\"Land Launch\",\"OKB-586\",\"RVSN USSR\",\"Roscosmos\",\"Starsem\",\"VKS RF\",\"Yuzhmash\",\"ASI\",\"KARI\",\"KCST\",\"Exos\",\"Sea Launch\",\"Eurockot\",\"Khrunichev\",\"Kosmotras\",\"MITT\",\"RVSN USSR\",\"Roscosmos\",\"VKS RF\",\"Yuzhmash\",\"CASC\",\"SRC\",\"IRGC\",\"AMBA\",\"Blue Origin\",\"Boeing\",\"Douglas\",\"EER\",\"General Dynamics\",\"ILS\",\"Lockheed\",\"Martin Marietta\",\"NASA\",\"Northrop\",\"SpaceX\",\"ULA\",\"US Air Force\",\"US Navy\",\"Virgin Orbit\",\"Rocket Lab\",\"\",\"\",\"\",\"\",\"\",\"\",\"\",\"\",\"\",\"\",\"\",\"\",\"\",\"\",\"\",\"\",\"\",\"\",\"\",\"\",\"\",\"\",\"\",\"\",\"\",\"\",\"\",\"\",\"\",\"\",\"\",\"\",\"\",\"\",\"\",\"\",\"\",\"\",\"\",\"\",\"\",\"\",\"\",\"\",\"\",\"\",\"\",\"\",\"\",\"\",\"\",\"\",\"\",\"\",\"\",\"\"],\"values\":[2,1,2,14,2,1,1,1,1,7,1,2,3,8,8,2,3,1,2,4,1,66,2,3,2,3,1,3,1,1,55,1,4,1,3,3,1,37,5,11,11,7,4,30,14,1,2,6,3,1,1,5,1,2,1,1,17,1,3,24,6,1,2,11,3,6,2,1,1,2,1,1,1,1,1,1,1,1,2,230,3,9,1,267,3,6,9,63,4,9,26,6,80,1,2,5,11,6,2,495,44,1,41,1,9,1,2,33,12,1,10,6,1119,7,147,1,1,2,1,3,12,131,1,203,40,74,100,186,72,94,139,129,2,11,1,3,2,3,2,250,5,10,1,1,1,1,277,4,1,8,13,76,13,11,30,7,84,5,2,6,12,7,2,579,47,1,44,1,9,3,5,4,36,13,1,10,7,1198,8,157,1,1,3,1,7,12,136,1,1,251,40,79,114,203,81,100,140,161,17,1,13,3,8,9,279,4,12,136,251,5,4,8,1,1,13,13,10,4,251,11,46,1,13,30,76,7,3,5,1,22,7,1,79,84,7,114,203,83,2,1,2,1777,13,55,3,1,36,100,1,140,161,17,5,201,1,2,1],\"type\":\"sunburst\"}],                        {\"template\":{\"data\":{\"bar\":[{\"error_x\":{\"color\":\"#2a3f5f\"},\"error_y\":{\"color\":\"#2a3f5f\"},\"marker\":{\"line\":{\"color\":\"#E5ECF6\",\"width\":0.5},\"pattern\":{\"fillmode\":\"overlay\",\"size\":10,\"solidity\":0.2}},\"type\":\"bar\"}],\"barpolar\":[{\"marker\":{\"line\":{\"color\":\"#E5ECF6\",\"width\":0.5},\"pattern\":{\"fillmode\":\"overlay\",\"size\":10,\"solidity\":0.2}},\"type\":\"barpolar\"}],\"carpet\":[{\"aaxis\":{\"endlinecolor\":\"#2a3f5f\",\"gridcolor\":\"white\",\"linecolor\":\"white\",\"minorgridcolor\":\"white\",\"startlinecolor\":\"#2a3f5f\"},\"baxis\":{\"endlinecolor\":\"#2a3f5f\",\"gridcolor\":\"white\",\"linecolor\":\"white\",\"minorgridcolor\":\"white\",\"startlinecolor\":\"#2a3f5f\"},\"type\":\"carpet\"}],\"choropleth\":[{\"colorbar\":{\"outlinewidth\":0,\"ticks\":\"\"},\"type\":\"choropleth\"}],\"contour\":[{\"colorbar\":{\"outlinewidth\":0,\"ticks\":\"\"},\"colorscale\":[[0.0,\"#0d0887\"],[0.1111111111111111,\"#46039f\"],[0.2222222222222222,\"#7201a8\"],[0.3333333333333333,\"#9c179e\"],[0.4444444444444444,\"#bd3786\"],[0.5555555555555556,\"#d8576b\"],[0.6666666666666666,\"#ed7953\"],[0.7777777777777778,\"#fb9f3a\"],[0.8888888888888888,\"#fdca26\"],[1.0,\"#f0f921\"]],\"type\":\"contour\"}],\"contourcarpet\":[{\"colorbar\":{\"outlinewidth\":0,\"ticks\":\"\"},\"type\":\"contourcarpet\"}],\"heatmap\":[{\"colorbar\":{\"outlinewidth\":0,\"ticks\":\"\"},\"colorscale\":[[0.0,\"#0d0887\"],[0.1111111111111111,\"#46039f\"],[0.2222222222222222,\"#7201a8\"],[0.3333333333333333,\"#9c179e\"],[0.4444444444444444,\"#bd3786\"],[0.5555555555555556,\"#d8576b\"],[0.6666666666666666,\"#ed7953\"],[0.7777777777777778,\"#fb9f3a\"],[0.8888888888888888,\"#fdca26\"],[1.0,\"#f0f921\"]],\"type\":\"heatmap\"}],\"heatmapgl\":[{\"colorbar\":{\"outlinewidth\":0,\"ticks\":\"\"},\"colorscale\":[[0.0,\"#0d0887\"],[0.1111111111111111,\"#46039f\"],[0.2222222222222222,\"#7201a8\"],[0.3333333333333333,\"#9c179e\"],[0.4444444444444444,\"#bd3786\"],[0.5555555555555556,\"#d8576b\"],[0.6666666666666666,\"#ed7953\"],[0.7777777777777778,\"#fb9f3a\"],[0.8888888888888888,\"#fdca26\"],[1.0,\"#f0f921\"]],\"type\":\"heatmapgl\"}],\"histogram\":[{\"marker\":{\"pattern\":{\"fillmode\":\"overlay\",\"size\":10,\"solidity\":0.2}},\"type\":\"histogram\"}],\"histogram2d\":[{\"colorbar\":{\"outlinewidth\":0,\"ticks\":\"\"},\"colorscale\":[[0.0,\"#0d0887\"],[0.1111111111111111,\"#46039f\"],[0.2222222222222222,\"#7201a8\"],[0.3333333333333333,\"#9c179e\"],[0.4444444444444444,\"#bd3786\"],[0.5555555555555556,\"#d8576b\"],[0.6666666666666666,\"#ed7953\"],[0.7777777777777778,\"#fb9f3a\"],[0.8888888888888888,\"#fdca26\"],[1.0,\"#f0f921\"]],\"type\":\"histogram2d\"}],\"histogram2dcontour\":[{\"colorbar\":{\"outlinewidth\":0,\"ticks\":\"\"},\"colorscale\":[[0.0,\"#0d0887\"],[0.1111111111111111,\"#46039f\"],[0.2222222222222222,\"#7201a8\"],[0.3333333333333333,\"#9c179e\"],[0.4444444444444444,\"#bd3786\"],[0.5555555555555556,\"#d8576b\"],[0.6666666666666666,\"#ed7953\"],[0.7777777777777778,\"#fb9f3a\"],[0.8888888888888888,\"#fdca26\"],[1.0,\"#f0f921\"]],\"type\":\"histogram2dcontour\"}],\"mesh3d\":[{\"colorbar\":{\"outlinewidth\":0,\"ticks\":\"\"},\"type\":\"mesh3d\"}],\"parcoords\":[{\"line\":{\"colorbar\":{\"outlinewidth\":0,\"ticks\":\"\"}},\"type\":\"parcoords\"}],\"pie\":[{\"automargin\":true,\"type\":\"pie\"}],\"scatter\":[{\"marker\":{\"colorbar\":{\"outlinewidth\":0,\"ticks\":\"\"}},\"type\":\"scatter\"}],\"scatter3d\":[{\"line\":{\"colorbar\":{\"outlinewidth\":0,\"ticks\":\"\"}},\"marker\":{\"colorbar\":{\"outlinewidth\":0,\"ticks\":\"\"}},\"type\":\"scatter3d\"}],\"scattercarpet\":[{\"marker\":{\"colorbar\":{\"outlinewidth\":0,\"ticks\":\"\"}},\"type\":\"scattercarpet\"}],\"scattergeo\":[{\"marker\":{\"colorbar\":{\"outlinewidth\":0,\"ticks\":\"\"}},\"type\":\"scattergeo\"}],\"scattergl\":[{\"marker\":{\"colorbar\":{\"outlinewidth\":0,\"ticks\":\"\"}},\"type\":\"scattergl\"}],\"scattermapbox\":[{\"marker\":{\"colorbar\":{\"outlinewidth\":0,\"ticks\":\"\"}},\"type\":\"scattermapbox\"}],\"scatterpolar\":[{\"marker\":{\"colorbar\":{\"outlinewidth\":0,\"ticks\":\"\"}},\"type\":\"scatterpolar\"}],\"scatterpolargl\":[{\"marker\":{\"colorbar\":{\"outlinewidth\":0,\"ticks\":\"\"}},\"type\":\"scatterpolargl\"}],\"scatterternary\":[{\"marker\":{\"colorbar\":{\"outlinewidth\":0,\"ticks\":\"\"}},\"type\":\"scatterternary\"}],\"surface\":[{\"colorbar\":{\"outlinewidth\":0,\"ticks\":\"\"},\"colorscale\":[[0.0,\"#0d0887\"],[0.1111111111111111,\"#46039f\"],[0.2222222222222222,\"#7201a8\"],[0.3333333333333333,\"#9c179e\"],[0.4444444444444444,\"#bd3786\"],[0.5555555555555556,\"#d8576b\"],[0.6666666666666666,\"#ed7953\"],[0.7777777777777778,\"#fb9f3a\"],[0.8888888888888888,\"#fdca26\"],[1.0,\"#f0f921\"]],\"type\":\"surface\"}],\"table\":[{\"cells\":{\"fill\":{\"color\":\"#EBF0F8\"},\"line\":{\"color\":\"white\"}},\"header\":{\"fill\":{\"color\":\"#C8D4E3\"},\"line\":{\"color\":\"white\"}},\"type\":\"table\"}]},\"layout\":{\"annotationdefaults\":{\"arrowcolor\":\"#2a3f5f\",\"arrowhead\":0,\"arrowwidth\":1},\"autotypenumbers\":\"strict\",\"coloraxis\":{\"colorbar\":{\"outlinewidth\":0,\"ticks\":\"\"}},\"colorscale\":{\"diverging\":[[0,\"#8e0152\"],[0.1,\"#c51b7d\"],[0.2,\"#de77ae\"],[0.3,\"#f1b6da\"],[0.4,\"#fde0ef\"],[0.5,\"#f7f7f7\"],[0.6,\"#e6f5d0\"],[0.7,\"#b8e186\"],[0.8,\"#7fbc41\"],[0.9,\"#4d9221\"],[1,\"#276419\"]],\"sequential\":[[0.0,\"#0d0887\"],[0.1111111111111111,\"#46039f\"],[0.2222222222222222,\"#7201a8\"],[0.3333333333333333,\"#9c179e\"],[0.4444444444444444,\"#bd3786\"],[0.5555555555555556,\"#d8576b\"],[0.6666666666666666,\"#ed7953\"],[0.7777777777777778,\"#fb9f3a\"],[0.8888888888888888,\"#fdca26\"],[1.0,\"#f0f921\"]],\"sequentialminus\":[[0.0,\"#0d0887\"],[0.1111111111111111,\"#46039f\"],[0.2222222222222222,\"#7201a8\"],[0.3333333333333333,\"#9c179e\"],[0.4444444444444444,\"#bd3786\"],[0.5555555555555556,\"#d8576b\"],[0.6666666666666666,\"#ed7953\"],[0.7777777777777778,\"#fb9f3a\"],[0.8888888888888888,\"#fdca26\"],[1.0,\"#f0f921\"]]},\"colorway\":[\"#636efa\",\"#EF553B\",\"#00cc96\",\"#ab63fa\",\"#FFA15A\",\"#19d3f3\",\"#FF6692\",\"#B6E880\",\"#FF97FF\",\"#FECB52\"],\"font\":{\"color\":\"#2a3f5f\"},\"geo\":{\"bgcolor\":\"white\",\"lakecolor\":\"white\",\"landcolor\":\"#E5ECF6\",\"showlakes\":true,\"showland\":true,\"subunitcolor\":\"white\"},\"hoverlabel\":{\"align\":\"left\"},\"hovermode\":\"closest\",\"mapbox\":{\"style\":\"light\"},\"paper_bgcolor\":\"white\",\"plot_bgcolor\":\"#E5ECF6\",\"polar\":{\"angularaxis\":{\"gridcolor\":\"white\",\"linecolor\":\"white\",\"ticks\":\"\"},\"bgcolor\":\"#E5ECF6\",\"radialaxis\":{\"gridcolor\":\"white\",\"linecolor\":\"white\",\"ticks\":\"\"}},\"scene\":{\"xaxis\":{\"backgroundcolor\":\"#E5ECF6\",\"gridcolor\":\"white\",\"gridwidth\":2,\"linecolor\":\"white\",\"showbackground\":true,\"ticks\":\"\",\"zerolinecolor\":\"white\"},\"yaxis\":{\"backgroundcolor\":\"#E5ECF6\",\"gridcolor\":\"white\",\"gridwidth\":2,\"linecolor\":\"white\",\"showbackground\":true,\"ticks\":\"\",\"zerolinecolor\":\"white\"},\"zaxis\":{\"backgroundcolor\":\"#E5ECF6\",\"gridcolor\":\"white\",\"gridwidth\":2,\"linecolor\":\"white\",\"showbackground\":true,\"ticks\":\"\",\"zerolinecolor\":\"white\"}},\"shapedefaults\":{\"line\":{\"color\":\"#2a3f5f\"}},\"ternary\":{\"aaxis\":{\"gridcolor\":\"white\",\"linecolor\":\"white\",\"ticks\":\"\"},\"baxis\":{\"gridcolor\":\"white\",\"linecolor\":\"white\",\"ticks\":\"\"},\"bgcolor\":\"#E5ECF6\",\"caxis\":{\"gridcolor\":\"white\",\"linecolor\":\"white\",\"ticks\":\"\"}},\"title\":{\"x\":0.05},\"xaxis\":{\"automargin\":true,\"gridcolor\":\"white\",\"linecolor\":\"white\",\"ticks\":\"\",\"title\":{\"standoff\":15},\"zerolinecolor\":\"white\",\"zerolinewidth\":2},\"yaxis\":{\"automargin\":true,\"gridcolor\":\"white\",\"linecolor\":\"white\",\"ticks\":\"\",\"title\":{\"standoff\":15},\"zerolinecolor\":\"white\",\"zerolinewidth\":2}}},\"legend\":{\"tracegroupgap\":0},\"title\":{\"text\":\"The Space Missions\"},\"coloraxis\":{\"showscale\":false},\"xaxis\":{\"title\":{\"text\":\"Number of Organisations\"}},\"yaxis\":{\"title\":{\"text\":\"Mission_Status\"}}},                        {\"responsive\": true}                    ).then(function(){\n",
              "                            \n",
              "var gd = document.getElementById('1fa1cc67-4ada-488c-b2fe-a7f331bbf9df');\n",
              "var x = new MutationObserver(function (mutations, observer) {{\n",
              "        var display = window.getComputedStyle(gd).display;\n",
              "        if (!display || display === 'none') {{\n",
              "            console.log([gd, 'removed!']);\n",
              "            Plotly.purge(gd);\n",
              "            observer.disconnect();\n",
              "        }}\n",
              "}});\n",
              "\n",
              "// Listen for the removal of the full notebook cells\n",
              "var notebookContainer = gd.closest('#notebook-container');\n",
              "if (notebookContainer) {{\n",
              "    x.observe(notebookContainer, {childList: true});\n",
              "}}\n",
              "\n",
              "// Listen for the clearing of the current output cell\n",
              "var outputEl = gd.closest('.output');\n",
              "if (outputEl) {{\n",
              "    x.observe(outputEl, {childList: true});\n",
              "}}\n",
              "\n",
              "                        })                };                            </script>        </div>\n",
              "</body>\n",
              "</html>"
            ]
          },
          "metadata": {}
        }
      ],
      "source": [
        "burst = px.sunburst(df_data, \n",
        "                    path=['Organisation', 'Country', 'Mission_Status'], \n",
        "                    title='The Space Missions'\n",
        "                   )\n",
        " \n",
        "burst.update_layout(xaxis_title='Number of Organisations', \n",
        "                    yaxis_title='Mission_Status',\n",
        "                    coloraxis_showscale=False)\n",
        " \n",
        "burst.show()"
      ]
    },
    {
      "cell_type": "markdown",
      "metadata": {
        "id": "70pG1BCZa-qY"
      },
      "source": [
        "# Analyse the Total Amount of Money Spent by Organisation on Space Missions"
      ]
    },
    {
      "cell_type": "code",
      "execution_count": 29,
      "metadata": {
        "id": "IaJYxwEVpKHy"
      },
      "outputs": [],
      "source": [
        "df_data['Price'] = df_data['Price'].replace(np.nan, 0)"
      ]
    },
    {
      "cell_type": "code",
      "execution_count": 30,
      "metadata": {
        "colab": {
          "base_uri": "https://localhost:8080/"
        },
        "id": "orIFf-appPDL",
        "outputId": "054194e6-a84c-4a3d-c54b-ed4ca3914e6d"
      },
      "outputs": [
        {
          "output_type": "stream",
          "name": "stdout",
          "text": [
            "$ 123175.68000000002 Millions\n"
          ]
        }
      ],
      "source": [
        "total_amount = df_data['Price'].sum()\n",
        "print('$', total_amount, \"Millions\")"
      ]
    },
    {
      "cell_type": "markdown",
      "metadata": {
        "id": "DpsWkPxzpPXs"
      },
      "source": [
        "# Analyse the Amount of Money Spent by Organisation per Launch"
      ]
    },
    {
      "cell_type": "code",
      "execution_count": 31,
      "metadata": {
        "colab": {
          "base_uri": "https://localhost:8080/",
          "height": 1000
        },
        "id": "VEkHzAk2pTvj",
        "outputId": "76912999-2fee-4d28-e967-0ba16e2131dd"
      },
      "outputs": [
        {
          "output_type": "execute_result",
          "data": {
            "text/html": [
              "\n",
              "  <div id=\"df-a2be15d8-6a41-4983-b66f-b4f94c0e6029\">\n",
              "    <div class=\"colab-df-container\">\n",
              "      <div>\n",
              "<style scoped>\n",
              "    .dataframe tbody tr th:only-of-type {\n",
              "        vertical-align: middle;\n",
              "    }\n",
              "\n",
              "    .dataframe tbody tr th {\n",
              "        vertical-align: top;\n",
              "    }\n",
              "\n",
              "    .dataframe thead th {\n",
              "        text-align: right;\n",
              "    }\n",
              "</style>\n",
              "<table border=\"1\" class=\"dataframe\">\n",
              "  <thead>\n",
              "    <tr style=\"text-align: right;\">\n",
              "      <th></th>\n",
              "      <th>Price</th>\n",
              "    </tr>\n",
              "    <tr>\n",
              "      <th>Organisation</th>\n",
              "      <th></th>\n",
              "    </tr>\n",
              "  </thead>\n",
              "  <tbody>\n",
              "    <tr>\n",
              "      <th>AEB</th>\n",
              "      <td>1.00</td>\n",
              "    </tr>\n",
              "    <tr>\n",
              "      <th>AMBA</th>\n",
              "      <td>1.00</td>\n",
              "    </tr>\n",
              "    <tr>\n",
              "      <th>ASI</th>\n",
              "      <td>1.00</td>\n",
              "    </tr>\n",
              "    <tr>\n",
              "      <th>Arianespace</th>\n",
              "      <td>6.00</td>\n",
              "    </tr>\n",
              "    <tr>\n",
              "      <th>Arm??e de l'Air</th>\n",
              "      <td>1.00</td>\n",
              "    </tr>\n",
              "    <tr>\n",
              "      <th>Blue Origin</th>\n",
              "      <td>1.00</td>\n",
              "    </tr>\n",
              "    <tr>\n",
              "      <th>Boeing</th>\n",
              "      <td>4.00</td>\n",
              "    </tr>\n",
              "    <tr>\n",
              "      <th>CASC</th>\n",
              "      <td>9.00</td>\n",
              "    </tr>\n",
              "    <tr>\n",
              "      <th>CASIC</th>\n",
              "      <td>1.00</td>\n",
              "    </tr>\n",
              "    <tr>\n",
              "      <th>CECLES</th>\n",
              "      <td>1.00</td>\n",
              "    </tr>\n",
              "    <tr>\n",
              "      <th>CNES</th>\n",
              "      <td>1.00</td>\n",
              "    </tr>\n",
              "    <tr>\n",
              "      <th>Douglas</th>\n",
              "      <td>1.00</td>\n",
              "    </tr>\n",
              "    <tr>\n",
              "      <th>EER</th>\n",
              "      <td>1.00</td>\n",
              "    </tr>\n",
              "    <tr>\n",
              "      <th>ESA</th>\n",
              "      <td>2.00</td>\n",
              "    </tr>\n",
              "    <tr>\n",
              "      <th>Eurockot</th>\n",
              "      <td>1.00</td>\n",
              "    </tr>\n",
              "    <tr>\n",
              "      <th>ExPace</th>\n",
              "      <td>2.00</td>\n",
              "    </tr>\n",
              "    <tr>\n",
              "      <th>Exos</th>\n",
              "      <td>1.00</td>\n",
              "    </tr>\n",
              "    <tr>\n",
              "      <th>General Dynamics</th>\n",
              "      <td>1.00</td>\n",
              "    </tr>\n",
              "    <tr>\n",
              "      <th>IAI</th>\n",
              "      <td>1.00</td>\n",
              "    </tr>\n",
              "    <tr>\n",
              "      <th>ILS</th>\n",
              "      <td>7.00</td>\n",
              "    </tr>\n",
              "    <tr>\n",
              "      <th>IRGC</th>\n",
              "      <td>1.00</td>\n",
              "    </tr>\n",
              "    <tr>\n",
              "      <th>ISA</th>\n",
              "      <td>1.00</td>\n",
              "    </tr>\n",
              "    <tr>\n",
              "      <th>ISAS</th>\n",
              "      <td>1.00</td>\n",
              "    </tr>\n",
              "    <tr>\n",
              "      <th>ISRO</th>\n",
              "      <td>6.00</td>\n",
              "    </tr>\n",
              "    <tr>\n",
              "      <th>JAXA</th>\n",
              "      <td>3.00</td>\n",
              "    </tr>\n",
              "    <tr>\n",
              "      <th>KARI</th>\n",
              "      <td>1.00</td>\n",
              "    </tr>\n",
              "    <tr>\n",
              "      <th>KCST</th>\n",
              "      <td>1.00</td>\n",
              "    </tr>\n",
              "    <tr>\n",
              "      <th>Khrunichev</th>\n",
              "      <td>1.00</td>\n",
              "    </tr>\n",
              "    <tr>\n",
              "      <th>Kosmotras</th>\n",
              "      <td>1.00</td>\n",
              "    </tr>\n",
              "    <tr>\n",
              "      <th>Land Launch</th>\n",
              "      <td>1.00</td>\n",
              "    </tr>\n",
              "    <tr>\n",
              "      <th>Landspace</th>\n",
              "      <td>1.00</td>\n",
              "    </tr>\n",
              "    <tr>\n",
              "      <th>Lockheed</th>\n",
              "      <td>2.00</td>\n",
              "    </tr>\n",
              "    <tr>\n",
              "      <th>MHI</th>\n",
              "      <td>3.00</td>\n",
              "    </tr>\n",
              "    <tr>\n",
              "      <th>MITT</th>\n",
              "      <td>1.00</td>\n",
              "    </tr>\n",
              "    <tr>\n",
              "      <th>Martin Marietta</th>\n",
              "      <td>3.00</td>\n",
              "    </tr>\n",
              "    <tr>\n",
              "      <th>NASA</th>\n",
              "      <td>2.00</td>\n",
              "    </tr>\n",
              "    <tr>\n",
              "      <th>Northrop</th>\n",
              "      <td>6.00</td>\n",
              "    </tr>\n",
              "    <tr>\n",
              "      <th>OKB-586</th>\n",
              "      <td>1.00</td>\n",
              "    </tr>\n",
              "    <tr>\n",
              "      <th>OneSpace</th>\n",
              "      <td>1.00</td>\n",
              "    </tr>\n",
              "    <tr>\n",
              "      <th>RAE</th>\n",
              "      <td>1.00</td>\n",
              "    </tr>\n",
              "    <tr>\n",
              "      <th>RVSN USSR</th>\n",
              "      <td>1.00</td>\n",
              "    </tr>\n",
              "    <tr>\n",
              "      <th>Rocket Lab</th>\n",
              "      <td>1.00</td>\n",
              "    </tr>\n",
              "    <tr>\n",
              "      <th>Roscosmos</th>\n",
              "      <td>4.00</td>\n",
              "    </tr>\n",
              "    <tr>\n",
              "      <th>SRC</th>\n",
              "      <td>1.00</td>\n",
              "    </tr>\n",
              "    <tr>\n",
              "      <th>Sandia</th>\n",
              "      <td>1.00</td>\n",
              "    </tr>\n",
              "    <tr>\n",
              "      <th>Sea Launch</th>\n",
              "      <td>1.00</td>\n",
              "    </tr>\n",
              "    <tr>\n",
              "      <th>SpaceX</th>\n",
              "      <td>7.00</td>\n",
              "    </tr>\n",
              "    <tr>\n",
              "      <th>Starsem</th>\n",
              "      <td>1.00</td>\n",
              "    </tr>\n",
              "    <tr>\n",
              "      <th>ULA</th>\n",
              "      <td>11.00</td>\n",
              "    </tr>\n",
              "    <tr>\n",
              "      <th>US Air Force</th>\n",
              "      <td>3.00</td>\n",
              "    </tr>\n",
              "    <tr>\n",
              "      <th>US Navy</th>\n",
              "      <td>1.00</td>\n",
              "    </tr>\n",
              "    <tr>\n",
              "      <th>UT</th>\n",
              "      <td>1.00</td>\n",
              "    </tr>\n",
              "    <tr>\n",
              "      <th>VKS RF</th>\n",
              "      <td>5.00</td>\n",
              "    </tr>\n",
              "    <tr>\n",
              "      <th>Virgin Orbit</th>\n",
              "      <td>1.00</td>\n",
              "    </tr>\n",
              "    <tr>\n",
              "      <th>Yuzhmash</th>\n",
              "      <td>1.00</td>\n",
              "    </tr>\n",
              "    <tr>\n",
              "      <th>i-Space</th>\n",
              "      <td>1.00</td>\n",
              "    </tr>\n",
              "  </tbody>\n",
              "</table>\n",
              "</div>\n",
              "      <button class=\"colab-df-convert\" onclick=\"convertToInteractive('df-a2be15d8-6a41-4983-b66f-b4f94c0e6029')\"\n",
              "              title=\"Convert this dataframe to an interactive table.\"\n",
              "              style=\"display:none;\">\n",
              "        \n",
              "  <svg xmlns=\"http://www.w3.org/2000/svg\" height=\"24px\"viewBox=\"0 0 24 24\"\n",
              "       width=\"24px\">\n",
              "    <path d=\"M0 0h24v24H0V0z\" fill=\"none\"/>\n",
              "    <path d=\"M18.56 5.44l.94 2.06.94-2.06 2.06-.94-2.06-.94-.94-2.06-.94 2.06-2.06.94zm-11 1L8.5 8.5l.94-2.06 2.06-.94-2.06-.94L8.5 2.5l-.94 2.06-2.06.94zm10 10l.94 2.06.94-2.06 2.06-.94-2.06-.94-.94-2.06-.94 2.06-2.06.94z\"/><path d=\"M17.41 7.96l-1.37-1.37c-.4-.4-.92-.59-1.43-.59-.52 0-1.04.2-1.43.59L10.3 9.45l-7.72 7.72c-.78.78-.78 2.05 0 2.83L4 21.41c.39.39.9.59 1.41.59.51 0 1.02-.2 1.41-.59l7.78-7.78 2.81-2.81c.8-.78.8-2.07 0-2.86zM5.41 20L4 18.59l7.72-7.72 1.47 1.35L5.41 20z\"/>\n",
              "  </svg>\n",
              "      </button>\n",
              "      \n",
              "  <style>\n",
              "    .colab-df-container {\n",
              "      display:flex;\n",
              "      flex-wrap:wrap;\n",
              "      gap: 12px;\n",
              "    }\n",
              "\n",
              "    .colab-df-convert {\n",
              "      background-color: #E8F0FE;\n",
              "      border: none;\n",
              "      border-radius: 50%;\n",
              "      cursor: pointer;\n",
              "      display: none;\n",
              "      fill: #1967D2;\n",
              "      height: 32px;\n",
              "      padding: 0 0 0 0;\n",
              "      width: 32px;\n",
              "    }\n",
              "\n",
              "    .colab-df-convert:hover {\n",
              "      background-color: #E2EBFA;\n",
              "      box-shadow: 0px 1px 2px rgba(60, 64, 67, 0.3), 0px 1px 3px 1px rgba(60, 64, 67, 0.15);\n",
              "      fill: #174EA6;\n",
              "    }\n",
              "\n",
              "    [theme=dark] .colab-df-convert {\n",
              "      background-color: #3B4455;\n",
              "      fill: #D2E3FC;\n",
              "    }\n",
              "\n",
              "    [theme=dark] .colab-df-convert:hover {\n",
              "      background-color: #434B5C;\n",
              "      box-shadow: 0px 1px 3px 1px rgba(0, 0, 0, 0.15);\n",
              "      filter: drop-shadow(0px 1px 2px rgba(0, 0, 0, 0.3));\n",
              "      fill: #FFFFFF;\n",
              "    }\n",
              "  </style>\n",
              "\n",
              "      <script>\n",
              "        const buttonEl =\n",
              "          document.querySelector('#df-a2be15d8-6a41-4983-b66f-b4f94c0e6029 button.colab-df-convert');\n",
              "        buttonEl.style.display =\n",
              "          google.colab.kernel.accessAllowed ? 'block' : 'none';\n",
              "\n",
              "        async function convertToInteractive(key) {\n",
              "          const element = document.querySelector('#df-a2be15d8-6a41-4983-b66f-b4f94c0e6029');\n",
              "          const dataTable =\n",
              "            await google.colab.kernel.invokeFunction('convertToInteractive',\n",
              "                                                     [key], {});\n",
              "          if (!dataTable) return;\n",
              "\n",
              "          const docLinkHtml = 'Like what you see? Visit the ' +\n",
              "            '<a target=\"_blank\" href=https://colab.research.google.com/notebooks/data_table.ipynb>data table notebook</a>'\n",
              "            + ' to learn more about interactive tables.';\n",
              "          element.innerHTML = '';\n",
              "          dataTable['output_type'] = 'display_data';\n",
              "          await google.colab.output.renderOutput(dataTable, element);\n",
              "          const docLink = document.createElement('div');\n",
              "          docLink.innerHTML = docLinkHtml;\n",
              "          element.appendChild(docLink);\n",
              "        }\n",
              "      </script>\n",
              "    </div>\n",
              "  </div>\n",
              "  "
            ],
            "text/plain": [
              "                  Price\n",
              "Organisation           \n",
              "AEB                1.00\n",
              "AMBA               1.00\n",
              "ASI                1.00\n",
              "Arianespace        6.00\n",
              "Arm??e de l'Air    1.00\n",
              "Blue Origin        1.00\n",
              "Boeing             4.00\n",
              "CASC               9.00\n",
              "CASIC              1.00\n",
              "CECLES             1.00\n",
              "CNES               1.00\n",
              "Douglas            1.00\n",
              "EER                1.00\n",
              "ESA                2.00\n",
              "Eurockot           1.00\n",
              "ExPace             2.00\n",
              "Exos               1.00\n",
              "General Dynamics   1.00\n",
              "IAI                1.00\n",
              "ILS                7.00\n",
              "IRGC               1.00\n",
              "ISA                1.00\n",
              "ISAS               1.00\n",
              "ISRO               6.00\n",
              "JAXA               3.00\n",
              "KARI               1.00\n",
              "KCST               1.00\n",
              "Khrunichev         1.00\n",
              "Kosmotras          1.00\n",
              "Land Launch        1.00\n",
              "Landspace          1.00\n",
              "Lockheed           2.00\n",
              "MHI                3.00\n",
              "MITT               1.00\n",
              "Martin Marietta    3.00\n",
              "NASA               2.00\n",
              "Northrop           6.00\n",
              "OKB-586            1.00\n",
              "OneSpace           1.00\n",
              "RAE                1.00\n",
              "RVSN USSR          1.00\n",
              "Rocket Lab         1.00\n",
              "Roscosmos          4.00\n",
              "SRC                1.00\n",
              "Sandia             1.00\n",
              "Sea Launch         1.00\n",
              "SpaceX             7.00\n",
              "Starsem            1.00\n",
              "ULA               11.00\n",
              "US Air Force       3.00\n",
              "US Navy            1.00\n",
              "UT                 1.00\n",
              "VKS RF             5.00\n",
              "Virgin Orbit       1.00\n",
              "Yuzhmash           1.00\n",
              "i-Space            1.00"
            ]
          },
          "metadata": {},
          "execution_count": 31
        }
      ],
      "source": [
        "Price_Over_Launches = df_data.groupby(\"Organisation\").agg({'Price':pd.Series.nunique})\n",
        "Price_Over_Launches"
      ]
    },
    {
      "cell_type": "markdown",
      "metadata": {
        "id": "yRa1BbPoa-qf"
      },
      "source": [
        "# Chart the Number of Launches per Year"
      ]
    },
    {
      "cell_type": "code",
      "execution_count": 32,
      "metadata": {
        "id": "b2pggcZBpb4x"
      },
      "outputs": [],
      "source": [
        "df_data['Year'] = pd.DatetimeIndex(df_data['Date']).year"
      ]
    },
    {
      "cell_type": "code",
      "execution_count": 33,
      "metadata": {
        "id": "5piRwDwE_4gH"
      },
      "outputs": [],
      "source": [
        "Launches_per_year = df_data.groupby(\"Year\").agg({'Organisation':pd.Series.nunique})\n",
        "Launches_per_year.rename(columns = {'Organisation':'nr_launches'}, inplace=True)"
      ]
    },
    {
      "cell_type": "code",
      "execution_count": 34,
      "metadata": {
        "colab": {
          "base_uri": "https://localhost:8080/",
          "height": 282
        },
        "id": "YrxVaup3-KH9",
        "outputId": "ee3ac057-88f8-4639-cc4f-a3a9fc79462b"
      },
      "outputs": [
        {
          "output_type": "execute_result",
          "data": {
            "text/plain": [
              "[<matplotlib.lines.Line2D at 0x7efe3c406390>]"
            ]
          },
          "metadata": {},
          "execution_count": 34
        },
        {
          "output_type": "display_data",
          "data": {
            "image/png": "[encoded data removed]",
            "text/plain": [
              "<Figure size 432x288 with 1 Axes>"
            ]
          },
          "metadata": {
            "needs_background": "light"
          }
        }
      ],
      "source": [
        "plt.plot(Launches_per_year.index, Launches_per_year.nr_launches)"
      ]
    },
    {
      "cell_type": "markdown",
      "metadata": {
        "id": "NomJVLi3tIaM"
      },
      "source": [
        "# Chart the Number of Launches Month-on-Month until the Present\n",
        "\n",
        "Which month has seen the highest number of launches in all time? Superimpose a rolling average on the month on month time series chart. "
      ]
    },
    {
      "cell_type": "code",
      "execution_count": 35,
      "metadata": {
        "id": "H1N2aBs5tH9z"
      },
      "outputs": [],
      "source": [
        "df_data['Month'] = pd.DatetimeIndex(df_data['Date']).month"
      ]
    },
    {
      "cell_type": "code",
      "execution_count": 36,
      "metadata": {
        "id": "pfw0aX1lpdRv"
      },
      "outputs": [],
      "source": [
        "Launches_per_month = df_data.groupby(\"Month\").agg({'Organisation':pd.Series.nunique})\n",
        "Launches_per_month.rename(columns = {'Organisation':'nr_launches'}, inplace=True)"
      ]
    },
    {
      "cell_type": "code",
      "execution_count": 37,
      "metadata": {
        "colab": {
          "base_uri": "https://localhost:8080/",
          "height": 282
        },
        "id": "i0iYc-ogBdhc",
        "outputId": "fc5e84b1-9cce-4955-aeab-4153a2315b5b"
      },
      "outputs": [
        {
          "output_type": "execute_result",
          "data": {
            "text/plain": [
              "[<matplotlib.lines.Line2D at 0x7efe3c380590>]"
            ]
          },
          "metadata": {},
          "execution_count": 37
        },
        {
          "output_type": "display_data",
          "data": {
            "image/png": "[encoded data removed]",
            "text/plain": [
              "<Figure size 432x288 with 1 Axes>"
            ]
          },
          "metadata": {
            "needs_background": "light"
          }
        }
      ],
      "source": [
        "plt.plot(Launches_per_month.index, Launches_per_month.nr_launches)"
      ]
    },
    {
      "cell_type": "markdown",
      "metadata": {
        "id": "t-avMIZoa-qh"
      },
      "source": [
        "# Launches per Month: Which months are most popular and least popular for launches?\n",
        "\n",
        "Some months have better weather than others. Which time of year seems to be best for space missions?"
      ]
    },
    {
      "cell_type": "code",
      "execution_count": 38,
      "metadata": {
        "colab": {
          "base_uri": "https://localhost:8080/"
        },
        "id": "zmtp5uBHppFG",
        "outputId": "6edd3212-81ef-4648-d915-5d032ea0286b"
      },
      "outputs": [
        {
          "output_type": "execute_result",
          "data": {
            "text/plain": [
              "Month    12\n",
              "dtype: int64"
            ]
          },
          "metadata": {},
          "execution_count": 38
        }
      ],
      "source": [
        "Most_Popular_Month = df_data.groupby(\"Year\").agg({'Month':pd.Series.nunique})\n",
        "Most_Popular_Month.max()"
      ]
    },
    {
      "cell_type": "code",
      "execution_count": 39,
      "metadata": {
        "colab": {
          "base_uri": "https://localhost:8080/"
        },
        "id": "fnk2m_cpppJo",
        "outputId": "777708c2-350f-4fbb-9cd2-20cc20f7e96f"
      },
      "outputs": [
        {
          "output_type": "execute_result",
          "data": {
            "text/plain": [
              "Month    3\n",
              "dtype: int64"
            ]
          },
          "metadata": {},
          "execution_count": 39
        }
      ],
      "source": [
        "Least_Popular_Month = df_data.groupby(\"Year\").agg({'Month':pd.Series.nunique})\n",
        "Least_Popular_Month.min()"
      ]
    },
    {
      "cell_type": "markdown",
      "metadata": {
        "id": "dPQ_N_sfa-qo"
      },
      "source": [
        "# How has the Launch Price varied Over Time? \n",
        "\n",
        "Create a line chart that shows the average price of rocket launches over time. "
      ]
    },
    {
      "cell_type": "code",
      "execution_count": 40,
      "metadata": {
        "colab": {
          "base_uri": "https://localhost:8080/",
          "height": 269
        },
        "id": "hFc-2M5-qCrv",
        "outputId": "6b4831d1-c418-499a-aa43-45935d418059"
      },
      "outputs": [
        {
          "output_type": "display_data",
          "data": {
            "image/png": "[encoded data removed]",
            "text/plain": [
              "<Figure size 432x288 with 1 Axes>"
            ]
          },
          "metadata": {
            "needs_background": "light"
          }
        }
      ],
      "source": [
        "lines = df_data.plot.line(x='Date', y='Price')"
      ]
    },
    {
      "cell_type": "markdown",
      "metadata": {
        "id": "8OYrWyiOa-qs"
      },
      "source": [
        "# Chart the Number of Launches over Time by the Top 10 Organisations. \n",
        "\n",
        "How has the dominance of launches changed over time between the different players? "
      ]
    },
    {
      "cell_type": "code",
      "execution_count": 47,
      "metadata": {
        "colab": {
          "base_uri": "https://localhost:8080/",
          "height": 394
        },
        "id": "RcsrPPpAqVFj",
        "outputId": "9bd7b681-0a0c-4866-d35e-3b3280b7664d"
      },
      "outputs": [
        {
          "output_type": "execute_result",
          "data": {
            "text/html": [
              "\n",
              "  <div id=\"df-ea730a1d-d758-4566-8972-48019fdf7dfa\">\n",
              "    <div class=\"colab-df-container\">\n",
              "      <div>\n",
              "<style scoped>\n",
              "    .dataframe tbody tr th:only-of-type {\n",
              "        vertical-align: middle;\n",
              "    }\n",
              "\n",
              "    .dataframe tbody tr th {\n",
              "        vertical-align: top;\n",
              "    }\n",
              "\n",
              "    .dataframe thead th {\n",
              "        text-align: right;\n",
              "    }\n",
              "</style>\n",
              "<table border=\"1\" class=\"dataframe\">\n",
              "  <thead>\n",
              "    <tr style=\"text-align: right;\">\n",
              "      <th></th>\n",
              "      <th>Date</th>\n",
              "    </tr>\n",
              "    <tr>\n",
              "      <th>Organisation</th>\n",
              "      <th></th>\n",
              "    </tr>\n",
              "  </thead>\n",
              "  <tbody>\n",
              "    <tr>\n",
              "      <th>RVSN USSR</th>\n",
              "      <td>1777</td>\n",
              "    </tr>\n",
              "    <tr>\n",
              "      <th>Arianespace</th>\n",
              "      <td>279</td>\n",
              "    </tr>\n",
              "    <tr>\n",
              "      <th>General Dynamics</th>\n",
              "      <td>251</td>\n",
              "    </tr>\n",
              "    <tr>\n",
              "      <th>CASC</th>\n",
              "      <td>250</td>\n",
              "    </tr>\n",
              "    <tr>\n",
              "      <th>NASA</th>\n",
              "      <td>203</td>\n",
              "    </tr>\n",
              "    <tr>\n",
              "      <th>VKS RF</th>\n",
              "      <td>201</td>\n",
              "    </tr>\n",
              "    <tr>\n",
              "      <th>US Air Force</th>\n",
              "      <td>161</td>\n",
              "    </tr>\n",
              "    <tr>\n",
              "      <th>ULA</th>\n",
              "      <td>140</td>\n",
              "    </tr>\n",
              "    <tr>\n",
              "      <th>Boeing</th>\n",
              "      <td>136</td>\n",
              "    </tr>\n",
              "    <tr>\n",
              "      <th>Martin Marietta</th>\n",
              "      <td>114</td>\n",
              "    </tr>\n",
              "  </tbody>\n",
              "</table>\n",
              "</div>\n",
              "      <button class=\"colab-df-convert\" onclick=\"convertToInteractive('df-ea730a1d-d758-4566-8972-48019fdf7dfa')\"\n",
              "              title=\"Convert this dataframe to an interactive table.\"\n",
              "              style=\"display:none;\">\n",
              "        \n",
              "  <svg xmlns=\"http://www.w3.org/2000/svg\" height=\"24px\"viewBox=\"0 0 24 24\"\n",
              "       width=\"24px\">\n",
              "    <path d=\"M0 0h24v24H0V0z\" fill=\"none\"/>\n",
              "    <path d=\"M18.56 5.44l.94 2.06.94-2.06 2.06-.94-2.06-.94-.94-2.06-.94 2.06-2.06.94zm-11 1L8.5 8.5l.94-2.06 2.06-.94-2.06-.94L8.5 2.5l-.94 2.06-2.06.94zm10 10l.94 2.06.94-2.06 2.06-.94-2.06-.94-.94-2.06-.94 2.06-2.06.94z\"/><path d=\"M17.41 7.96l-1.37-1.37c-.4-.4-.92-.59-1.43-.59-.52 0-1.04.2-1.43.59L10.3 9.45l-7.72 7.72c-.78.78-.78 2.05 0 2.83L4 21.41c.39.39.9.59 1.41.59.51 0 1.02-.2 1.41-.59l7.78-7.78 2.81-2.81c.8-.78.8-2.07 0-2.86zM5.41 20L4 18.59l7.72-7.72 1.47 1.35L5.41 20z\"/>\n",
              "  </svg>\n",
              "      </button>\n",
              "      \n",
              "  <style>\n",
              "    .colab-df-container {\n",
              "      display:flex;\n",
              "      flex-wrap:wrap;\n",
              "      gap: 12px;\n",
              "    }\n",
              "\n",
              "    .colab-df-convert {\n",
              "      background-color: #E8F0FE;\n",
              "      border: none;\n",
              "      border-radius: 50%;\n",
              "      cursor: pointer;\n",
              "      display: none;\n",
              "      fill: #1967D2;\n",
              "      height: 32px;\n",
              "      padding: 0 0 0 0;\n",
              "      width: 32px;\n",
              "    }\n",
              "\n",
              "    .colab-df-convert:hover {\n",
              "      background-color: #E2EBFA;\n",
              "      box-shadow: 0px 1px 2px rgba(60, 64, 67, 0.3), 0px 1px 3px 1px rgba(60, 64, 67, 0.15);\n",
              "      fill: #174EA6;\n",
              "    }\n",
              "\n",
              "    [theme=dark] .colab-df-convert {\n",
              "      background-color: #3B4455;\n",
              "      fill: #D2E3FC;\n",
              "    }\n",
              "\n",
              "    [theme=dark] .colab-df-convert:hover {\n",
              "      background-color: #434B5C;\n",
              "      box-shadow: 0px 1px 3px 1px rgba(0, 0, 0, 0.15);\n",
              "      filter: drop-shadow(0px 1px 2px rgba(0, 0, 0, 0.3));\n",
              "      fill: #FFFFFF;\n",
              "    }\n",
              "  </style>\n",
              "\n",
              "      <script>\n",
              "        const buttonEl =\n",
              "          document.querySelector('#df-ea730a1d-d758-4566-8972-48019fdf7dfa button.colab-df-convert');\n",
              "        buttonEl.style.display =\n",
              "          google.colab.kernel.accessAllowed ? 'block' : 'none';\n",
              "\n",
              "        async function convertToInteractive(key) {\n",
              "          const element = document.querySelector('#df-ea730a1d-d758-4566-8972-48019fdf7dfa');\n",
              "          const dataTable =\n",
              "            await google.colab.kernel.invokeFunction('convertToInteractive',\n",
              "                                                     [key], {});\n",
              "          if (!dataTable) return;\n",
              "\n",
              "          const docLinkHtml = 'Like what you see? Visit the ' +\n",
              "            '<a target=\"_blank\" href=https://colab.research.google.com/notebooks/data_table.ipynb>data table notebook</a>'\n",
              "            + ' to learn more about interactive tables.';\n",
              "          element.innerHTML = '';\n",
              "          dataTable['output_type'] = 'display_data';\n",
              "          await google.colab.output.renderOutput(dataTable, element);\n",
              "          const docLink = document.createElement('div');\n",
              "          docLink.innerHTML = docLinkHtml;\n",
              "          element.appendChild(docLink);\n",
              "        }\n",
              "      </script>\n",
              "    </div>\n",
              "  </div>\n",
              "  "
            ],
            "text/plain": [
              "                  Date\n",
              "Organisation          \n",
              "RVSN USSR         1777\n",
              "Arianespace        279\n",
              "General Dynamics   251\n",
              "CASC               250\n",
              "NASA               203\n",
              "VKS RF             201\n",
              "US Air Force       161\n",
              "ULA                140\n",
              "Boeing             136\n",
              "Martin Marietta    114"
            ]
          },
          "metadata": {},
          "execution_count": 47
        }
      ],
      "source": [
        "Launches_over_Time = df_data.groupby(\"Organisation\").agg({'Date':pd.Series.nunique})\n",
        "Launches_over_Time.sort_values('Date', ascending=False).head(10)"
      ]
    },
    {
      "cell_type": "markdown",
      "metadata": {
        "id": "6Cm8_ch6a-q7"
      },
      "source": [
        "# Cold War Space Race: USA vs USSR\n",
        "\n",
        "The cold war lasted from the start of the dataset up until 1991. "
      ]
    },
    {
      "cell_type": "code",
      "execution_count": 74,
      "metadata": {
        "colab": {
          "base_uri": "https://localhost:8080/",
          "height": 524
        },
        "id": "AcE_U8csrICL",
        "outputId": "729da695-6155-400f-f9c9-380818def585"
      },
      "outputs": [
        {
          "output_type": "stream",
          "name": "stderr",
          "text": [
            "/usr/local/lib/python3.7/dist-packages/ipykernel_launcher.py:2: UserWarning:\n",
            "\n",
            "Boolean Series key will be reindexed to match DataFrame index.\n",
            "\n"
          ]
        },
        {
          "output_type": "execute_result",
          "data": {
            "text/html": [
              "\n",
              "  <div id=\"df-06eba898-05dd-43a3-8beb-fa550a02d34e\">\n",
              "    <div class=\"colab-df-container\">\n",
              "      <div>\n",
              "<style scoped>\n",
              "    .dataframe tbody tr th:only-of-type {\n",
              "        vertical-align: middle;\n",
              "    }\n",
              "\n",
              "    .dataframe tbody tr th {\n",
              "        vertical-align: top;\n",
              "    }\n",
              "\n",
              "    .dataframe thead th {\n",
              "        text-align: right;\n",
              "    }\n",
              "</style>\n",
              "<table border=\"1\" class=\"dataframe\">\n",
              "  <thead>\n",
              "    <tr style=\"text-align: right;\">\n",
              "      <th></th>\n",
              "      <th>Country</th>\n",
              "    </tr>\n",
              "    <tr>\n",
              "      <th>Year</th>\n",
              "      <th></th>\n",
              "    </tr>\n",
              "  </thead>\n",
              "  <tbody>\n",
              "    <tr>\n",
              "      <th>1957</th>\n",
              "      <td>2</td>\n",
              "    </tr>\n",
              "    <tr>\n",
              "      <th>1958</th>\n",
              "      <td>2</td>\n",
              "    </tr>\n",
              "    <tr>\n",
              "      <th>1959</th>\n",
              "      <td>2</td>\n",
              "    </tr>\n",
              "    <tr>\n",
              "      <th>1960</th>\n",
              "      <td>2</td>\n",
              "    </tr>\n",
              "    <tr>\n",
              "      <th>1961</th>\n",
              "      <td>3</td>\n",
              "    </tr>\n",
              "    <tr>\n",
              "      <th>...</th>\n",
              "      <td>...</td>\n",
              "    </tr>\n",
              "    <tr>\n",
              "      <th>2016</th>\n",
              "      <td>9</td>\n",
              "    </tr>\n",
              "    <tr>\n",
              "      <th>2017</th>\n",
              "      <td>9</td>\n",
              "    </tr>\n",
              "    <tr>\n",
              "      <th>2018</th>\n",
              "      <td>9</td>\n",
              "    </tr>\n",
              "    <tr>\n",
              "      <th>2019</th>\n",
              "      <td>11</td>\n",
              "    </tr>\n",
              "    <tr>\n",
              "      <th>2020</th>\n",
              "      <td>10</td>\n",
              "    </tr>\n",
              "  </tbody>\n",
              "</table>\n",
              "<p>64 rows × 1 columns</p>\n",
              "</div>\n",
              "      <button class=\"colab-df-convert\" onclick=\"convertToInteractive('df-06eba898-05dd-43a3-8beb-fa550a02d34e')\"\n",
              "              title=\"Convert this dataframe to an interactive table.\"\n",
              "              style=\"display:none;\">\n",
              "        \n",
              "  <svg xmlns=\"http://www.w3.org/2000/svg\" height=\"24px\"viewBox=\"0 0 24 24\"\n",
              "       width=\"24px\">\n",
              "    <path d=\"M0 0h24v24H0V0z\" fill=\"none\"/>\n",
              "    <path d=\"M18.56 5.44l.94 2.06.94-2.06 2.06-.94-2.06-.94-.94-2.06-.94 2.06-2.06.94zm-11 1L8.5 8.5l.94-2.06 2.06-.94-2.06-.94L8.5 2.5l-.94 2.06-2.06.94zm10 10l.94 2.06.94-2.06 2.06-.94-2.06-.94-.94-2.06-.94 2.06-2.06.94z\"/><path d=\"M17.41 7.96l-1.37-1.37c-.4-.4-.92-.59-1.43-.59-.52 0-1.04.2-1.43.59L10.3 9.45l-7.72 7.72c-.78.78-.78 2.05 0 2.83L4 21.41c.39.39.9.59 1.41.59.51 0 1.02-.2 1.41-.59l7.78-7.78 2.81-2.81c.8-.78.8-2.07 0-2.86zM5.41 20L4 18.59l7.72-7.72 1.47 1.35L5.41 20z\"/>\n",
              "  </svg>\n",
              "      </button>\n",
              "      \n",
              "  <style>\n",
              "    .colab-df-container {\n",
              "      display:flex;\n",
              "      flex-wrap:wrap;\n",
              "      gap: 12px;\n",
              "    }\n",
              "\n",
              "    .colab-df-convert {\n",
              "      background-color: #E8F0FE;\n",
              "      border: none;\n",
              "      border-radius: 50%;\n",
              "      cursor: pointer;\n",
              "      display: none;\n",
              "      fill: #1967D2;\n",
              "      height: 32px;\n",
              "      padding: 0 0 0 0;\n",
              "      width: 32px;\n",
              "    }\n",
              "\n",
              "    .colab-df-convert:hover {\n",
              "      background-color: #E2EBFA;\n",
              "      box-shadow: 0px 1px 2px rgba(60, 64, 67, 0.3), 0px 1px 3px 1px rgba(60, 64, 67, 0.15);\n",
              "      fill: #174EA6;\n",
              "    }\n",
              "\n",
              "    [theme=dark] .colab-df-convert {\n",
              "      background-color: #3B4455;\n",
              "      fill: #D2E3FC;\n",
              "    }\n",
              "\n",
              "    [theme=dark] .colab-df-convert:hover {\n",
              "      background-color: #434B5C;\n",
              "      box-shadow: 0px 1px 3px 1px rgba(0, 0, 0, 0.15);\n",
              "      filter: drop-shadow(0px 1px 2px rgba(0, 0, 0, 0.3));\n",
              "      fill: #FFFFFF;\n",
              "    }\n",
              "  </style>\n",
              "\n",
              "      <script>\n",
              "        const buttonEl =\n",
              "          document.querySelector('#df-06eba898-05dd-43a3-8beb-fa550a02d34e button.colab-df-convert');\n",
              "        buttonEl.style.display =\n",
              "          google.colab.kernel.accessAllowed ? 'block' : 'none';\n",
              "\n",
              "        async function convertToInteractive(key) {\n",
              "          const element = document.querySelector('#df-06eba898-05dd-43a3-8beb-fa550a02d34e');\n",
              "          const dataTable =\n",
              "            await google.colab.kernel.invokeFunction('convertToInteractive',\n",
              "                                                     [key], {});\n",
              "          if (!dataTable) return;\n",
              "\n",
              "          const docLinkHtml = 'Like what you see? Visit the ' +\n",
              "            '<a target=\"_blank\" href=https://colab.research.google.com/notebooks/data_table.ipynb>data table notebook</a>'\n",
              "            + ' to learn more about interactive tables.';\n",
              "          element.innerHTML = '';\n",
              "          dataTable['output_type'] = 'display_data';\n",
              "          await google.colab.output.renderOutput(dataTable, element);\n",
              "          const docLink = document.createElement('div');\n",
              "          docLink.innerHTML = docLinkHtml;\n",
              "          element.appendChild(docLink);\n",
              "        }\n",
              "      </script>\n",
              "    </div>\n",
              "  </div>\n",
              "  "
            ],
            "text/plain": [
              "      Country\n",
              "Year         \n",
              "1957        2\n",
              "1958        2\n",
              "1959        2\n",
              "1960        2\n",
              "1961        3\n",
              "...       ...\n",
              "2016        9\n",
              "2017        9\n",
              "2018        9\n",
              "2019       11\n",
              "2020       10\n",
              "\n",
              "[64 rows x 1 columns]"
            ]
          },
          "metadata": {},
          "execution_count": 74
        }
      ],
      "source": [
        "USA_Cold_War = df_data.groupby('Year').agg({'Country':pd.Series.nunique})\n",
        "USA_Cold_War[df_data['Year'] < 1991]"
      ]
    },
    {
      "cell_type": "code",
      "execution_count": 76,
      "metadata": {
        "colab": {
          "base_uri": "https://localhost:8080/",
          "height": 1000
        },
        "id": "7-O1e-lvvbl7",
        "outputId": "ac55e65b-968a-4489-c34a-ef767f730511"
      },
      "outputs": [
        {
          "output_type": "execute_result",
          "data": {
            "text/html": [
              "\n",
              "  <div id=\"df-74712983-ceb7-4b34-a2ce-8c40993a41a9\">\n",
              "    <div class=\"colab-df-container\">\n",
              "      <div>\n",
              "<style scoped>\n",
              "    .dataframe tbody tr th:only-of-type {\n",
              "        vertical-align: middle;\n",
              "    }\n",
              "\n",
              "    .dataframe tbody tr th {\n",
              "        vertical-align: top;\n",
              "    }\n",
              "\n",
              "    .dataframe thead th {\n",
              "        text-align: right;\n",
              "    }\n",
              "</style>\n",
              "<table border=\"1\" class=\"dataframe\">\n",
              "  <thead>\n",
              "    <tr style=\"text-align: right;\">\n",
              "      <th></th>\n",
              "      <th>Country</th>\n",
              "    </tr>\n",
              "    <tr>\n",
              "      <th>Year</th>\n",
              "      <th></th>\n",
              "    </tr>\n",
              "  </thead>\n",
              "  <tbody>\n",
              "    <tr>\n",
              "      <th>1957</th>\n",
              "      <td>1</td>\n",
              "    </tr>\n",
              "    <tr>\n",
              "      <th>1958</th>\n",
              "      <td>1</td>\n",
              "    </tr>\n",
              "    <tr>\n",
              "      <th>1959</th>\n",
              "      <td>1</td>\n",
              "    </tr>\n",
              "    <tr>\n",
              "      <th>1960</th>\n",
              "      <td>1</td>\n",
              "    </tr>\n",
              "    <tr>\n",
              "      <th>1961</th>\n",
              "      <td>2</td>\n",
              "    </tr>\n",
              "    <tr>\n",
              "      <th>1962</th>\n",
              "      <td>2</td>\n",
              "    </tr>\n",
              "    <tr>\n",
              "      <th>1963</th>\n",
              "      <td>2</td>\n",
              "    </tr>\n",
              "    <tr>\n",
              "      <th>1964</th>\n",
              "      <td>2</td>\n",
              "    </tr>\n",
              "    <tr>\n",
              "      <th>1965</th>\n",
              "      <td>2</td>\n",
              "    </tr>\n",
              "    <tr>\n",
              "      <th>1966</th>\n",
              "      <td>2</td>\n",
              "    </tr>\n",
              "    <tr>\n",
              "      <th>1967</th>\n",
              "      <td>2</td>\n",
              "    </tr>\n",
              "    <tr>\n",
              "      <th>1968</th>\n",
              "      <td>2</td>\n",
              "    </tr>\n",
              "    <tr>\n",
              "      <th>1969</th>\n",
              "      <td>2</td>\n",
              "    </tr>\n",
              "    <tr>\n",
              "      <th>1970</th>\n",
              "      <td>2</td>\n",
              "    </tr>\n",
              "    <tr>\n",
              "      <th>1971</th>\n",
              "      <td>2</td>\n",
              "    </tr>\n",
              "    <tr>\n",
              "      <th>1972</th>\n",
              "      <td>2</td>\n",
              "    </tr>\n",
              "    <tr>\n",
              "      <th>1973</th>\n",
              "      <td>2</td>\n",
              "    </tr>\n",
              "    <tr>\n",
              "      <th>1974</th>\n",
              "      <td>2</td>\n",
              "    </tr>\n",
              "    <tr>\n",
              "      <th>1975</th>\n",
              "      <td>2</td>\n",
              "    </tr>\n",
              "    <tr>\n",
              "      <th>1976</th>\n",
              "      <td>2</td>\n",
              "    </tr>\n",
              "    <tr>\n",
              "      <th>1977</th>\n",
              "      <td>2</td>\n",
              "    </tr>\n",
              "    <tr>\n",
              "      <th>1978</th>\n",
              "      <td>2</td>\n",
              "    </tr>\n",
              "    <tr>\n",
              "      <th>1979</th>\n",
              "      <td>2</td>\n",
              "    </tr>\n",
              "    <tr>\n",
              "      <th>1980</th>\n",
              "      <td>2</td>\n",
              "    </tr>\n",
              "    <tr>\n",
              "      <th>1981</th>\n",
              "      <td>2</td>\n",
              "    </tr>\n",
              "    <tr>\n",
              "      <th>1982</th>\n",
              "      <td>2</td>\n",
              "    </tr>\n",
              "    <tr>\n",
              "      <th>1983</th>\n",
              "      <td>2</td>\n",
              "    </tr>\n",
              "    <tr>\n",
              "      <th>1984</th>\n",
              "      <td>2</td>\n",
              "    </tr>\n",
              "    <tr>\n",
              "      <th>1985</th>\n",
              "      <td>2</td>\n",
              "    </tr>\n",
              "    <tr>\n",
              "      <th>1986</th>\n",
              "      <td>2</td>\n",
              "    </tr>\n",
              "    <tr>\n",
              "      <th>1987</th>\n",
              "      <td>2</td>\n",
              "    </tr>\n",
              "    <tr>\n",
              "      <th>1988</th>\n",
              "      <td>2</td>\n",
              "    </tr>\n",
              "    <tr>\n",
              "      <th>1989</th>\n",
              "      <td>2</td>\n",
              "    </tr>\n",
              "    <tr>\n",
              "      <th>1990</th>\n",
              "      <td>2</td>\n",
              "    </tr>\n",
              "    <tr>\n",
              "      <th>1991</th>\n",
              "      <td>2</td>\n",
              "    </tr>\n",
              "    <tr>\n",
              "      <th>1992</th>\n",
              "      <td>2</td>\n",
              "    </tr>\n",
              "    <tr>\n",
              "      <th>1995</th>\n",
              "      <td>1</td>\n",
              "    </tr>\n",
              "    <tr>\n",
              "      <th>1996</th>\n",
              "      <td>1</td>\n",
              "    </tr>\n",
              "    <tr>\n",
              "      <th>1998</th>\n",
              "      <td>1</td>\n",
              "    </tr>\n",
              "  </tbody>\n",
              "</table>\n",
              "</div>\n",
              "      <button class=\"colab-df-convert\" onclick=\"convertToInteractive('df-74712983-ceb7-4b34-a2ce-8c40993a41a9')\"\n",
              "              title=\"Convert this dataframe to an interactive table.\"\n",
              "              style=\"display:none;\">\n",
              "        \n",
              "  <svg xmlns=\"http://www.w3.org/2000/svg\" height=\"24px\"viewBox=\"0 0 24 24\"\n",
              "       width=\"24px\">\n",
              "    <path d=\"M0 0h24v24H0V0z\" fill=\"none\"/>\n",
              "    <path d=\"M18.56 5.44l.94 2.06.94-2.06 2.06-.94-2.06-.94-.94-2.06-.94 2.06-2.06.94zm-11 1L8.5 8.5l.94-2.06 2.06-.94-2.06-.94L8.5 2.5l-.94 2.06-2.06.94zm10 10l.94 2.06.94-2.06 2.06-.94-2.06-.94-.94-2.06-.94 2.06-2.06.94z\"/><path d=\"M17.41 7.96l-1.37-1.37c-.4-.4-.92-.59-1.43-.59-.52 0-1.04.2-1.43.59L10.3 9.45l-7.72 7.72c-.78.78-.78 2.05 0 2.83L4 21.41c.39.39.9.59 1.41.59.51 0 1.02-.2 1.41-.59l7.78-7.78 2.81-2.81c.8-.78.8-2.07 0-2.86zM5.41 20L4 18.59l7.72-7.72 1.47 1.35L5.41 20z\"/>\n",
              "  </svg>\n",
              "      </button>\n",
              "      \n",
              "  <style>\n",
              "    .colab-df-container {\n",
              "      display:flex;\n",
              "      flex-wrap:wrap;\n",
              "      gap: 12px;\n",
              "    }\n",
              "\n",
              "    .colab-df-convert {\n",
              "      background-color: #E8F0FE;\n",
              "      border: none;\n",
              "      border-radius: 50%;\n",
              "      cursor: pointer;\n",
              "      display: none;\n",
              "      fill: #1967D2;\n",
              "      height: 32px;\n",
              "      padding: 0 0 0 0;\n",
              "      width: 32px;\n",
              "    }\n",
              "\n",
              "    .colab-df-convert:hover {\n",
              "      background-color: #E2EBFA;\n",
              "      box-shadow: 0px 1px 2px rgba(60, 64, 67, 0.3), 0px 1px 3px 1px rgba(60, 64, 67, 0.15);\n",
              "      fill: #174EA6;\n",
              "    }\n",
              "\n",
              "    [theme=dark] .colab-df-convert {\n",
              "      background-color: #3B4455;\n",
              "      fill: #D2E3FC;\n",
              "    }\n",
              "\n",
              "    [theme=dark] .colab-df-convert:hover {\n",
              "      background-color: #434B5C;\n",
              "      box-shadow: 0px 1px 3px 1px rgba(0, 0, 0, 0.15);\n",
              "      filter: drop-shadow(0px 1px 2px rgba(0, 0, 0, 0.3));\n",
              "      fill: #FFFFFF;\n",
              "    }\n",
              "  </style>\n",
              "\n",
              "      <script>\n",
              "        const buttonEl =\n",
              "          document.querySelector('#df-74712983-ceb7-4b34-a2ce-8c40993a41a9 button.colab-df-convert');\n",
              "        buttonEl.style.display =\n",
              "          google.colab.kernel.accessAllowed ? 'block' : 'none';\n",
              "\n",
              "        async function convertToInteractive(key) {\n",
              "          const element = document.querySelector('#df-74712983-ceb7-4b34-a2ce-8c40993a41a9');\n",
              "          const dataTable =\n",
              "            await google.colab.kernel.invokeFunction('convertToInteractive',\n",
              "                                                     [key], {});\n",
              "          if (!dataTable) return;\n",
              "\n",
              "          const docLinkHtml = 'Like what you see? Visit the ' +\n",
              "            '<a target=\"_blank\" href=https://colab.research.google.com/notebooks/data_table.ipynb>data table notebook</a>'\n",
              "            + ' to learn more about interactive tables.';\n",
              "          element.innerHTML = '';\n",
              "          dataTable['output_type'] = 'display_data';\n",
              "          await google.colab.output.renderOutput(dataTable, element);\n",
              "          const docLink = document.createElement('div');\n",
              "          docLink.innerHTML = docLinkHtml;\n",
              "          element.appendChild(docLink);\n",
              "        }\n",
              "      </script>\n",
              "    </div>\n",
              "  </div>\n",
              "  "
            ],
            "text/plain": [
              "      Country\n",
              "Year         \n",
              "1957        1\n",
              "1958        1\n",
              "1959        1\n",
              "1960        1\n",
              "1961        2\n",
              "1962        2\n",
              "1963        2\n",
              "1964        2\n",
              "1965        2\n",
              "1966        2\n",
              "1967        2\n",
              "1968        2\n",
              "1969        2\n",
              "1970        2\n",
              "1971        2\n",
              "1972        2\n",
              "1973        2\n",
              "1974        2\n",
              "1975        2\n",
              "1976        2\n",
              "1977        2\n",
              "1978        2\n",
              "1979        2\n",
              "1980        2\n",
              "1981        2\n",
              "1982        2\n",
              "1983        2\n",
              "1984        2\n",
              "1985        2\n",
              "1986        2\n",
              "1987        2\n",
              "1988        2\n",
              "1989        2\n",
              "1990        2\n",
              "1991        2\n",
              "1992        2\n",
              "1995        1\n",
              "1996        1\n",
              "1998        1"
            ]
          },
          "metadata": {},
          "execution_count": 76
        }
      ],
      "source": [
        "USSR_Cold_War = df_data[df_data['Organisation'] == 'RVSN USSR'].groupby('Year').agg({'Country':pd.Series.nunique})\n",
        "USSR_Cold_War"
      ]
    },
    {
      "cell_type": "markdown",
      "metadata": {
        "id": "Os-3A5vLa-q9"
      },
      "source": [
        "\n",
        "## Create a Plotly Pie Chart comparing the total number of launches of the USSR and the USA\n",
        "\n",
        "Hint: Remember to include former Soviet Republics like Kazakhstan when analysing the total number of launches. "
      ]
    },
    {
      "cell_type": "code",
      "execution_count": 84,
      "metadata": {
        "id": "1irc6_W9rD59",
        "colab": {
          "base_uri": "https://localhost:8080/",
          "height": 1000
        },
        "outputId": "80cb031c-5a36-43f0-baf6-4281db38ac24"
      },
      "outputs": [
        {
          "output_type": "execute_result",
          "data": {
            "text/plain": [
              "<matplotlib.axes._subplots.AxesSubplot at 0x7efe341fb250>"
            ]
          },
          "metadata": {},
          "execution_count": 84
        },
        {
          "output_type": "display_data",
          "data": {
            "image/png": "[encoded data removed]",
            "text/plain": [
              "<Figure size 432x288 with 1 Axes>"
            ]
          },
          "metadata": {}
        }
      ],
      "source": [
        "USA_Cold_War.groupby(['Year']).sum().plot(kind='pie', y='Country')"
      ]
    },
    {
      "cell_type": "code",
      "execution_count": 85,
      "metadata": {
        "id": "OhhuLQycrEE-",
        "colab": {
          "base_uri": "https://localhost:8080/",
          "height": 641
        },
        "outputId": "6f82f4c3-5f62-4c3a-d0c9-53e9a40fd19c"
      },
      "outputs": [
        {
          "output_type": "execute_result",
          "data": {
            "text/plain": [
              "<matplotlib.axes._subplots.AxesSubplot at 0x7efe341656d0>"
            ]
          },
          "metadata": {},
          "execution_count": 85
        },
        {
          "output_type": "display_data",
          "data": {
            "image/png": "[encoded data removed]",
            "text/plain": [
              "<Figure size 432x288 with 1 Axes>"
            ]
          },
          "metadata": {}
        }
      ],
      "source": [
        "USSR_Cold_War.groupby(['Year']).sum().plot(kind='pie', y='Country')"
      ]
    },
    {
      "cell_type": "markdown",
      "metadata": {
        "id": "0C29Zz4xa-rA"
      },
      "source": [
        "## Create a Chart that Shows the Total Number of Launches Year-On-Year by the Two Superpowers"
      ]
    },
    {
      "cell_type": "code",
      "execution_count": 90,
      "metadata": {
        "id": "9ISKvOiCrS73",
        "colab": {
          "base_uri": "https://localhost:8080/",
          "height": 296
        },
        "outputId": "c8ef0252-6652-4efa-da39-e15a48eb3972"
      },
      "outputs": [
        {
          "output_type": "execute_result",
          "data": {
            "text/plain": [
              "<matplotlib.axes._subplots.AxesSubplot at 0x7efe33b95e90>"
            ]
          },
          "metadata": {},
          "execution_count": 90
        },
        {
          "output_type": "display_data",
          "data": {
            "image/png": "[encoded data removed]",
            "text/plain": [
              "<Figure size 432x288 with 1 Axes>"
            ]
          },
          "metadata": {
            "needs_background": "light"
          }
        }
      ],
      "source": [
        "pv = pd.pivot_table(USA_Cold_War, index=USA_Cold_War.index,\n",
        "                    values='Country', aggfunc='sum')\n",
        "pv.plot()"
      ]
    },
    {
      "cell_type": "code",
      "execution_count": 91,
      "metadata": {
        "id": "oCc7VTzGrTK-",
        "colab": {
          "base_uri": "https://localhost:8080/",
          "height": 296
        },
        "outputId": "af6d551b-83f7-4f27-ffd1-7345a9c94f80"
      },
      "outputs": [
        {
          "output_type": "execute_result",
          "data": {
            "text/plain": [
              "<matplotlib.axes._subplots.AxesSubplot at 0x7efe33b3c590>"
            ]
          },
          "metadata": {},
          "execution_count": 91
        },
        {
          "output_type": "display_data",
          "data": {
            "image/png": "[encoded data removed]",
            "text/plain": [
              "<Figure size 432x288 with 1 Axes>"
            ]
          },
          "metadata": {
            "needs_background": "light"
          }
        }
      ],
      "source": [
        "pv = pd.pivot_table(USSR_Cold_War, index=USSR_Cold_War.index,\n",
        "                    values='Country', aggfunc='sum')\n",
        "pv.plot()"
      ]
    },
    {
      "cell_type": "markdown",
      "metadata": {
        "id": "eWv4iZmra-rE"
      },
      "source": [
        "## Chart the Total Number of Mission Failures Year on Year."
      ]
    },
    {
      "cell_type": "code",
      "execution_count": 102,
      "metadata": {
        "id": "I-Zss5-Mre-4",
        "colab": {
          "base_uri": "https://localhost:8080/",
          "height": 282
        },
        "outputId": "99b39757-0227-49df-f57f-ef4162c31b87"
      },
      "outputs": [
        {
          "output_type": "execute_result",
          "data": {
            "text/plain": [
              "[<matplotlib.lines.Line2D at 0x7efe330cd210>]"
            ]
          },
          "metadata": {},
          "execution_count": 102
        },
        {
          "output_type": "display_data",
          "data": {
            "image/png": "[encoded data removed]",
            "text/plain": [
              "<Figure size 432x288 with 1 Axes>"
            ]
          },
          "metadata": {
            "needs_background": "light"
          }
        }
      ],
      "source": [
        "plt.plot(Failure_Status.index)"
      ]
    }
  ],
  "metadata": {
    "colab": {
      "collapsed_sections": [],
      "name": "Space_Missions_Analysis_(start).ipynb",
      "provenance": []
    },
    "kernelspec": {
      "display_name": "Python 3",
      "language": "python",
      "name": "python3"
    },
    "language_info": {
      "codemirror_mode": {
        "name": "ipython",
        "version": 3
      },
      "file_extension": ".py",
      "mimetype": "text/x-python",
      "name": "python",
      "nbconvert_exporter": "python",
      "pygments_lexer": "ipython3",
      "version": "3.7.9"
    },
    "papermill": {
      "duration": 28.468597,
      "end_time": "2020-10-20T21:34:26.910951",
      "environment_variables": {},
      "exception": null,
      "input_path": "__notebook__.ipynb",
      "output_path": "__notebook__.ipynb",
      "parameters": {},
      "start_time": "2020-10-20T21:33:58.442354",
      "version": "2.1.0"
    }
  },
  "nbformat": 4,
  "nbformat_minor": 0
}